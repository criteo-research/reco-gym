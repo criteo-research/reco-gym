{
 "cells": [
  {
   "cell_type": "markdown",
   "metadata": {},
   "source": [
    "# Likelihood-based models\n",
    "\n",
    "This notebook will outline the likelihood-based approach to training on Bandit feedback.\n",
    "\n",
    "Although before proceeding, we will study the output of the simulator in a little more detail."
   ]
  },
  {
   "cell_type": "code",
   "execution_count": 1,
   "metadata": {},
   "outputs": [],
   "source": [
    "import math\n",
    "import numpy as np\n",
    "import pandas as pd\n",
    "from numpy.random.mtrand import RandomState\n",
    "from recogym import Configuration\n",
    "from recogym.agents import Agent\n",
    "from sklearn.linear_model import LogisticRegression\n",
    "\n",
    "from recogym.agents import OrganicUserEventCounterAgent, organic_user_count_args\n",
    "from recogym.agents import BanditCount, bandit_count_args, OrganicCount, organic_count_args\n",
    "from recogym.agents import OrganicMFSquare, organic_mf_square_args, BanditMFSquare, bandit_mf_square_args\n",
    "from recogym.agents import RandomAgent, random_args\n",
    "from recogym.agents import FeatureProvider\n",
    "from recogym import Configuration, DefaultContext, Observation\n",
    "from recogym.envs.session import OrganicSessions\n",
    "from recogym.evaluate_agent_sale import verify_agents_sale, plot_verify_agents_sale\n",
    "from recogym.envs.utils_sale import *\n",
    "\n",
    "import gym, recogym\n",
    "from copy import deepcopy\n",
    "from recogym import env_1_sale_args\n",
    "import matplotlib.pyplot as plt\n",
    "import numpy as np\n",
    "\n",
    "%matplotlib inline\n",
    "\n",
    "%config InlineBackend.figure_format = 'retina'\n",
    "plt.rcParams['figure.figsize'] = [6, 3]\n",
    "\n",
    "num_users = 1000\n",
    "\n",
    "env_1_sale_args['sigma_mu_organic'] = 0\n",
    "env_1_sale_args['sigma_omega'] = 1\n",
    "env_1_sale_args['random_seed'] = 42\n",
    "env_1_sale_args['K'] = 5\n",
    "env_1_sale_args['number_of_flips'] = 5\n",
    "env = gym.make('reco-gym-sale-v1')\n",
    "env.init_gym(env_1_sale_args)\n",
    "\n",
    "num_products = env_1_sale_args['num_products']"
   ]
  },
  {
   "cell_type": "code",
   "execution_count": 2,
   "metadata": {},
   "outputs": [
    {
     "name": "stderr",
     "output_type": "stream",
     "text": [
      "Organic Users: 0it [00:00, ?it/s]\n",
      "Users: 100%|███████████████████████████████████████████████████████████████████████| 1000/1000 [00:39<00:00, 25.15it/s]\n"
     ]
    }
   ],
   "source": [
    "data = deepcopy(env).generate_logs(num_users)"
   ]
  },
  {
   "cell_type": "markdown",
   "metadata": {},
   "source": [
    "## Likelihood agent"
   ]
  },
  {
   "cell_type": "code",
   "execution_count": 3,
   "metadata": {},
   "outputs": [],
   "source": [
    "from recogym.envs.utils_sale import CountFeatureProvider, build_train_data, LikelihoodAgent"
   ]
  },
  {
   "cell_type": "code",
   "execution_count": 4,
   "metadata": {},
   "outputs": [],
   "source": [
    "# You can now see data that will be provided to our agents based on logistic regressions.\n",
    "config = Configuration(env_1_sale_args)\n",
    "count_feature_provider = CountFeatureProvider(config=config)\n",
    "\n",
    "user_states, actions, rewards, proba_actions = build_train_data(data, count_feature_provider)"
   ]
  },
  {
   "cell_type": "code",
   "execution_count": 5,
   "metadata": {},
   "outputs": [
    {
     "name": "stdout",
     "output_type": "stream",
     "text": [
      "Estimated sales rate :  [0.01922347 0.02294163 0.02182415 0.02303506 0.02318256 0.02188157\n",
      " 0.0223478  0.02156912 0.02215109 0.0213255 ]\n",
      "Wall time: 1min\n"
     ]
    }
   ],
   "source": [
    "%%time\n",
    "\n",
    "count_product_views_feature_provider = CountFeatureProvider(config)\n",
    "\n",
    "# likelihood agent\n",
    "likelihood_logreg = LikelihoodAgent(count_product_views_feature_provider)\n",
    "likelihood_logreg.train(data)"
   ]
  },
  {
   "cell_type": "markdown",
   "metadata": {},
   "source": [
    "## Baselines"
   ]
  },
  {
   "cell_type": "code",
   "execution_count": 6,
   "metadata": {},
   "outputs": [],
   "source": [
    "from recogym.envs.utils_sale import SingleActionAgent\n",
    "\n",
    "# Initialise baselines\n",
    "random_agent = RandomAgent(Configuration(random_args))\n",
    "sales = [data[\"r\"][data['a']==a].sum() for a in range(num_products)]\n",
    "_, views = np.unique(data[data['z'] == 'organic']['v'], return_counts=True)\n",
    "greedy_bandit = SingleActionAgent(np.argmax(sales), Configuration(env_1_sale_args))\n",
    "greedy_organic = SingleActionAgent(np.argmax(views), Configuration(env_1_sale_args))\n",
    "count_organic = OrganicCount()\n",
    "count_bandit = BanditCount()"
   ]
  },
  {
   "cell_type": "code",
   "execution_count": 7,
   "metadata": {},
   "outputs": [
    {
     "name": "stderr",
     "output_type": "stream",
     "text": [
      "Organic Users: 0it [00:00, ?it/s]\n",
      "Users: 100%|███████████████████████████████████████████████████████████████████████| 2000/2000 [02:09<00:00, 15.50it/s]\n",
      "Organic Users: 0it [00:00, ?it/s]\n",
      "Users: 100%|███████████████████████████████████████████████████████████████████████| 2000/2000 [01:44<00:00, 19.14it/s]\n",
      "Organic Users: 0it [00:00, ?it/s]\n",
      "Users: 100%|███████████████████████████████████████████████████████████████████████| 2000/2000 [01:26<00:00, 23.23it/s]\n",
      "Organic Users: 0it [00:00, ?it/s]\n",
      "Users: 100%|███████████████████████████████████████████████████████████████████████| 2000/2000 [01:28<00:00, 22.59it/s]\n",
      "Organic Users: 0it [00:00, ?it/s]\n",
      "Users: 100%|███████████████████████████████████████████████████████████████████████| 2000/2000 [01:20<00:00, 24.76it/s]\n"
     ]
    }
   ],
   "source": [
    "result_baselines = verify_agents_sale(\n",
    "    env,\n",
    "    number_of_users=2000,\n",
    "    agents={\n",
    "        'random agent': random_agent,\n",
    "        'greedy_organic':greedy_organic,\n",
    "        'greedy_bandit':greedy_bandit,\n",
    "        'count_organic':count_organic,\n",
    "        'count_bandit':count_bandit\n",
    "    }\n",
    ")"
   ]
  },
  {
   "cell_type": "markdown",
   "metadata": {},
   "source": [
    "## Likelihood, user organic count, bandit & organic MF"
   ]
  },
  {
   "cell_type": "code",
   "execution_count": 8,
   "metadata": {},
   "outputs": [],
   "source": [
    "# organic user-specific counter agent\n",
    "organic_user_counter_agent = OrganicUserEventCounterAgent(\n",
    "    Configuration({\n",
    "        **organic_user_count_args,\n",
    "        **env_1_sale_args,\n",
    "        'select_randomly': True,\n",
    "    })\n",
    ")\n",
    "\n",
    "# Organic and bandit MF\n",
    "organic_mf = OrganicMFSquare()\n",
    "bandit_mf = BanditMFSquare()"
   ]
  },
  {
   "cell_type": "code",
   "execution_count": 9,
   "metadata": {},
   "outputs": [
    {
     "name": "stderr",
     "output_type": "stream",
     "text": [
      "Organic Users: 0it [00:00, ?it/s]\n",
      "Users: 100%|███████████████████████████████████████████████████████████████████████| 2000/2000 [01:51<00:00, 18.00it/s]\n",
      "Organic Users: 0it [00:00, ?it/s]\n",
      "Users: 100%|███████████████████████████████████████████████████████████████████████| 2000/2000 [02:27<00:00, 13.53it/s]\n",
      "Organic Users: 0it [00:00, ?it/s]\n",
      "Users: 100%|███████████████████████████████████████████████████████████████████████| 2000/2000 [01:34<00:00, 21.27it/s]\n",
      "Organic Users: 0it [00:00, ?it/s]\n",
      "Users: 100%|███████████████████████████████████████████████████████████████████████| 2000/2000 [02:13<00:00, 15.00it/s]\n"
     ]
    }
   ],
   "source": [
    "result = verify_agents_sale(\n",
    "    env,\n",
    "    number_of_users=2000,\n",
    "    agents={\n",
    "        'Organic User Count': organic_user_counter_agent,\n",
    "        'Likelihood LogReg': likelihood_logreg,\n",
    "        'Organic MF' : organic_mf,\n",
    "        'Bandit MF' : bandit_mf\n",
    "    }\n",
    ")"
   ]
  },
  {
   "cell_type": "markdown",
   "metadata": {},
   "source": [
    "## Contextual bandit : vanilla, log & POEM"
   ]
  },
  {
   "cell_type": "code",
   "execution_count": 10,
   "metadata": {},
   "outputs": [
    {
     "data": {
      "image/png": "[encoded data removed]",
      "text/plain": [
       "<Figure size 432x216 with 1 Axes>"
      ]
     },
     "metadata": {
      "image/png": {
       "height": 207,
       "width": 394
      },
      "needs_background": "light"
     },
     "output_type": "display_data"
    },
    {
     "name": "stderr",
     "output_type": "stream",
     "text": [
      "Organic Users: 0it [00:00, ?it/s]\n",
      "Users: 100%|███████████████████████████████████████████████████████████████████████| 2000/2000 [01:41<00:00, 19.63it/s]\n"
     ]
    }
   ],
   "source": [
    "from recogym.envs.utils_sale import ProductCountFeatureProvider, VanillaContextualBandit, MultinomialLogisticRegressionModel,build_rectangular_data\n",
    "from recogym.envs.utils_sale import LogContextualBandit, PoemContextualBandit\n",
    "\n",
    "rectangular_logs = build_rectangular_data(data, count_product_views_feature_provider)\n",
    "\n",
    "vanilla_cb = VanillaContextualBandit({}, max_epoch=100)\n",
    "vanilla_cb.train(rectangular_logs)\n",
    "vanilla_cb.plot_loss_history()\n",
    "result_AB_vanillaCB = verify_agents_sale(env, 2000, {'Contextual Bandit': vanilla_cb})\n"
   ]
  },
  {
   "cell_type": "code",
   "execution_count": 11,
   "metadata": {},
   "outputs": [
    {
     "data": {
      "image/png": "[encoded data removed]",
      "text/plain": [
       "<Figure size 432x216 with 1 Axes>"
      ]
     },
     "metadata": {
      "image/png": {
       "height": 207,
       "width": 394
      },
      "needs_background": "light"
     },
     "output_type": "display_data"
    },
    {
     "name": "stderr",
     "output_type": "stream",
     "text": [
      "Organic Users: 0it [00:00, ?it/s]\n",
      "Users: 100%|███████████████████████████████████████████████████████████████████████| 2000/2000 [01:45<00:00, 19.04it/s]\n"
     ]
    }
   ],
   "source": [
    "log_cb = LogContextualBandit({}, max_epoch=200)\n",
    "log_cb.train(rectangular_logs)\n",
    "log_cb.plot_loss_history()\n",
    "result_AB_LogCB = verify_agents_sale(env, 2000, {'Log Contextual Bandit': log_cb})"
   ]
  },
  {
   "cell_type": "code",
   "execution_count": 46,
   "metadata": {},
   "outputs": [
    {
     "data": {
      "image/png": "[encoded data removed]",
      "text/plain": [
       "<Figure size 432x216 with 1 Axes>"
      ]
     },
     "metadata": {
      "image/png": {
       "height": 207,
       "width": 400
      },
      "needs_background": "light"
     },
     "output_type": "display_data"
    },
    {
     "name": "stderr",
     "output_type": "stream",
     "text": [
      "Organic Users: 0it [00:00, ?it/s]\n",
      "Users: 100%|███████████████████████████████████████████████████████████████████████| 2000/2000 [01:47<00:00, 18.61it/s]\n"
     ]
    }
   ],
   "source": [
    "poem = PoemContextualBandit({}, variance_penalization_factor=0.4, max_epoch=100)\n",
    "poem.train(rectangular_logs)\n",
    "poem.plot_loss_history()\n",
    "result_AB_POEM = verify_agents_sale(env, 2000, {f'POEM': poem})"
   ]
  },
  {
   "cell_type": "markdown",
   "metadata": {},
   "source": [
    "## Oracles"
   ]
  },
  {
   "cell_type": "code",
   "execution_count": 320,
   "metadata": {},
   "outputs": [],
   "source": [
    "class ViewSaleOracleAgent(Agent, RecoEnv1Sale):\n",
    "    \"\"\"\n",
    "    Sale Oracle\n",
    "\n",
    "    Has access to user and product features and popularity\n",
    "    \"\"\"\n",
    "\n",
    "    def __init__(self, env):\n",
    "        super(ViewSaleOracleAgent, self).__init__(env)\n",
    "        self.env = env\n",
    "\n",
    "    def act(self, observation, reward, done):\n",
    "        \"\"\"Make a recommendation\"\"\"\n",
    "        self.omega = self.env.omega\n",
    "        self.delta = self.env.delta\n",
    "        if \"delta_for_views\" in dir(self.env.config) is not None & self.env.config.delta_for_views == True :\n",
    "            self.user_feature_view = self.delta\n",
    "        else :\n",
    "            self.user_feature_view = self.omega\n",
    "        \n",
    "        # Proba of viewing each product\n",
    "        log_proba_view = np.array([self.user_feature_view[:,0]@self.Gamma[int(a),:] + self.mu_organic[int(a)] for a in range(self.env.config.num_products)])\n",
    "        proba_view = np.exp(log_proba_view - max(log_proba_view))\n",
    "        proba_view = proba_view / proba_view.sum()\n",
    "        proba_view = proba_view[:,0]\n",
    "        \n",
    "        # Difference in sale mean for each product if the product is recommended\n",
    "        proba_with_click = np.array([sig(((1-self.kappa)*self.delta[:,0] + self.kappa*self.Lambda[int(a),:])@self.Lambda[int(a),:]) for a in range(self.env.config.num_products)])\n",
    "        proba_no_click = np.array([sig(self.delta[:,0]@self.Lambda[int(a),:]) for a in range(self.env.config.num_products)])\n",
    "        \n",
    "        proba_difference = proba_with_click - proba_no_click\n",
    "        \n",
    "        # Take argmax\n",
    "        action = np.argmax(proba_view * proba_difference)\n",
    "        self.list_actions.append(action)\n",
    "        \n",
    "        if self.env.config.with_ps_all:\n",
    "            ps_all = np.zeros(self.config.num_products)\n",
    "            ps_all[action] = 1.0\n",
    "        else:\n",
    "            ps_all = ()\n",
    "\n",
    "        return {\n",
    "            **super().act(observation, reward, done),\n",
    "            **{\n",
    "                'a': action,\n",
    "                'ps': self.env.config.psale_scale*sig(self.Lambda[int(action),:] @ (self.delta))[0],\n",
    "                'ps-a': ps_all,\n",
    "            },\n",
    "        }\n",
    "\n",
    "    def history(self):\n",
    "        return self.list_actions\n",
    "\n",
    "    def reset(self):\n",
    "        self.list_actions = []\n",
    "        self.kappa = self.env.config.kappa\n",
    "        self.omega = self.env.omega\n",
    "        self.delta = self.env.delta\n",
    "        if \"delta_for_views\" in dir(self.env.config) is not None & self.env.config.delta_for_views == True :\n",
    "            self.user_feature_view = self.delta\n",
    "        else :\n",
    "            self.user_feature_view = self.omega\n",
    "        self.Lambda = self.env.Lambda\n",
    "        self.Gamma = self.env.Gamma\n",
    "        self.mu_organic = self.env.mu_organic\n",
    "        self.list_actions = []\n",
    "\n"
   ]
  },
  {
   "cell_type": "code",
   "execution_count": 339,
   "metadata": {},
   "outputs": [],
   "source": [
    "class ClickViewSaleOracleAgent(Agent, RecoEnv1Sale):\n",
    "    \"\"\"\n",
    "    Sale Oracle\n",
    "\n",
    "    Has access to user and product features and popularity\n",
    "    \"\"\"\n",
    "\n",
    "    def __init__(self, env):\n",
    "        super(ClickViewSaleOracleAgent, self).__init__(env)\n",
    "        self.env = env\n",
    "\n",
    "    def act(self, observation, reward, done):\n",
    "        \"\"\"Make a recommendation\"\"\"\n",
    "        self.omega = self.env.omega\n",
    "        self.delta = self.env.delta\n",
    "        \n",
    "        if \"delta_for_views\" in dir(self.env.config) is not None & self.env.config.delta_for_views == True :\n",
    "            self.user_feature_view = self.delta\n",
    "        else :\n",
    "            self.user_feature_view = self.omega\n",
    "        \n",
    "        if (\"delta_for_clicks\" in dir(self.env.config)) & (self.env.config.delta_for_clicks == 1):\n",
    "            self.user_feature_click = self.delta\n",
    "        else :\n",
    "            self.user_feature_click = self.omega\n",
    "        \n",
    "\n",
    "        # Proba of clicking for each product\n",
    "        proba_click = np.array([ff(self.user_feature_click[:,0]@self.beta[int(a),:] + self.mu_bandit[int(a)]) for a in range(self.env.config.num_products)])\n",
    "        \n",
    "        # Proba of viewing each product\n",
    "        log_proba_view = np.array([self.user_feature_view[:,0]@self.Gamma[int(a),:] + self.mu_organic[int(a)] for a in range(self.env.config.num_products)])\n",
    "        proba_view = np.exp(log_proba_view - max(log_proba_view))\n",
    "        proba_view = proba_view / proba_view.sum()\n",
    "        proba_view = proba_view[:,0]\n",
    "        \n",
    "        # Difference in sale mean for each product if the product is recommended\n",
    "        proba_with_click = np.array([sig(((1-self.kappa)*self.delta[:,0] + self.kappa*self.Lambda[int(a),:])@self.Lambda[int(a),:]) for a in range(self.env.config.num_products)])\n",
    "        proba_no_click = np.array([sig(self.delta[:,0]@self.Lambda[int(a),:]) for a in range(self.env.config.num_products)])\n",
    "        proba_difference = proba_with_click - proba_no_click\n",
    "        \n",
    "        # Take argmax\n",
    "        action = np.argmax(proba_view * proba_difference)\n",
    "        self.list_actions.append(action)\n",
    "        \n",
    "        if self.env.config.with_ps_all:\n",
    "            ps_all = np.zeros(self.config.num_products)\n",
    "            ps_all[action] = 1.0\n",
    "        else:\n",
    "            ps_all = ()\n",
    "\n",
    "        return {\n",
    "            **super().act(observation, reward, done),\n",
    "            **{\n",
    "                'a': action,\n",
    "                'ps': self.env.config.psale_scale*sig(self.Lambda[int(action),:] @ (self.delta))[0],\n",
    "                'ps-a': ps_all,\n",
    "            },\n",
    "        }\n",
    "\n",
    "    def history(self):\n",
    "        return self.list_actions\n",
    "\n",
    "    def reset(self):\n",
    "        self.list_actions = []\n",
    "        self.kappa = self.env.config.kappa\n",
    "        self.omega = self.env.omega\n",
    "        self.delta = self.env.delta\n",
    "        \n",
    "        if \"delta_for_views\" in dir(self.env.config) is not None & self.env.config.delta_for_views == True :\n",
    "            self.user_feature_view = self.delta\n",
    "        else :\n",
    "            self.user_feature_view = self.omega\n",
    "        \n",
    "        if (\"delta_for_clicks\" in dir(self.env.config)) & (self.env.config.delta_for_clicks ==1) :\n",
    "            self.user_feature_click = self.delta\n",
    "        else :\n",
    "            self.user_feature_click = self.omega\n",
    "        self.beta = self.env.beta\n",
    "        self.Lambda = self.env.Lambda\n",
    "        self.Gamma = self.env.Gamma\n",
    "        self.mu_organic = self.env.mu_organic\n",
    "        self.mu_bandit = self.env.mu_bandit\n",
    "        self.list_actions = []\n",
    "\n"
   ]
  },
  {
   "cell_type": "code",
   "execution_count": null,
   "metadata": {},
   "outputs": [
    {
     "name": "stderr",
     "output_type": "stream",
     "text": [
      "Organic Users: 0it [00:00, ?it/s]\n",
      "Users:   5%|███▋                                                                    | 104/2000 [00:23<11:19,  2.79it/s]"
     ]
    }
   ],
   "source": [
    "# from recogym.agents.sale_oracle import ClickViewSaleOracleAgent\n",
    "\n",
    "cvs_oracle = ClickViewSaleOracleAgent(env=env)\n",
    "cvs_oracle.reset()\n",
    "result_cvs_oracle = verify_agents_sale(env, 2000, {'Click View Sale oracle': cvs_oracle}, agent_reset = True)"
   ]
  },
  {
   "cell_type": "code",
   "execution_count": 322,
   "metadata": {},
   "outputs": [
    {
     "name": "stderr",
     "output_type": "stream",
     "text": [
      "Organic Users: 0it [00:00, ?it/s]\n",
      "Users: 100%|███████████████████████████████████████████████████████████████████████| 2000/2000 [03:02<00:00, 10.98it/s]\n"
     ]
    }
   ],
   "source": [
    "# from recogym.agents.sale_oracle import ViewSaleOracleAgent\n",
    "vs_oracle = ViewSaleOracleAgent(env=env)\n",
    "vs_oracle.reset()\n",
    "result_vs_oracle = verify_agents_sale(env, 2000, {'View Sale oracle': vs_oracle}, agent_reset = True)"
   ]
  },
  {
   "cell_type": "code",
   "execution_count": 282,
   "metadata": {},
   "outputs": [
    {
     "name": "stderr",
     "output_type": "stream",
     "text": [
      "Organic Users: 0it [00:00, ?it/s]\n",
      "Users: 100%|███████████████████████████████████████████████████████████████████████| 2000/2000 [01:19<00:00, 25.10it/s]\n"
     ]
    }
   ],
   "source": [
    "# from recogym.agents.sale_oracle import SaleOracleAgent\n",
    "sale_oracle = SaleOracleAgent(env = env)\n",
    "sale_oracle.reset()\n",
    "result_AB_sale_oracle = verify_agents_sale(deepcopy(env), 2000, {'Sale oracle': sale_oracle})"
   ]
  },
  {
   "cell_type": "markdown",
   "metadata": {},
   "source": [
    "## Compare results"
   ]
  },
  {
   "cell_type": "code",
   "execution_count": null,
   "metadata": {},
   "outputs": [],
   "source": [
    "result_concat = (pd.concat([result_baselines[0],result[0],\n",
    "                            result_AB_vanillaCB[0],result_AB_LogCB[0],\n",
    "                            result_AB_POEM[0],\n",
    "#                             result_AB_test[0],\n",
    "                            result_AB_sale_oracle[0],\n",
    "                            result_vs_oracle[0],\n",
    "                            result_cvs_oracle[0]\n",
    "                           ]),\n",
    "                pd.concat([result_baselines[1],result[1],\n",
    "                           result_AB_vanillaCB[1],result_AB_LogCB[1],\n",
    "                           result_AB_POEM[1],\n",
    "#                            result_AB_test[1],\n",
    "                           result_AB_sale_oracle[1],\n",
    "                           result_vs_oracle[1],\n",
    "                           result_cvs_oracle[1]\n",
    "                          ]))"
   ]
  },
  {
   "cell_type": "code",
   "execution_count": null,
   "metadata": {},
   "outputs": [],
   "source": [
    "result_concat[0]"
   ]
  },
  {
   "cell_type": "code",
   "execution_count": null,
   "metadata": {},
   "outputs": [],
   "source": [
    "fig = plot_verify_agents_sale(*result_concat)\n",
    "plt.show()"
   ]
  }
 ],
 "metadata": {
  "kernelspec": {
   "display_name": "Python 3",
   "language": "python",
   "name": "python3"
  },
  "language_info": {
   "codemirror_mode": {
    "name": "ipython",
    "version": 3
   },
   "file_extension": ".py",
   "mimetype": "text/x-python",
   "name": "python",
   "nbconvert_exporter": "python",
   "pygments_lexer": "ipython3",
   "version": "3.7.4"
  }
 },
 "nbformat": 4,
 "nbformat_minor": 4
}
