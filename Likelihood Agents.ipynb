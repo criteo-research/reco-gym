{
 "cells": [
  {
   "cell_type": "markdown",
   "metadata": {},
   "source": [
    "# Learning from Logged Bandit Feedbacks\n",
    "\n",
    "One of the most common ways that recommender systems are developed in practice involves building **models** trained on the historical behaviour of the running policy.  This is to be distinguished from bandit approaches such as _Upper Confidence Bound_ or _Thompson Sampling_ or _Full Reinforcement Learning_ as in these systems there is no clear separation between a learning stage and an acting stage.  In the approaches considered here, we first learn a model and then deploy a static model that does not change further.\n",
    "\n",
    "Here we describe a simple supervised approach where we model the probability of the click conditional upon features that are created from a combination of the user's attributes and the recommendation."
   ]
  },
  {
   "cell_type": "markdown",
   "metadata": {},
   "source": [
    "# The Data"
   ]
  },
  {
   "cell_type": "code",
   "execution_count": 1,
   "metadata": {},
   "outputs": [],
   "source": [
    "import gym, recogym\n",
    "from copy import deepcopy\n",
    "from recogym import env_1_args\n",
    "import matplotlib.pyplot as plt\n",
    "import numpy as np\n",
    "\n",
    "%matplotlib notebook\n",
    "%config InlineBackend.figure_format = 'retina'\n",
    "plt.rcParams['figure.figsize'] = [6, 3]\n",
    "\n",
    "ABTestNumberOfUsers = 10000\n",
    "RandomSeed = 42\n",
    "NumberOfProducts = 10\n",
    "\n",
    "NumberOfSamples = 20\n",
    "\n",
    "env_1_args['random_seed'] = RandomSeed\n",
    "env_1_args['num_products'] = NumberOfProducts\n",
    "env_1_args['K'] = 5\n",
    "env_1_args['number_of_flips'] = 1\n",
    "\n",
    "env = gym.make('reco-gym-v1')\n",
    "env.init_gym(env_1_args)"
   ]
  },
  {
   "cell_type": "code",
   "execution_count": 2,
   "metadata": {},
   "outputs": [],
   "source": [
    "data = deepcopy(env).generate_logs(ABTestNumberOfUsers)"
   ]
  },
  {
   "cell_type": "markdown",
   "metadata": {},
   "source": [
    "Let's examine the content of the logs."
   ]
  },
  {
   "cell_type": "code",
   "execution_count": 3,
   "metadata": {},
   "outputs": [
    {
     "data": {
      "text/html": [
       "<div>\n",
       "<style scoped>\n",
       "    .dataframe tbody tr th:only-of-type {\n",
       "        vertical-align: middle;\n",
       "    }\n",
       "\n",
       "    .dataframe tbody tr th {\n",
       "        vertical-align: top;\n",
       "    }\n",
       "\n",
       "    .dataframe thead th {\n",
       "        text-align: right;\n",
       "    }\n",
       "</style>\n",
       "<table border=\"1\" class=\"dataframe\">\n",
       "  <thead>\n",
       "    <tr style=\"text-align: right;\">\n",
       "      <th></th>\n",
       "      <th>a</th>\n",
       "      <th>c</th>\n",
       "      <th>ps</th>\n",
       "      <th>ps-a</th>\n",
       "      <th>t</th>\n",
       "      <th>u</th>\n",
       "      <th>v</th>\n",
       "      <th>z</th>\n",
       "    </tr>\n",
       "  </thead>\n",
       "  <tbody>\n",
       "    <tr>\n",
       "      <th>0</th>\n",
       "      <td>NaN</td>\n",
       "      <td>NaN</td>\n",
       "      <td>NaN</td>\n",
       "      <td>None</td>\n",
       "      <td>0</td>\n",
       "      <td>0</td>\n",
       "      <td>0.0</td>\n",
       "      <td>organic</td>\n",
       "    </tr>\n",
       "    <tr>\n",
       "      <th>1</th>\n",
       "      <td>3.0</td>\n",
       "      <td>0.0</td>\n",
       "      <td>0.1</td>\n",
       "      <td>[0.1, 0.1, 0.1, 0.1, 0.1, 0.1, 0.1, 0.1, 0.1, ...</td>\n",
       "      <td>1</td>\n",
       "      <td>0</td>\n",
       "      <td>NaN</td>\n",
       "      <td>bandit</td>\n",
       "    </tr>\n",
       "    <tr>\n",
       "      <th>2</th>\n",
       "      <td>4.0</td>\n",
       "      <td>0.0</td>\n",
       "      <td>0.1</td>\n",
       "      <td>[0.1, 0.1, 0.1, 0.1, 0.1, 0.1, 0.1, 0.1, 0.1, ...</td>\n",
       "      <td>2</td>\n",
       "      <td>0</td>\n",
       "      <td>NaN</td>\n",
       "      <td>bandit</td>\n",
       "    </tr>\n",
       "    <tr>\n",
       "      <th>3</th>\n",
       "      <td>5.0</td>\n",
       "      <td>0.0</td>\n",
       "      <td>0.1</td>\n",
       "      <td>[0.1, 0.1, 0.1, 0.1, 0.1, 0.1, 0.1, 0.1, 0.1, ...</td>\n",
       "      <td>3</td>\n",
       "      <td>0</td>\n",
       "      <td>NaN</td>\n",
       "      <td>bandit</td>\n",
       "    </tr>\n",
       "    <tr>\n",
       "      <th>4</th>\n",
       "      <td>NaN</td>\n",
       "      <td>NaN</td>\n",
       "      <td>NaN</td>\n",
       "      <td>None</td>\n",
       "      <td>0</td>\n",
       "      <td>1</td>\n",
       "      <td>1.0</td>\n",
       "      <td>organic</td>\n",
       "    </tr>\n",
       "    <tr>\n",
       "      <th>5</th>\n",
       "      <td>2.0</td>\n",
       "      <td>0.0</td>\n",
       "      <td>0.1</td>\n",
       "      <td>[0.1, 0.1, 0.1, 0.1, 0.1, 0.1, 0.1, 0.1, 0.1, ...</td>\n",
       "      <td>1</td>\n",
       "      <td>1</td>\n",
       "      <td>NaN</td>\n",
       "      <td>bandit</td>\n",
       "    </tr>\n",
       "    <tr>\n",
       "      <th>6</th>\n",
       "      <td>8.0</td>\n",
       "      <td>0.0</td>\n",
       "      <td>0.1</td>\n",
       "      <td>[0.1, 0.1, 0.1, 0.1, 0.1, 0.1, 0.1, 0.1, 0.1, ...</td>\n",
       "      <td>2</td>\n",
       "      <td>1</td>\n",
       "      <td>NaN</td>\n",
       "      <td>bandit</td>\n",
       "    </tr>\n",
       "    <tr>\n",
       "      <th>7</th>\n",
       "      <td>4.0</td>\n",
       "      <td>0.0</td>\n",
       "      <td>0.1</td>\n",
       "      <td>[0.1, 0.1, 0.1, 0.1, 0.1, 0.1, 0.1, 0.1, 0.1, ...</td>\n",
       "      <td>3</td>\n",
       "      <td>1</td>\n",
       "      <td>NaN</td>\n",
       "      <td>bandit</td>\n",
       "    </tr>\n",
       "    <tr>\n",
       "      <th>8</th>\n",
       "      <td>NaN</td>\n",
       "      <td>NaN</td>\n",
       "      <td>NaN</td>\n",
       "      <td>None</td>\n",
       "      <td>4</td>\n",
       "      <td>1</td>\n",
       "      <td>4.0</td>\n",
       "      <td>organic</td>\n",
       "    </tr>\n",
       "    <tr>\n",
       "      <th>9</th>\n",
       "      <td>NaN</td>\n",
       "      <td>NaN</td>\n",
       "      <td>NaN</td>\n",
       "      <td>None</td>\n",
       "      <td>5</td>\n",
       "      <td>1</td>\n",
       "      <td>4.0</td>\n",
       "      <td>organic</td>\n",
       "    </tr>\n",
       "    <tr>\n",
       "      <th>10</th>\n",
       "      <td>NaN</td>\n",
       "      <td>NaN</td>\n",
       "      <td>NaN</td>\n",
       "      <td>None</td>\n",
       "      <td>6</td>\n",
       "      <td>1</td>\n",
       "      <td>4.0</td>\n",
       "      <td>organic</td>\n",
       "    </tr>\n",
       "    <tr>\n",
       "      <th>11</th>\n",
       "      <td>NaN</td>\n",
       "      <td>NaN</td>\n",
       "      <td>NaN</td>\n",
       "      <td>None</td>\n",
       "      <td>7</td>\n",
       "      <td>1</td>\n",
       "      <td>4.0</td>\n",
       "      <td>organic</td>\n",
       "    </tr>\n",
       "    <tr>\n",
       "      <th>12</th>\n",
       "      <td>NaN</td>\n",
       "      <td>NaN</td>\n",
       "      <td>NaN</td>\n",
       "      <td>None</td>\n",
       "      <td>8</td>\n",
       "      <td>1</td>\n",
       "      <td>4.0</td>\n",
       "      <td>organic</td>\n",
       "    </tr>\n",
       "    <tr>\n",
       "      <th>13</th>\n",
       "      <td>NaN</td>\n",
       "      <td>NaN</td>\n",
       "      <td>NaN</td>\n",
       "      <td>None</td>\n",
       "      <td>9</td>\n",
       "      <td>1</td>\n",
       "      <td>6.0</td>\n",
       "      <td>organic</td>\n",
       "    </tr>\n",
       "    <tr>\n",
       "      <th>14</th>\n",
       "      <td>NaN</td>\n",
       "      <td>NaN</td>\n",
       "      <td>NaN</td>\n",
       "      <td>None</td>\n",
       "      <td>10</td>\n",
       "      <td>1</td>\n",
       "      <td>4.0</td>\n",
       "      <td>organic</td>\n",
       "    </tr>\n",
       "    <tr>\n",
       "      <th>15</th>\n",
       "      <td>NaN</td>\n",
       "      <td>NaN</td>\n",
       "      <td>NaN</td>\n",
       "      <td>None</td>\n",
       "      <td>11</td>\n",
       "      <td>1</td>\n",
       "      <td>4.0</td>\n",
       "      <td>organic</td>\n",
       "    </tr>\n",
       "    <tr>\n",
       "      <th>16</th>\n",
       "      <td>NaN</td>\n",
       "      <td>NaN</td>\n",
       "      <td>NaN</td>\n",
       "      <td>None</td>\n",
       "      <td>12</td>\n",
       "      <td>1</td>\n",
       "      <td>4.0</td>\n",
       "      <td>organic</td>\n",
       "    </tr>\n",
       "    <tr>\n",
       "      <th>17</th>\n",
       "      <td>NaN</td>\n",
       "      <td>NaN</td>\n",
       "      <td>NaN</td>\n",
       "      <td>None</td>\n",
       "      <td>13</td>\n",
       "      <td>1</td>\n",
       "      <td>6.0</td>\n",
       "      <td>organic</td>\n",
       "    </tr>\n",
       "    <tr>\n",
       "      <th>18</th>\n",
       "      <td>NaN</td>\n",
       "      <td>NaN</td>\n",
       "      <td>NaN</td>\n",
       "      <td>None</td>\n",
       "      <td>14</td>\n",
       "      <td>1</td>\n",
       "      <td>4.0</td>\n",
       "      <td>organic</td>\n",
       "    </tr>\n",
       "    <tr>\n",
       "      <th>19</th>\n",
       "      <td>NaN</td>\n",
       "      <td>NaN</td>\n",
       "      <td>NaN</td>\n",
       "      <td>None</td>\n",
       "      <td>15</td>\n",
       "      <td>1</td>\n",
       "      <td>1.0</td>\n",
       "      <td>organic</td>\n",
       "    </tr>\n",
       "  </tbody>\n",
       "</table>\n",
       "</div>"
      ],
      "text/plain": [
       "      a    c   ps                                               ps-a   t  u  \\\n",
       "0   NaN  NaN  NaN                                               None   0  0   \n",
       "1   3.0  0.0  0.1  [0.1, 0.1, 0.1, 0.1, 0.1, 0.1, 0.1, 0.1, 0.1, ...   1  0   \n",
       "2   4.0  0.0  0.1  [0.1, 0.1, 0.1, 0.1, 0.1, 0.1, 0.1, 0.1, 0.1, ...   2  0   \n",
       "3   5.0  0.0  0.1  [0.1, 0.1, 0.1, 0.1, 0.1, 0.1, 0.1, 0.1, 0.1, ...   3  0   \n",
       "4   NaN  NaN  NaN                                               None   0  1   \n",
       "5   2.0  0.0  0.1  [0.1, 0.1, 0.1, 0.1, 0.1, 0.1, 0.1, 0.1, 0.1, ...   1  1   \n",
       "6   8.0  0.0  0.1  [0.1, 0.1, 0.1, 0.1, 0.1, 0.1, 0.1, 0.1, 0.1, ...   2  1   \n",
       "7   4.0  0.0  0.1  [0.1, 0.1, 0.1, 0.1, 0.1, 0.1, 0.1, 0.1, 0.1, ...   3  1   \n",
       "8   NaN  NaN  NaN                                               None   4  1   \n",
       "9   NaN  NaN  NaN                                               None   5  1   \n",
       "10  NaN  NaN  NaN                                               None   6  1   \n",
       "11  NaN  NaN  NaN                                               None   7  1   \n",
       "12  NaN  NaN  NaN                                               None   8  1   \n",
       "13  NaN  NaN  NaN                                               None   9  1   \n",
       "14  NaN  NaN  NaN                                               None  10  1   \n",
       "15  NaN  NaN  NaN                                               None  11  1   \n",
       "16  NaN  NaN  NaN                                               None  12  1   \n",
       "17  NaN  NaN  NaN                                               None  13  1   \n",
       "18  NaN  NaN  NaN                                               None  14  1   \n",
       "19  NaN  NaN  NaN                                               None  15  1   \n",
       "\n",
       "      v        z  \n",
       "0   0.0  organic  \n",
       "1   NaN   bandit  \n",
       "2   NaN   bandit  \n",
       "3   NaN   bandit  \n",
       "4   1.0  organic  \n",
       "5   NaN   bandit  \n",
       "6   NaN   bandit  \n",
       "7   NaN   bandit  \n",
       "8   4.0  organic  \n",
       "9   4.0  organic  \n",
       "10  4.0  organic  \n",
       "11  4.0  organic  \n",
       "12  4.0  organic  \n",
       "13  6.0  organic  \n",
       "14  4.0  organic  \n",
       "15  4.0  organic  \n",
       "16  4.0  organic  \n",
       "17  6.0  organic  \n",
       "18  4.0  organic  \n",
       "19  1.0  organic  "
      ]
     },
     "execution_count": 3,
     "metadata": {},
     "output_type": "execute_result"
    }
   ],
   "source": [
    "data[:NumberOfSamples]"
   ]
  },
  {
   "cell_type": "code",
   "execution_count": 4,
   "metadata": {},
   "outputs": [
    {
     "name": "stdout",
     "output_type": "stream",
     "text": [
      "Data Shape: (1005241, 8)\n"
     ]
    }
   ],
   "source": [
    "print(\"Data Shape:\", data.shape)"
   ]
  },
  {
   "cell_type": "markdown",
   "metadata": {},
   "source": [
    "Here is the data the following columns are present:\n",
    "* **`t`**—_`Time`_. Currently, _`Time`_ reflects the order of _`Events`_ but it does **not** represent the notion of the time in a physical sense.\n",
    "* **`u`**—_`User`_.\n",
    "* **`z`**—_`Event Type`_. There are two types of _`Events`_: _Organic_ and _Bandit_.\n",
    "* **`v`**—_`View`_. The column shows which _`Product`_ was shown to a _`User`_ in an _Organic_ _`Event`_.\n",
    "* **`a`**—_`Action`_. Currently, _`Action`_ is a _`Product`_ that was provided to a _`User`_ during a _Bandit_ _`Event`_.\n",
    "* **`c`**—_`Click`_. This is a _Reward_ for an _`Action`_ provided by the _`Agent`_.\n",
    "* **`ps`**—Probability of selecting a particular _`Action`_.\n",
    "\n",
    "**Note #1:** _`Time`_, _`User`_, _`Views`_, and _`Actions`_ **all** them start with _`0`_.\n",
    "\n",
    "**Note #2:** For any _`User`_, _Organic_ _`Event`_ _**always**_ precedes a _Bandit_ _`Event`_."
   ]
  },
  {
   "cell_type": "markdown",
   "metadata": {},
   "source": [
    "## Data Analysis\n",
    "Let's analyse these histograms:\n",
    "* _Actions per Product_\n",
    "* _Clicks per Product_\n",
    "* _Views per Product_."
   ]
  },
  {
   "cell_type": "code",
   "execution_count": 5,
   "metadata": {
    "scrolled": true
   },
   "outputs": [
    {
     "data": {
      "image/png": "[encoded data removed]",
      "text/plain": [
       "<matplotlib.figure.Figure at 0x123c58cc0>"
      ]
     },
     "metadata": {
      "image/png": {
       "height": 263,
       "width": 390
      }
     },
     "output_type": "display_data"
    }
   ],
   "source": [
    "_, ax = plt.subplots()\n",
    "ax.set_title('Histogram of Actions per Product')\n",
    "\n",
    "ax.hist(data[data['z'] == 'bandit']['a'])\n",
    "plt.show()"
   ]
  },
  {
   "cell_type": "markdown",
   "metadata": {},
   "source": [
    "It is evident that all _`Actions`_ are _*evenly*_ distributed.\n",
    "That is an expected behaviour because *all* _`Actions`_ are randomly applied for all _Bandit_ _`Events`_."
   ]
  },
  {
   "cell_type": "code",
   "execution_count": 6,
   "metadata": {
    "scrolled": true
   },
   "outputs": [
    {
     "name": "stdout",
     "output_type": "stream",
     "text": [
      "Clicks:  [924.0, 732.0, 1038.0, 626.0, 1187.0, 1129.0, 609.0, 709.0, 840.0, 1136.0]\n"
     ]
    },
    {
     "data": {
      "image/png": "[encoded data removed]",
      "text/plain": [
       "<matplotlib.figure.Figure at 0x1294c5ac8>"
      ]
     },
     "metadata": {
      "image/png": {
       "height": 263,
       "width": 383
      }
     },
     "output_type": "display_data"
    }
   ],
   "source": [
    "clicks = []\n",
    "bandits = data[data['z'] == 'bandit']\n",
    "for product_id in range(NumberOfProducts):\n",
    "    actions = bandits[bandits['a'] == product_id]\n",
    "    clicks.append(np.sum(actions[actions['c'] == 1]['c']))\n",
    "    \n",
    "print(\"Clicks: \", clicks)\n",
    "\n",
    "_, ax = plt.subplots()\n",
    "ax.set_title('Histogram of Clicks per Product')\n",
    "\n",
    "ax.bar(range(NumberOfProducts), clicks)\n",
    "plt.show()"
   ]
  },
  {
   "cell_type": "code",
   "execution_count": 7,
   "metadata": {
    "scrolled": true
   },
   "outputs": [
    {
     "name": "stdout",
     "output_type": "stream",
     "text": [
      "Views:  [19273, 5141, 858, 15776, 63187, 31339, 2996, 12900, 6980, 58392]\n"
     ]
    },
    {
     "data": {
      "image/png": "[encoded data removed]",
      "text/plain": [
       "<matplotlib.figure.Figure at 0x1049ac860>"
      ]
     },
     "metadata": {
      "image/png": {
       "height": 263,
       "width": 390
      }
     },
     "output_type": "display_data"
    }
   ],
   "source": [
    "organics = data[data['z'] == 'organic']\n",
    "\n",
    "views = []\n",
    "for product_id in range(NumberOfProducts):\n",
    "    views.append(organics[organics['v'] == product_id].shape[0])\n",
    "\n",
    "print(\"Views: \", views)\n",
    "\n",
    "_, ax = plt.subplots()\n",
    "ax.set_title('Histogram of Views per Product')\n",
    "\n",
    "ax.bar(range(NumberOfProducts), views)\n",
    "plt.show()"
   ]
  },
  {
   "cell_type": "markdown",
   "metadata": {},
   "source": [
    "Finally, let's build the histogram of the distribution of _`Actions`_ per users."
   ]
  },
  {
   "cell_type": "code",
   "execution_count": 8,
   "metadata": {},
   "outputs": [
    {
     "data": {
      "image/png": "[encoded data removed]",
      "text/plain": [
       "<matplotlib.figure.Figure at 0x120067630>"
      ]
     },
     "metadata": {
      "image/png": {
       "height": 263,
       "width": 495
      }
     },
     "output_type": "display_data"
    }
   ],
   "source": [
    "plt.rcParams['figure.figsize'] = [8, 4]\n",
    "_, ax = plt.subplots()\n",
    "ax.set_title('Histogram of Actions Distribution per User')\n",
    "\n",
    "actions_per_user = []\n",
    "for user_id in range(int(data.u.max()) + 1):\n",
    "    user_data = bandits[bandits['u'] == user_id]\n",
    "    user_actions = user_data[user_data['z'] == 'bandit']\n",
    "    actions_per_user.append(len(user_actions))\n",
    "\n",
    "ax.hist(actions_per_user)\n",
    "plt.show()"
   ]
  },
  {
   "cell_type": "markdown",
   "metadata": {},
   "source": [
    "# Logistic Regression Model"
   ]
  },
  {
   "cell_type": "markdown",
   "metadata": {},
   "source": [
    "## Turn Data into Features"
   ]
  },
  {
   "cell_type": "markdown",
   "metadata": {},
   "source": [
    "Now we are going to build a _Logistic Regression_ model.\n",
    "\n",
    "The model will predict _the probability of the click_ for the following data:\n",
    "* _`Views`_ is a total amount of views of a particular _`Product`_ shown during _Organic_ _`Events`_ **before** a _Bandit_ _`Event`_.\n",
    "* _`Action`_ is a proposed _`Product`_ at a _Bandit_ _`Event`_.\n",
    "\n",
    "For example, assume that we have _`10`_ products. In _Organic_ _`Events`_, these products  were shown to a user as follows:\n",
    "<table>\n",
    "    <tr>\n",
    "        <th>Product ID</th>\n",
    "        <th>Views</th>\n",
    "    </tr>\n",
    "    <tr>\n",
    "        <td>0</td>\n",
    "        <td>0</td>\n",
    "    </tr>\n",
    "    <tr>\n",
    "        <td>1</td>\n",
    "        <td>0</td>\n",
    "    </tr>\n",
    "    <tr>\n",
    "        <td>2</td>\n",
    "        <td>0</td>\n",
    "    </tr>\n",
    "    <tr>\n",
    "        <td>3</td>\n",
    "        <td>7</td>\n",
    "    </tr>\n",
    "    <tr>\n",
    "        <td>4</td>\n",
    "        <td>0</td>\n",
    "    </tr>\n",
    "    <tr>\n",
    "        <td>5</td>\n",
    "        <td>0</td>\n",
    "    </tr>\n",
    "    <tr>\n",
    "        <td>6</td>\n",
    "        <td>0</td>\n",
    "    </tr>\n",
    "    <tr>\n",
    "        <td>7</td>\n",
    "        <td>8</td>\n",
    "    </tr>\n",
    "    <tr>\n",
    "        <td>8</td>\n",
    "        <td>11</td>\n",
    "    </tr>\n",
    "    <tr>\n",
    "        <td>9</td>\n",
    "        <td>0</td>\n",
    "    </tr>\n",
    "</table>\n",
    "\n",
    "When we want to know the probability of the click for _`Product`_ = _`8`_ with available amounts of _`Views`_, the input data for the model will be:\n",
    "\n",
    "_`0 0 0 7 0 0 0 0 8 11 0`_ _**`8`**_\n",
    "\n",
    "The first 10 numbers are _`Views`_ of _`Products`_ (see above), the latest one is the _`Action`_.\n",
    "\n",
    "The output will be two numbers:\n",
    "* $0^{th}$ index: $1 - \\mathbb{P}_c(P=p|V)$.\n",
    "* $1^{st}$ index: $\\mathbb{P}_c(P=p|V)$.\n",
    "\n",
    "Here, $\\mathbb{P}_c(P=p|V)$ is the probability of the click for a _`Product`_ $p$, provided that we have _`Views`_ $V$.\n",
    "\n",
    "\n",
    "In all following models, an _`Action`_ will not be used as a number, but it will be decoded as a _vector_.\n",
    "In our current example, the _`Action`_ is _`8`_. Thus, it is encoded as:\n",
    "\n",
    "_`0 0 0 0 0 0 0 0`_ _**`1`**_ _`0`_\n",
    "\n",
    "Here,\n",
    "* Vector of _`Actions`_ has a size that is equal to the _*number of `Products`*_ i.e. _`10`_.\n",
    "* _`Action`_ _`8`_ is marked as _`1`_ (_`Action`_ starts with _`0`_)."
   ]
  },
  {
   "cell_type": "code",
   "execution_count": 9,
   "metadata": {},
   "outputs": [],
   "source": [
    "import math\n",
    "import numpy as np\n",
    "\n",
    "\n",
    "def build_train_data(\n",
    "        data,\n",
    "        mark_action_in_views = False,\n",
    "        with_normalization = False,\n",
    "        weight_history_function = None\n",
    "):\n",
    "    \"\"\"\n",
    "    Build Train Data\n",
    "\n",
    "        Parameters:\n",
    "            data: offline experiment logs\n",
    "                the data contains both Organic and Bandit Events\n",
    "            mark_action_in_views(bool): adds an extra column into a feature set;\n",
    "                the column has 1 if in an Action that corresponds to a certain Product\n",
    "                 has at least one preceding View in Organic Events for the current User\n",
    "            with_normalization(bool): all Views are normalized to the value in range [0; 1];\n",
    "            weight_history_function(function): weight functions that assigns an appropriate weight\n",
    "                for View in Organic Event for a certain Product\n",
    "\n",
    "        Returns:\n",
    "            :(features, outs)\n",
    "    \"\"\"\n",
    "    num_products = int(data.v.max() + 1)\n",
    "    number_of_users = int(data.u.max()) + 1\n",
    "\n",
    "    features = []\n",
    "    outs = []\n",
    "\n",
    "    for user_id in range(number_of_users):\n",
    "        views = np.zeros((0, num_products))\n",
    "        for _, user_datum in data[data['u'] == user_id].iterrows():\n",
    "            if user_datum['z'] == 'organic':\n",
    "                assert (math.isnan(user_datum['a']))\n",
    "                assert (math.isnan(user_datum['c']))\n",
    "                assert (not math.isnan(user_datum['v']))\n",
    "\n",
    "                view = int(user_datum['v'])\n",
    "\n",
    "                tmp_view = np.zeros(num_products)\n",
    "\n",
    "                tmp_view[view] = 1\n",
    "\n",
    "                # Append the latest view at the beginning of all views.\n",
    "                views = np.append(tmp_view[np.newaxis, :], views, axis = 0)\n",
    "            else:\n",
    "                assert (user_datum['z'] == 'bandit')\n",
    "                assert (not math.isnan(user_datum['a']))\n",
    "                assert (not math.isnan(user_datum['c']))\n",
    "                assert (math.isnan(user_datum['v']))\n",
    "\n",
    "                action = int(user_datum['a'])\n",
    "                action_flags = np.zeros(num_products, dtype = np.int8)\n",
    "                action_flags[int(action)] = 1\n",
    "\n",
    "                click = int(user_datum['c'])\n",
    "\n",
    "                if weight_history_function is None:\n",
    "                    train_views = views\n",
    "                else:\n",
    "                    history = np.array(range(views.shape[0])).reshape(views.shape[0], 1)\n",
    "                    weights = weight_history_function(history)\n",
    "                    train_views = views * weights\n",
    "\n",
    "                feature = np.sum(train_views, axis = 0)\n",
    "\n",
    "                if with_normalization:\n",
    "                    if np.sum(feature) == 0:\n",
    "                        feature = feature / np.sum(feature)\n",
    "\n",
    "                feature = np.append(feature, action_flags)\n",
    "\n",
    "                if mark_action_in_views:\n",
    "                    feature = np.append(feature, 0 if feature[action] == 0 else 1)\n",
    "\n",
    "                features.append(feature)\n",
    "                outs.append(click)\n",
    "\n",
    "    return np.array(features), np.array(outs)"
   ]
  },
  {
   "cell_type": "code",
   "execution_count": 10,
   "metadata": {},
   "outputs": [],
   "source": [
    "train_features01, train_outs01 = build_train_data(data)"
   ]
  },
  {
   "cell_type": "markdown",
   "metadata": {},
   "source": [
    "The sample of the training data you shall find below."
   ]
  },
  {
   "cell_type": "code",
   "execution_count": 11,
   "metadata": {},
   "outputs": [
    {
     "name": "stdout",
     "output_type": "stream",
     "text": [
      "Train Features:\n",
      " [[1. 0. 0. 0. 0. 0. 0. 0. 0. 0. 0. 0. 0. 1. 0. 0. 0. 0. 0. 0.]\n",
      " [1. 0. 0. 0. 0. 0. 0. 0. 0. 0. 0. 0. 0. 0. 1. 0. 0. 0. 0. 0.]\n",
      " [1. 0. 0. 0. 0. 0. 0. 0. 0. 0. 0. 0. 0. 0. 0. 1. 0. 0. 0. 0.]\n",
      " [0. 1. 0. 0. 0. 0. 0. 0. 0. 0. 0. 0. 1. 0. 0. 0. 0. 0. 0. 0.]\n",
      " [0. 1. 0. 0. 0. 0. 0. 0. 0. 0. 0. 0. 0. 0. 0. 0. 0. 0. 1. 0.]]\n",
      "Click Probabilities (Outputs):\n",
      " [0 0 0 0 0]\n"
     ]
    }
   ],
   "source": [
    "print(\"Train Features:\\n\", train_features01[:5])\n",
    "print(\"Click Probabilities (Outputs):\\n\", train_outs01[:5])"
   ]
  },
  {
   "cell_type": "markdown",
   "metadata": {},
   "source": [
    "Let's examine the train data.\n",
    "\n",
    "* At time _`0`_, for a _`User`_ = _`0`_ there is an _Organic_ _`Event`_. The _`Event`_ contains a _`View`_ of _`Product`_ = _`4`_.\n",
    "* At time _`1`_, for the same _`User`_ a new _Bandit_ _`Event`_ goes. Now, when the _Bandit_ _`Event`_ happens, we already have the following _`Views`_: _`0 0 0 0`_ _**`1`**_ _`0 0 0 0 0`_. Next, we apply an _`Action`_ _`6`_ and receive for that _`Action`_ reward (click) _`0`_. Thus, the input for the training of our _Logistic Regression_ model will be:\n",
    "    * **Input:**\n",
    "        * _`Views`:_ _`0 0 0 0`_ _**`1`**_ _`0 0 0 0 0`_\n",
    "        * _`Action`:_ _`0 0 0 0 0 0`_ _**`1`**_ _`0 0 0`_\n",
    "    * **Output:** _`0`_\n",
    "\n",
    "* Next, at time _`2`_, a next _Bandit_ _`Event`_ goes. Since we have only one _Organic_ _`Event`_, _`Views`_ have not changed and they remain the same as for the _Bandit_ _`Event`_ at time _`1`_. However, this time we try an _`Action`_ = _`3`_. Thus, the training data looks as follows:\n",
    "    * **Input:**\n",
    "        * _`Views`:_ _`0 0 0 0`_ _**`1`**_ _`0 0 0 0 0`_\n",
    "        * _`Action`:_ _`0 0 0`_ _**`1`**_ _`0 0 0 0 0 0`_\n",
    "    * **Output:** _`0`_"
   ]
  },
  {
   "cell_type": "code",
   "execution_count": 12,
   "metadata": {},
   "outputs": [],
   "source": [
    "from sklearn.linear_model import LogisticRegression\n",
    "\n",
    "logreg_base = LogisticRegression(\n",
    "    solver = 'lbfgs',\n",
    "    max_iter = 2000,\n",
    "    random_state = RandomSeed\n",
    ")\n",
    "\n",
    "lr_base = logreg_base.fit(train_features01, train_outs01)"
   ]
  },
  {
   "cell_type": "markdown",
   "metadata": {},
   "source": [
    "Let's check how the _Logistic Regression_ model works."
   ]
  },
  {
   "cell_type": "code",
   "execution_count": 13,
   "metadata": {},
   "outputs": [
    {
     "name": "stdout",
     "output_type": "stream",
     "text": [
      "Test Features:\n",
      " [[ 0.  0. 10.  0.  0.  0.  0.  0.  0.  0.  0.  0.  1.  0.  0.  0.  0.  0.\n",
      "   0.  0.]]\n",
      "Click Probabilities (Outputs):  [[0.98738126 0.01261874]]\n"
     ]
    }
   ],
   "source": [
    "# Check the probability of getting a click for Product ID '2' with 10 observations for that Product.\n",
    "test_features01 = np.zeros((1, 2 * NumberOfProducts))\n",
    "\n",
    "test_features01[:, 2] = 10\n",
    "test_features01[:, NumberOfProducts + 2] = 1\n",
    "test_out01 = lr_base.predict_proba(test_features01)\n",
    "\n",
    "print(\"Test Features:\\n\", test_features01)\n",
    "print(\"Click Probabilities (Outputs): \", test_out01)"
   ]
  },
  {
   "cell_type": "code",
   "execution_count": 14,
   "metadata": {},
   "outputs": [
    {
     "data": {
      "text/plain": [
       "array([[-0.00682682, -0.00513229, -0.00210275,  0.01438348,  0.00197324,\n",
       "        -0.0027341 ,  0.00108254, -0.00377397,  0.00614944,  0.00133733,\n",
       "        -0.34703091, -0.5872998 , -0.2295926 , -0.73973899, -0.09535172,\n",
       "        -0.14542796, -0.76193027, -0.60896858, -0.44172883, -0.13473659]])"
      ]
     },
     "execution_count": 14,
     "metadata": {},
     "output_type": "execute_result"
    }
   ],
   "source": [
    "lr_base.coef_"
   ]
  },
  {
   "cell_type": "markdown",
   "metadata": {},
   "source": [
    "## Frequency of _`Views`_\n",
    "\n",
    "In a new model, _`Views`_ are normalised: instead of using an exact number of _`Views`_, a frequency of _`Views`_ is used:\n",
    "\n",
    "$$ \\tilde{v}_i = \\frac{v_i}{\\sum_{p \\in P}v_p} $$"
   ]
  },
  {
   "cell_type": "code",
   "execution_count": 15,
   "metadata": {},
   "outputs": [],
   "source": [
    "test_features02, test_outs02 = build_train_data(data, False, True)\n",
    "\n",
    "logreg_freq = LogisticRegression(\n",
    "    solver = 'lbfgs',\n",
    "    max_iter = 2000,\n",
    "    random_state = RandomSeed\n",
    ")\n",
    "\n",
    "lr_freq = logreg_freq.fit(test_features02, test_outs02)\n",
    "\n",
    "\n"
   ]
  },
  {
   "cell_type": "code",
   "execution_count": null,
   "metadata": {},
   "outputs": [],
   "source": []
  },
  {
   "cell_type": "markdown",
   "metadata": {},
   "source": [
    "## The Mark of the Presence of an _`Action`_ in _`Views`_\n",
    "\n",
    "So far, the features were based on _`Views`_ and _`Actions`_ _irrespectively_ to the presence of any _`View`_ that corresponds to the _`Action`_.\n",
    "\n",
    "At this time, we will introduce a new mark into features: _the Marker of the Presence of an `Action` in `Views`_ and set it as follows:\n",
    "* _**`1`**_ if an _`Action`_ that corresponds to a certain _`Product`_ was present at least once in preceding _Organic_ _`Events`_.\n",
    "* _**`0`**_ in another case.\n",
    "\n",
    "\n",
    "**E.G.:**\n",
    "For previously considered data, we will have the following:\n",
    "* At time _`8`_:\n",
    "    * **Input:**\n",
    "        * _`Views`:_ _`0 0 0 0`_ _**`1`**_ _`0 0 `_ _**`1`**_ _**`3`**_ _`0`_\n",
    "        * _`Action`:_ _`0 0 0 0`_ _**`1`**_ _`0 0 0 0 0`_\n",
    "        * _`Mark`:_ _**`1`**_ (there is _`1`_ in _`View`_ for _`Product`_ = _`4`_)\n",
    "    * **Output:** _`0`_\n",
    "* At time _`9`_:\n",
    "    * **Input:**\n",
    "        * _`Views`:_ _`0 0 0 0`_ _**`1`**_ _`0 0 `_ _**`1`**_ _**`3`**_ _`0`_\n",
    "        * _`Action`:_ _`0 0 0 0 0 0`_ _**`1`**_ _`0 0 0`_\n",
    "        * _`Mark`:_ _**`0`**_ (there is **no** any _`View`_ for _`Product`_ = _`6`_)\n",
    "    * **Output:** _`0`_"
   ]
  },
  {
   "cell_type": "code",
   "execution_count": 22,
   "metadata": {},
   "outputs": [],
   "source": [
    "test_features03, test_outs03 = build_train_data(data, True)\n",
    "\n",
    "logreg_with_mark = LogisticRegression(\n",
    "    solver = 'lbfgs',\n",
    "    max_iter = 2000,\n",
    "    random_state = RandomSeed\n",
    ")\n",
    "\n",
    "lr_with_mark = logreg_with_mark.fit(test_features03, test_outs03)\n"
   ]
  },
  {
   "cell_type": "code",
   "execution_count": 23,
   "metadata": {},
   "outputs": [
    {
     "data": {
      "text/plain": [
       "array([[-7.94091255e-03, -9.63213855e-03, -2.01240085e-02,\n",
       "         1.25781254e-02,  1.44769955e-03, -5.34697611e-03,\n",
       "        -3.29749666e-04, -5.10838484e-03,  4.87405197e-05,\n",
       "         6.73808673e-04, -3.52893507e-01, -5.26056282e-01,\n",
       "        -1.42539481e-01, -7.82688828e-01, -1.98734015e-01,\n",
       "        -2.31495981e-01, -6.85250876e-01, -5.71444832e-01,\n",
       "        -4.33515367e-01, -2.32977510e-01,  2.91381971e-01]])"
      ]
     },
     "execution_count": 23,
     "metadata": {},
     "output_type": "execute_result"
    }
   ],
   "source": [
    "lr_with_mark.coef_"
   ]
  },
  {
   "cell_type": "markdown",
   "metadata": {},
   "source": [
    "### Polynomial Feature Set\n",
    "\n",
    "Previously, a linear set of features was considered. Now we are going to analyse a polynomial set of features, i.e. the set of the features those are either in the second degree or those are in a specific combination with each other."
   ]
  },
  {
   "cell_type": "code",
   "execution_count": 18,
   "metadata": {
    "scrolled": false
   },
   "outputs": [],
   "source": [
    "from sklearn.preprocessing import PolynomialFeatures\n",
    "\n",
    "test_features04, test_outs04 = build_train_data(data)\n",
    "\n",
    "# Instantiate Polynomial feature of the 2nd degree.\n",
    "poly2 = PolynomialFeatures(2)\n",
    "test_features_poly = poly2.fit_transform(test_features04)"
   ]
  },
  {
   "cell_type": "markdown",
   "metadata": {},
   "source": [
    "Let's examine the set of _features_."
   ]
  },
  {
   "cell_type": "code",
   "execution_count": 19,
   "metadata": {},
   "outputs": [
    {
     "name": "stdout",
     "output_type": "stream",
     "text": [
      "Features of Training Data in 2nd Polinomial Degree:\n",
      " [1. 1. 0. 0. 0. 0. 0. 0. 0. 0. 0. 0. 0. 0. 0. 1. 0. 0. 0. 0. 0. 1. 0. 0.\n",
      " 0. 0. 0. 0. 0. 0. 0. 0. 0. 0. 0. 1. 0. 0. 0. 0. 0. 0. 0. 0. 0. 0. 0. 0.\n",
      " 0. 0. 0. 0. 0. 0. 0. 0. 0. 0. 0. 0. 0. 0. 0. 0. 0. 0. 0. 0. 0. 0. 0. 0.\n",
      " 0. 0. 0. 0. 0. 0. 0. 0. 0. 0. 0. 0. 0. 0. 0. 0. 0. 0. 0. 0. 0. 0. 0. 0.\n",
      " 0. 0. 0. 0. 0. 0. 0. 0. 0. 0. 0. 0. 0. 0. 0. 0. 0. 0. 0. 0. 0. 0. 0. 0.\n",
      " 0. 0. 0. 0. 0. 0. 0. 0. 0. 0. 0. 0. 0. 0. 0. 0. 0. 0. 0. 0. 0. 0. 0. 0.\n",
      " 0. 0. 0. 0. 0. 0. 0. 0. 0. 0. 0. 0. 0. 0. 0. 0. 0. 0. 0. 0. 0. 0. 0. 0.\n",
      " 0. 0. 0. 0. 0. 0. 0. 0. 0. 0. 0. 0. 0. 0. 0. 0. 0. 0. 0. 0. 0. 0. 0. 0.\n",
      " 0. 0. 0. 0. 0. 0. 0. 0. 0. 0. 0. 0. 0. 0. 0. 0. 0. 0. 1. 0. 0. 0. 0. 0.\n",
      " 0. 0. 0. 0. 0. 0. 0. 0. 0. 0. 0. 0. 0. 0. 0.]\n",
      "Features of Training Data in 2nd Polinomial Degree Shape: (788399, 231)\n",
      "Feature of Training Data Selection Flags:  [False  True  True  True  True  True  True  True  True  True  True  True\n",
      "  True  True  True  True  True  True  True  True  True False False False\n",
      " False False False False False False False  True  True  True  True  True\n",
      "  True  True  True  True  True False False False False False False False\n",
      " False False  True  True  True  True  True  True  True  True  True  True\n",
      " False False False False False False False False  True  True  True  True\n",
      "  True  True  True  True  True  True False False False False False False\n",
      " False  True  True  True  True  True  True  True  True  True  True False\n",
      " False False False False False  True  True  True  True  True  True  True\n",
      "  True  True  True False False False False False  True  True  True  True\n",
      "  True  True  True  True  True  True False False False False  True  True\n",
      "  True  True  True  True  True  True  True  True False False False  True\n",
      "  True  True  True  True  True  True  True  True  True False False  True\n",
      "  True  True  True  True  True  True  True  True  True False  True  True\n",
      "  True  True  True  True  True  True  True  True False False False False\n",
      " False False False False False False False False False False False False\n",
      " False False False False False False False False False False False False\n",
      " False False False False False False False False False False False False\n",
      " False False False False False False False False False False False False\n",
      " False False False]\n",
      "Features of Training Data in 2nd Polinomial Degree with Selection:\n",
      " [1. 0. 0. 0. 0. 0. 0. 0. 0. 0. 0. 0. 0. 0. 1. 0. 0. 0. 0. 0. 0. 0. 0. 0.\n",
      " 1. 0. 0. 0. 0. 0. 0. 0. 0. 0. 0. 0. 0. 0. 0. 0. 0. 0. 0. 0. 0. 0. 0. 0.\n",
      " 0. 0. 0. 0. 0. 0. 0. 0. 0. 0. 0. 0. 0. 0. 0. 0. 0. 0. 0. 0. 0. 0. 0. 0.\n",
      " 0. 0. 0. 0. 0. 0. 0. 0. 0. 0. 0. 0. 0. 0. 0. 0. 0. 0. 0. 0. 0. 0. 0. 0.\n",
      " 0. 0. 0. 0. 0. 0. 0. 0. 0. 0. 0. 0. 0. 0. 0. 0. 0. 0. 0. 0. 0. 0. 0. 0.]\n",
      "Features of Training Data in 2nd Polinomial Degree with Selection Shape: (788399, 120)\n"
     ]
    }
   ],
   "source": [
    "print(\"Features of Training Data in 2nd Polinomial Degree:\\n\", test_features_poly[1, :])\n",
    "print(\"Features of Training Data in 2nd Polinomial Degree Shape:\", test_features_poly.shape)\n",
    "\n",
    "only_first_degree = np.sum(poly2.powers_, axis=1) == 1\n",
    "only_with_actions = np.sum(poly2.powers_[:, NumberOfProducts:], axis=1) == 1\n",
    "feature_selection_flags = only_first_degree | only_with_actions\n",
    "print(\"Feature of Training Data Selection Flags: \", feature_selection_flags)\n",
    "\n",
    "print(\"Features of Training Data in 2nd Polinomial Degree with Selection:\\n\", test_features_poly[1, feature_selection_flags])\n",
    "print(\"Features of Training Data in 2nd Polinomial Degree with Selection Shape:\", test_features_poly[:, feature_selection_flags].shape)"
   ]
  },
  {
   "cell_type": "markdown",
   "metadata": {},
   "source": [
    "As you see, there are _`231`_ features in the second polynomial degree. However, we do not use all of them. Instead, we use the following features:\n",
    "* all features in the 1st degree (_`Views`_ and _`Action`_ as a vector)\n",
    "* all cross features of _`Views`_ with _`Action`_ as a vector\n",
    "\n",
    "\n",
    "That _explicit_ features selection reduces the number of features to _`120`_."
   ]
  },
  {
   "cell_type": "code",
   "execution_count": 20,
   "metadata": {},
   "outputs": [],
   "source": [
    "logreg = LogisticRegression(\n",
    "    solver = 'lbfgs',\n",
    "    max_iter = 5000,\n",
    "    random_state = RandomSeed\n",
    ")\n",
    "\n",
    "lr_poly = logreg.fit(test_features_poly[:, feature_selection_flags], test_outs04)"
   ]
  },
  {
   "cell_type": "markdown",
   "metadata": {},
   "source": [
    "This time, all _`Actions`_ uniformly react on the increase of _`Views`_: the _the probability of the click_ grows as grows the amount of _`Views`_."
   ]
  },
  {
   "cell_type": "markdown",
   "metadata": {},
   "source": [
    "# Agent Comparision\n",
    "\n",
    "In this section, we are going to compare the performance of different _`Agents`_ those apply different policies to select an appropriate _`Action`_ for a _Bandit_ _`Event`_.\n",
    "\n",
    "As a measurement of the _`Agent`_ performance, we will use _Click Trhough Rate_ (_CTR_) that is defined as following:\n",
    "$$ CTR = \\frac{\\sum_{B}{\\mathbb{1}_c}}{\\big|B\\big|} $$\n",
    "\n",
    "Here\n",
    "* $\\sum_{B}{\\mathbb{1}_c}$ is a total amount of clicks for all _Bandit_ _`Events`_\n",
    "* $\\big|B\\big|$ is a total amount of all _Bandit_ _`Events`_"
   ]
  },
  {
   "cell_type": "markdown",
   "metadata": {},
   "source": [
    "## Agent based on Organic Events Model"
   ]
  },
  {
   "cell_type": "markdown",
   "metadata": {},
   "source": [
    "So far, we have estimated _Logistig Regression_ models and evaluated different feature sets:\n",
    "* _`Views`_ and _`Action`_\n",
    "* _`Views`_ **as frequencies** and _`Action`_ \n",
    "* _`Views`_, _`Action`_, and _**the mark of the presence of an `Action` in `Views`**_ \n",
    "* _`Views`_ and _`Action`_ _**as a polynomial set**_\n",
    "\n",
    "Now, we consider a so-called _Organic Agent_. The idea of the _`Agent`_ is following:\n",
    "* whenever a new _Organic_ _`Event`_ happens, the _`View`_ for a particular _Product_ is incremented\n",
    "* whenever a new _Bandit_ _`Event`_ happens, we provide an _`Action`_ that corresponds to the most frequently shown _`Product`_"
   ]
  },
  {
   "cell_type": "markdown",
   "metadata": {},
   "source": [
    "Now, let's create a new _`Agent`_ that incorporates that logic explicitly."
   ]
  },
  {
   "cell_type": "code",
   "execution_count": 24,
   "metadata": {},
   "outputs": [],
   "source": [
    "import numpy as np\n",
    "from numpy.random.mtrand import RandomState\n",
    "from recogym import Configuration\n",
    "from recogym.agents import Agent\n",
    "\n",
    "class OrganicEventCounterAgent(Agent):\n",
    "    \"\"\"\n",
    "    Organic Event Counter Agent\n",
    "    \n",
    "    The Agent that counts Organic views of Products\n",
    "    and selects an Action for the most frequently shown Product.\n",
    "    \"\"\"\n",
    "    def __init__(self, config):\n",
    "        super(OrganicEventCounterAgent, self).__init__(config)\n",
    "        self.rng = RandomState(self.config.random_seed)\n",
    "        self.organic_views = np.zeros(self.config.num_products)\n",
    "\n",
    "    def observe(self, observation):\n",
    "        for session in observation.sessions():\n",
    "            self.organic_views[session['v']] += 1\n",
    "\n",
    "    def act(self, observation, reward, done):\n",
    "        \"\"\"Act method returns an Action based on current observation and past history\"\"\"\n",
    "        self.observe(observation)\n",
    "        prob = self.organic_views / sum(self.organic_views)\n",
    "        action = self.rng.choice(self.config.num_products, p = prob)\n",
    "        return {\n",
    "            **super().act(observation, reward, done),\n",
    "            **{\n",
    "                'a': action,\n",
    "                'ps': prob[action],\n",
    "                'ps-a': prob,\n",
    "            },\n",
    "        }\n",
    "\n",
    "    def reset(self):\n",
    "        self.organic_views = np.zeros(self.config.num_products)"
   ]
  },
  {
   "cell_type": "code",
   "execution_count": 25,
   "metadata": {},
   "outputs": [],
   "source": [
    "abtest_data = deepcopy(env).generate_logs(ABTestNumberOfUsers, OrganicEventCounterAgent(Configuration(env_1_args)))"
   ]
  },
  {
   "cell_type": "markdown",
   "metadata": {},
   "source": [
    "It is evident in logs; the _Agent_ provides an _`Action`_ that corresponds to the _`Product`_ that was most frequently shown in _Organic_ _`Events`_."
   ]
  },
  {
   "cell_type": "markdown",
   "metadata": {},
   "source": [
    "## Agent Based on Logistic Regression Model\n",
    "\n",
    "Let's create _`Agents`_ those use _Logistic Regression_ models based on the set of features we have already examined and compare their performance with _Organic_ _`Agent`_."
   ]
  },
  {
   "cell_type": "code",
   "execution_count": 27,
   "metadata": {},
   "outputs": [],
   "source": [
    "from recogym.agents import FeatureProvider\n",
    "\n",
    "class ViewsFeatureProvider(FeatureProvider):\n",
    "    \"\"\"Feature provider as an abstract class that defined interface of setting/getting features\"\"\"\n",
    "\n",
    "    def __init__(self, config):\n",
    "        super(ViewsFeatureProvider, self).__init__(config)\n",
    "        self.feature_data = None\n",
    "\n",
    "    def observe(self, observation):\n",
    "        \"\"\"Consider an Organic Event for a particular user\"\"\"\n",
    "        for session in observation.sessions():\n",
    "            self.feature_data[:, session['v']] += 1\n",
    "\n",
    "    def features(self, observation):\n",
    "        \"\"\"Provide feature values adjusted to a particular feature set\"\"\"\n",
    "        return self.feature_data\n",
    "\n",
    "\n",
    "class ViewsAndActionAsVectorFeatureProvider(ViewsFeatureProvider):\n",
    "    \"\"\"Feature Provider for feature set defined as Views and an Action as a Vector\"\"\"\n",
    "\n",
    "    def __init__(self, config):\n",
    "        super(ViewsAndActionAsVectorFeatureProvider, self).__init__(config)\n",
    "\n",
    "    def reset(self):\n",
    "        self.feature_data = np.zeros((self.config.num_products, 2 * self.config.num_products))\n",
    "        for ix in range(self.config.num_products):\n",
    "            self.feature_data[ix, self.config.num_products + ix] = 1\n",
    "\n",
    "\n",
    "class ViewFrequenciesAndActionAsVectorFeatureProvider(ViewsAndActionAsVectorFeatureProvider):\n",
    "    def __init__(self, env):\n",
    "        super().__init__(env)\n",
    "\n",
    "    def features(self, observation):\n",
    "        base_features = super().features(observation)\n",
    "        views = base_features[:, :self.config.num_products]\n",
    "        views = views / np.sum(views, axis = 1)\n",
    "        base_features[:, :self.config.num_products] = views\n",
    "        return base_features\n",
    "\n",
    "\n",
    "class ViewsAndActionAsVectorWithMarkFeatureProvider(ViewsAndActionAsVectorFeatureProvider):\n",
    "    def __init__(self, config):\n",
    "        super(ViewsAndActionAsVectorWithMarkFeatureProvider, self).__init__(config)\n",
    "\n",
    "    def features(self, observation):\n",
    "        base_features = super().features(observation)\n",
    "        marks = np.zeros((self.config.num_products, 1))\n",
    "        for product_id in range(self.config.num_products):\n",
    "            if base_features[product_id, product_id] > 0:\n",
    "                marks[product_id, 0] = 1\n",
    "\n",
    "        base_features = np.append(base_features, marks, axis = 1)\n",
    "        return base_features\n",
    "\n",
    "\n",
    "class ViewsAndActionPolynomialFeatureProvider(ViewsAndActionAsVectorFeatureProvider):\n",
    "    \"\"\"Feature Provider for polynomial feature set defined as Views and an Action\"\"\"\n",
    "\n",
    "    def __init__(self, env, flags, degree = 2):\n",
    "        super().__init__(env)\n",
    "        self.poly = PolynomialFeatures(degree)\n",
    "        self.flags = flags\n",
    "\n",
    "    def features(self, observation):\n",
    "        return self.poly.fit_transform(super().features(observation))[:, self.flags]\n",
    "\n",
    "\n",
    "class ModelBasedAgent(Agent):\n",
    "    def __init__(self, env, feature_provider, model):\n",
    "        # Set environment as an attribute of Agent.\n",
    "        self.env = env\n",
    "        self.feature_provider = feature_provider\n",
    "        self.model = model\n",
    "        self.reset()\n",
    "\n",
    "    def act(self, observation, reward, done):\n",
    "        \"\"\"Act method returns an action based on current observation and past history\"\"\"\n",
    "        self.feature_provider.observe(observation)\n",
    "        prob = self.model.predict_proba(self.feature_provider.features(observation))[:, 1]\n",
    "        action = np.argmax(prob)\n",
    "        return {\n",
    "            **super().act(observation, reward, done),\n",
    "            **{\n",
    "                'a': action,\n",
    "                'ps': prob[action],\n",
    "                'ps-a': prob,\n",
    "            }\n",
    "        }\n",
    "\n",
    "    def reset(self):\n",
    "        self.feature_provider.reset()"
   ]
  },
  {
   "cell_type": "markdown",
   "metadata": {},
   "source": [
    "Below, there is the definition of the function that applies A/B tests for different _`Agents`_ and calculates _Click-Through Rate_."
   ]
  },
  {
   "cell_type": "code",
   "execution_count": 28,
   "metadata": {},
   "outputs": [],
   "source": [
    "import pandas as pd\n",
    "from scipy.stats.distributions import beta\n",
    "\n",
    "def verify_agents(env, number_of_users, agents):\n",
    "    stat = {\n",
    "        'Agent': [],\n",
    "        '0.025': [],\n",
    "        '0.500' : [],\n",
    "        '0.975': [],\n",
    "    }\n",
    "\n",
    "    for agent_id in agents:\n",
    "        stat['Agent'].append(agent_id)\n",
    "        data = deepcopy(env).generate_logs(number_of_users, agents[agent_id])\n",
    "        bandits = data[data['z'] == 'bandit']\n",
    "        successes = bandits[bandits['c'] == 1].shape[0]\n",
    "        failures = bandits[bandits['c'] == 0].shape[0]\n",
    "        stat['0.025'].append(beta.ppf(0.025, successes + 1, failures + 1))\n",
    "        stat['0.500'].append(beta.ppf(0.500, successes + 1, failures + 1))\n",
    "        stat['0.975'].append(beta.ppf(0.975, successes + 1, failures + 1))\n",
    "        \n",
    "    return pd.DataFrame().from_dict(stat)"
   ]
  },
  {
   "cell_type": "code",
   "execution_count": null,
   "metadata": {},
   "outputs": [],
   "source": [
    "from recogym import env_1_args\n",
    "\n",
    "agen_stats00 = verify_agents(\n",
    "    env,\n",
    "    ABTestNumberOfUsers,\n",
    "    {\n",
    "        'Organic User Event Counter': OrganicEventCounterAgent(Configuration(env_1_args)),\n",
    "        'LogReg: Views & Action':\n",
    "            ModelBasedAgent(\n",
    "                env_1_args,\n",
    "                ViewsAndActionAsVectorFeatureProvider(Configuration(env_1_args)),\n",
    "                lr_base\n",
    "            ),\n",
    "        'LogReg: Views as Frequencies & Action':\n",
    "            ModelBasedAgent(\n",
    "                env_1_args,\n",
    "                ViewFrequenciesAndActionAsVectorFeatureProvider(Configuration(env_1_args)),\n",
    "                lr_freq\n",
    "            ),\n",
    "        'LogReg: Views & Action & Mark of Presence':\n",
    "            ModelBasedAgent(\n",
    "                env_1_args,\n",
    "                ViewsAndActionAsVectorWithMarkFeatureProvider(Configuration(env_1_args)),\n",
    "                lr_with_mark\n",
    "            ),\n",
    "        'LogReg: Views & Action (as 2nd Polynom)':\n",
    "            ModelBasedAgent(\n",
    "                env_1_args,\n",
    "                ViewsAndActionPolynomialFeatureProvider(Configuration(env_1_args), feature_selection_flags),\n",
    "                lr_poly\n",
    "            )\n",
    "    })"
   ]
  },
  {
   "cell_type": "code",
   "execution_count": null,
   "metadata": {},
   "outputs": [],
   "source": [
    "agen_stats00"
   ]
  },
  {
   "cell_type": "markdown",
   "metadata": {},
   "source": [
    "Indeed, the _`Agent`_ that utilises a model based on a feature set with 2nd-degree polynomial has the best performance."
   ]
  },
  {
   "cell_type": "markdown",
   "metadata": {},
   "source": [
    "## History of _Organic_ _`Events`_\n",
    "\n",
    "In previous models, all _`Views`_ of _`Products`_ in _Organic_ _`Events`_ were considered equally _irrespectively_ to the history when a _`Product`_ was shown.\n",
    "\n",
    "At this time, we are going to compare models with different treating of the notion of the _`View`_ _history_.\n",
    "\n",
    "The model based on the feature set of the 2nd-degree polynomial as it has revealed the best performance.\n",
    "\n",
    "For each _`View`_ a weight will be assigned.\n",
    "\n",
    "The following cases are considered:\n",
    "* $w(t) = \\frac{1}{1 + t}$\n",
    "* $w(t) = \\frac{1}{1 + \\ln(1 + t)}$\n",
    "* $w(t) = \\begin{cases}\n",
    "    1,& \\text{if } t < L\\\\\n",
    "    0,              & \\text{otherwise}\n",
    "\\end{cases}$\n",
    "\n",
    "Time $t$ will be counted from _`0`_ from the latest _Organic_ _`Event`_ to the past, each time incremented by _`+1`_."
   ]
  },
  {
   "cell_type": "code",
   "execution_count": null,
   "metadata": {},
   "outputs": [],
   "source": [
    "class WeightedViewsAndActionPolynomialFeatureProvider(FeatureProvider):\n",
    "    \"\"\"Feature Provider for polynomial feature set defined as Views and an Action\"\"\"\n",
    "\n",
    "    def __init__(self, config, flags, weight_history_function, degree = 2):\n",
    "        super().__init__(config)\n",
    "        self.poly = PolynomialFeatures(degree)\n",
    "        self.flags = flags\n",
    "        self.weight_history_function = weight_history_function\n",
    "        self.views = np.zeros((0, self.config.num_products))\n",
    "\n",
    "    def observe(self, observation):\n",
    "        \"\"\"Consider an Organic Event for a particular user\"\"\"\n",
    "        for session in observation.sessions():\n",
    "            tmp_view = np.zeros(self.config.num_products)\n",
    "            tmp_view[session['v']] = 1\n",
    "\n",
    "            self.views = np.append(tmp_view[np.newaxis, :], self.views, axis = 0)\n",
    "\n",
    "    def reset(self):\n",
    "        self.views = np.zeros((0, self.config.num_products))\n",
    "\n",
    "    def features(self, observation):\n",
    "        base_features = np.zeros((self.config.num_products, 2 * self.config.num_products))\n",
    "        for ix in range(self.config.num_products):\n",
    "            base_features[ix, self.config.num_products + ix] = 1\n",
    "\n",
    "        history = np.array(range(self.views.shape[0])).reshape(self.views.shape[0], 1)\n",
    "        weights = self.weight_history_function(history)\n",
    "        weighted_views = np.sum(self.views * weights, axis = 0)\n",
    "        base_features[:, :self.config.num_products] = weighted_views\n",
    "        return self.poly.fit_transform(base_features)[:, self.flags]\n",
    "\n",
    "\n",
    "def build_history_agent(env_args, data, weight_fynction):\n",
    "    features, outs = build_train_data(data, False, False, weight_fynction)\n",
    "\n",
    "    config = Configuration(env_args)\n",
    "    logreg = LogisticRegression(\n",
    "        solver = 'lbfgs',\n",
    "        max_iter = 5000,\n",
    "        random_state = config.random_seed\n",
    "    )\n",
    "\n",
    "    poly = PolynomialFeatures(2)\n",
    "    features_poly = poly.fit_transform(features)\n",
    "    \n",
    "    only_first_degree = np.sum(poly.powers_, axis=1) == 1\n",
    "    only_with_actions = np.sum(poly.powers_[:, NumberOfProducts:], axis=1) == 1\n",
    "    flags = only_first_degree | only_with_actions\n",
    "\n",
    "    lr_weight_poly = logreg.fit(features_poly[:, flags], outs)\n",
    "\n",
    "    return ModelBasedAgent(\n",
    "        config,\n",
    "        WeightedViewsAndActionPolynomialFeatureProvider(config, flags, weight_fynction),\n",
    "        lr_weight_poly\n",
    "    )\n",
    "\n",
    "\n",
    "def slide_window(t, L):\n",
    "    weights = np.zeros((t.shape[0], 1))\n",
    "    weights[:L, :] = 1\n",
    "    return weights\n",
    "\n",
    "\n",
    "def apply_new_environment(new_env_args):\n",
    "    new_env_1_args = {\n",
    "        **env_1_args,\n",
    "        **new_env_args,\n",
    "    }\n",
    "\n",
    "    new_env = deepcopy(env)\n",
    "    new_env.init_gym(new_env_1_args)\n",
    "    data = deepcopy(new_env).generate_logs(ABTestNumberOfUsers) \n",
    "    stat = verify_agents(\n",
    "        new_env,\n",
    "        ABTestNumberOfUsers,\n",
    "        {\n",
    "            'Organic User Event Counter': OrganicEventCounterAgent(Configuration({\n",
    "                **new_env_1_args\n",
    "            })),\n",
    "            'LogReg Poly & w ~ 1/(1 + t)':\n",
    "                build_history_agent(new_env_1_args, data, lambda t: 1.0 / (1 + t)),\n",
    "            'LogReg Poly & w ~ 1/(1 + ln(1 + t))':\n",
    "                build_history_agent(new_env_1_args, data, lambda t: 1.0 / (1 + np.log(1 + t))),\n",
    "            'LogReg Poly & w is Latest 20 Organic Events':\n",
    "                build_history_agent(new_env_1_args, data, lambda t: slide_window(t, 20)),\n",
    "            'LogReg Poly & w is the latest Organic Event':\n",
    "                build_history_agent(new_env_1_args, data, lambda t: slide_window(t, 1)),\n",
    "        })\n",
    "    return stat"
   ]
  },
  {
   "cell_type": "markdown",
   "metadata": {},
   "source": [
    "### Case #1"
   ]
  },
  {
   "cell_type": "code",
   "execution_count": null,
   "metadata": {
    "scrolled": true
   },
   "outputs": [],
   "source": [
    "agent_stats01 = apply_new_environment({\n",
    "    'num_products': 20,\n",
    "    'number_of_flips': 10,\n",
    "})"
   ]
  },
  {
   "cell_type": "code",
   "execution_count": null,
   "metadata": {},
   "outputs": [],
   "source": [
    "agent_stats01"
   ]
  },
  {
   "cell_type": "markdown",
   "metadata": {},
   "source": [
    "### Case #2"
   ]
  },
  {
   "cell_type": "code",
   "execution_count": null,
   "metadata": {},
   "outputs": [],
   "source": [
    "agent_stats02 = apply_new_environment({\n",
    "    'num_products': 10,\n",
    "    'number_of_flips': 5,\n",
    "})"
   ]
  },
  {
   "cell_type": "code",
   "execution_count": null,
   "metadata": {},
   "outputs": [],
   "source": [
    "agent_stats02"
   ]
  },
  {
   "cell_type": "markdown",
   "metadata": {},
   "source": [
    "# Conclusion\n",
    "\n",
    "Different feature sets were investigated for _Likelihood_ model and it was concluded that the polynomial feature set is the best one.\n",
    "\n",
    "It was also investigated how a history of _Organic_ _`Events`_ influences on the performance of the likelihood model."
   ]
  },
  {
   "cell_type": "code",
   "execution_count": null,
   "metadata": {},
   "outputs": [],
   "source": []
  }
 ],
 "metadata": {
  "kernelspec": {
   "display_name": "Python 3",
   "language": "python",
   "name": "python3"
  },
  "language_info": {
   "codemirror_mode": {
    "name": "ipython",
    "version": 3
   },
   "file_extension": ".py",
   "mimetype": "text/x-python",
   "name": "python",
   "nbconvert_exporter": "python",
   "pygments_lexer": "ipython3",
   "version": "3.6.3"
  }
 },
 "nbformat": 4,
 "nbformat_minor": 2
}
