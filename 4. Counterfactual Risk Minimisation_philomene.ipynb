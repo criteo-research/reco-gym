{
 "cells": [
  {
   "cell_type": "markdown",
   "metadata": {
    "colab_type": "text",
    "id": "0QUSEkBAWGYe"
   },
   "source": [
    "# Counterfactual Risk Minimisation (CRM)"
   ]
  },
  {
   "cell_type": "code",
   "execution_count": 1,
   "metadata": {
    "colab": {
     "base_uri": "https://localhost:8080/",
     "height": 394
    },
    "colab_type": "code",
    "id": "5dPUazDAWGYh",
    "outputId": "ca0f3d64-e840-4c5b-ba7a-7337989a31d6"
   },
   "outputs": [],
   "source": [
    "# !pip install recogym torch\n",
    "# !git clone https://github.com/criteo-research/bandit-reco.git"
   ]
  },
  {
   "cell_type": "code",
   "execution_count": 2,
   "metadata": {
    "colab": {},
    "colab_type": "code",
    "id": "ulJfFdaQWGYp"
   },
   "outputs": [],
   "source": [
    "import os\n",
    "# os.chdir('bandit-reco/notebooks')\n",
    "\n",
    "%matplotlib inline\n",
    "\n",
    "import gym \n",
    "import matplotlib.pyplot as plt\n",
    "import numpy as np\n",
    "import pandas as pd\n",
    "import torch\n",
    "import torch.nn.functional as F\n",
    "from torch.autograd import Variable\n",
    "\n",
    "from recogym.envs.session import OrganicSessions\n",
    "from recogym import env_2_args, Configuration\n",
    "from recogym import DefaultContext\n",
    "from recogym.agents import Agent\n",
    "from recogym.envs.observation import Observation\n",
    "from recogym.evaluate_agent_sale import plot_verify_agents, verify_agents\n",
    "from recogym.agents import FeatureProvider, OrganicUserEventCounterAgent, organic_user_count_args\n",
    "from recogym.envs.utils_sale import *\n",
    "\n",
    "from recogym.util import FullBatchLBFGS\n",
    "\n",
    "# Set style for pretty plots\n",
    "plt.style.use('ggplot')\n",
    "\n",
    "P = 10  # Number of Products\n",
    "U = 2000 # Number of Users\n",
    "\n",
    "# You can overwrite environment arguments here:\n",
    "env_2_args['random_seed'] = 42\n",
    "env_2_args['num_products'] = P\n",
    "env_2_args['number_of_flips'] = P//2\n",
    "env_2_args['sigma_mu_organic'] = 3\n",
    "env_2_args['sigma_omega'] = 0.1\n",
    "\n",
    "# Initialize the gym for the first time by calling .make() and .init_gym()\n",
    "env = gym.make('reco-gym-v2')\n",
    "env.init_gym(env_2_args)\n",
    "env.reset()"
   ]
  },
  {
   "cell_type": "markdown",
   "metadata": {
    "colab_type": "text",
    "id": "wFE_wsZrk1Md"
   },
   "source": [
    "## Data generation\n"
   ]
  },
  {
   "cell_type": "markdown",
   "metadata": {
    "colab_type": "text",
    "id": "42T1oNhgj5RF"
   },
   "source": [
    "We generate data with a popularity agent plus some randomness for exploration (`epsilon`).\n"
   ]
  },
  {
   "cell_type": "code",
   "execution_count": 3,
   "metadata": {
    "colab": {
     "base_uri": "https://localhost:8080/",
     "height": 51
    },
    "colab_type": "code",
    "id": "CGUHO1MuWGYr",
    "outputId": "efa103ae-626e-4cff-fcc0-76904053bcc7"
   },
   "outputs": [
    {
     "name": "stderr",
     "output_type": "stream",
     "text": [
      "Organic Users: 0it [00:00, ?it/s]\n",
      "Users: 100%|███████████████████████████████████████████████████████████████████████| 2000/2000 [02:10<00:00, 15.37it/s]\n"
     ]
    }
   ],
   "source": [
    "# Generate RecoGym logs for U users\n",
    "logger = OrganicUserEventCounterAgent(Configuration({**organic_user_count_args,\n",
    "                                                     'select_randomly': True,\n",
    "                                                     'random_seed': 1221, # 1220\n",
    "                                                     'epsilon': 0.001}))\n",
    "reco_log = env.generate_logs(U, agent = logger)"
   ]
  },
  {
   "cell_type": "markdown",
   "metadata": {
    "colab_type": "text",
    "id": "oeHO1popj1Cd"
   },
   "source": [
    "Let's have a quick look at the logs"
   ]
  },
  {
   "cell_type": "code",
   "execution_count": 4,
   "metadata": {
    "colab": {
     "base_uri": "https://localhost:8080/",
     "height": 204
    },
    "colab_type": "code",
    "id": "pz9y0SwJWGYu",
    "outputId": "db023e70-e80e-44e5-dda8-2b9cadc84392"
   },
   "outputs": [
    {
     "data": {
      "text/html": [
       "<div>\n",
       "<style scoped>\n",
       "    .dataframe tbody tr th:only-of-type {\n",
       "        vertical-align: middle;\n",
       "    }\n",
       "\n",
       "    .dataframe tbody tr th {\n",
       "        vertical-align: top;\n",
       "    }\n",
       "\n",
       "    .dataframe thead th {\n",
       "        text-align: right;\n",
       "    }\n",
       "</style>\n",
       "<table border=\"1\" class=\"dataframe\">\n",
       "  <thead>\n",
       "    <tr style=\"text-align: right;\">\n",
       "      <th></th>\n",
       "      <th>t</th>\n",
       "      <th>u</th>\n",
       "      <th>z</th>\n",
       "      <th>v</th>\n",
       "      <th>a</th>\n",
       "      <th>c</th>\n",
       "      <th>r</th>\n",
       "      <th>ps</th>\n",
       "      <th>ps-a</th>\n",
       "    </tr>\n",
       "  </thead>\n",
       "  <tbody>\n",
       "    <tr>\n",
       "      <th>0</th>\n",
       "      <td>0.0</td>\n",
       "      <td>0</td>\n",
       "      <td>organic</td>\n",
       "      <td>1</td>\n",
       "      <td>&lt;NA&gt;</td>\n",
       "      <td>NaN</td>\n",
       "      <td>NaN</td>\n",
       "      <td>NaN</td>\n",
       "      <td>None</td>\n",
       "    </tr>\n",
       "    <tr>\n",
       "      <th>1</th>\n",
       "      <td>1.0</td>\n",
       "      <td>0</td>\n",
       "      <td>organic</td>\n",
       "      <td>4</td>\n",
       "      <td>&lt;NA&gt;</td>\n",
       "      <td>NaN</td>\n",
       "      <td>NaN</td>\n",
       "      <td>NaN</td>\n",
       "      <td>None</td>\n",
       "    </tr>\n",
       "    <tr>\n",
       "      <th>2</th>\n",
       "      <td>2.0</td>\n",
       "      <td>0</td>\n",
       "      <td>bandit</td>\n",
       "      <td>&lt;NA&gt;</td>\n",
       "      <td>4</td>\n",
       "      <td>0.0</td>\n",
       "      <td>0.0</td>\n",
       "      <td>0.4995</td>\n",
       "      <td>()</td>\n",
       "    </tr>\n",
       "    <tr>\n",
       "      <th>3</th>\n",
       "      <td>3.0</td>\n",
       "      <td>0</td>\n",
       "      <td>bandit</td>\n",
       "      <td>&lt;NA&gt;</td>\n",
       "      <td>4</td>\n",
       "      <td>0.0</td>\n",
       "      <td>0.0</td>\n",
       "      <td>0.4995</td>\n",
       "      <td>()</td>\n",
       "    </tr>\n",
       "    <tr>\n",
       "      <th>4</th>\n",
       "      <td>4.0</td>\n",
       "      <td>0</td>\n",
       "      <td>organic</td>\n",
       "      <td>6</td>\n",
       "      <td>&lt;NA&gt;</td>\n",
       "      <td>NaN</td>\n",
       "      <td>NaN</td>\n",
       "      <td>NaN</td>\n",
       "      <td>None</td>\n",
       "    </tr>\n",
       "  </tbody>\n",
       "</table>\n",
       "</div>"
      ],
      "text/plain": [
       "     t  u        z     v     a    c    r      ps  ps-a\n",
       "0  0.0  0  organic     1  <NA>  NaN  NaN     NaN  None\n",
       "1  1.0  0  organic     4  <NA>  NaN  NaN     NaN  None\n",
       "2  2.0  0   bandit  <NA>     4  0.0  0.0  0.4995    ()\n",
       "3  3.0  0   bandit  <NA>     4  0.0  0.0  0.4995    ()\n",
       "4  4.0  0  organic     6  <NA>  NaN  NaN     NaN  None"
      ]
     },
     "execution_count": 4,
     "metadata": {},
     "output_type": "execute_result"
    }
   ],
   "source": [
    "reco_log.head(5)"
   ]
  },
  {
   "cell_type": "code",
   "execution_count": 5,
   "metadata": {},
   "outputs": [
    {
     "data": {
      "text/plain": [
       "array(['organic', 'bandit', 'sale'], dtype=object)"
      ]
     },
     "execution_count": 5,
     "metadata": {},
     "output_type": "execute_result"
    }
   ],
   "source": [
    "reco_log[\"z\"].unique()"
   ]
  },
  {
   "cell_type": "markdown",
   "metadata": {
    "colab_type": "text",
    "id": "3DRJls4LlDJu"
   },
   "source": [
    "We will use the popularity agent as the baseline. It basically predict the organic product that has been seen the most so far by the user. It is a simple but actually strong baseline."
   ]
  },
  {
   "cell_type": "code",
   "execution_count": 6,
   "metadata": {
    "colab": {},
    "colab_type": "code",
    "id": "Trdgc94glByy"
   },
   "outputs": [],
   "source": [
    "organic_counter_agent = OrganicUserEventCounterAgent(\n",
    "    Configuration({**organic_user_count_args, 'select_randomly': False, 'exploit_explore': False, 'epsilon': 0.0}))"
   ]
  },
  {
   "cell_type": "code",
   "execution_count": 7,
   "metadata": {
    "colab": {
     "base_uri": "https://localhost:8080/",
     "height": 317
    },
    "colab_type": "code",
    "id": "PckUhxfVlOb3",
    "outputId": "81965699-f401-40a3-b419-83451eddf364"
   },
   "outputs": [
    {
     "name": "stderr",
     "output_type": "stream",
     "text": [
      "Organic Users: 0it [00:00, ?it/s]\n",
      "Users: 100%|███████████████████████████████████████████████████████████████████████| 5000/5000 [03:25<00:00, 24.29it/s]\n"
     ]
    },
    {
     "data": {
      "image/png": "[encoded data removed]",
      "text/plain": [
       "<Figure size 432x288 with 1 Axes>"
      ]
     },
     "metadata": {},
     "output_type": "display_data"
    }
   ],
   "source": [
    "N_USERS_AB_TEST = 5000\n",
    "result_AB = verify_agents(env, N_USERS_AB_TEST, {'User-pop': organic_counter_agent})\n",
    "plot_verify_agents(result_AB)\n",
    "None"
   ]
  },
  {
   "cell_type": "markdown",
   "metadata": {
    "colab_type": "text",
    "id": "puyqtiMqWGYw"
   },
   "source": [
    "## Contextual Bandits\n",
    "\n",
    "### Data set transformation\n",
    "\n",
    "In order to feed logs to a model, we need to transform them such that we have a dataset consisting in sequences of user context $x$, taken action $a$, reward $c$ and propensity scores $p$."
   ]
  },
  {
   "cell_type": "code",
   "execution_count": 8,
   "metadata": {
    "colab": {},
    "colab_type": "code",
    "id": "PqXrnNwLqwd_"
   },
   "outputs": [],
   "source": [
    "class ProductCountFeatureProvider(FeatureProvider):\n",
    "    \"\"\"This feature provider creates a user state based on viewed product count.\n",
    "    Namely, the feature vector of shape (n_products, ) contains for each product how many times the\n",
    "    user has viewed them organically.\n",
    "    \"\"\"\n",
    "\n",
    "    def __init__(self, config):\n",
    "        super(ProductCountFeatureProvider, self).__init__(config)\n",
    "        self.feature_data = np.zeros((self.config.num_products)).astype(int)\n",
    "\n",
    "    def observe(self, observation):\n",
    "        for session in observation.sessions():\n",
    "            self.feature_data[int(session['v'])] += 1\n",
    "\n",
    "    def features(self, observation):\n",
    "        return self.feature_data.copy()\n",
    "\n",
    "    def reset(self):\n",
    "        self.feature_data[:] = 0\n",
    "\n",
    "\n",
    "def build_rectangular_data(logs, feature_provider):\n",
    "    \"\"\"Create a rectangular feature set from the logged data.\n",
    "    For each taken action, we compute the state in which the user was when the action was taken\n",
    "    \"\"\"\n",
    "    user_states, actions, rewards, proba_actions = [], [], [], []\n",
    "    \n",
    "    current_user = None\n",
    "    for _, row in logs.iterrows():\n",
    "        if current_user != row['u']:\n",
    "            # Use has changed: start a new session and reset user state\n",
    "            current_user = row['u']\n",
    "            sessions = OrganicSessions()\n",
    "            feature_provider.reset()\n",
    "        \n",
    "        context = DefaultContext(row['u'], row['t'])\n",
    "        \n",
    "        if (row['z'] == 'organic') or (row['z'] == 'sale'):\n",
    "            sessions.next(context, row['v'])\n",
    "            \n",
    "        else:\n",
    "            # For each bandit event, generate one observation for the user state, the taken action\n",
    "            # the obtained reward and the used probabilities\n",
    "            feature_provider.observe(Observation(context, sessions))\n",
    "            user_states += [feature_provider.features(None)] \n",
    "            actions += [row['a']]\n",
    "            rewards += [row['r']]\n",
    "            proba_actions += [row['ps']] \n",
    "            \n",
    "            # Start a new organic session\n",
    "            sessions = OrganicSessions()\n",
    "    \n",
    "    return np.array(user_states), np.array(actions).astype(int), np.array(rewards), np.array(proba_actions)"
   ]
  },
  {
   "cell_type": "markdown",
   "metadata": {
    "colab_type": "text",
    "id": "mSTZDLmumcxn"
   },
   "source": [
    "Let's build and dissect this so-called rectangular dataset"
   ]
  },
  {
   "cell_type": "code",
   "execution_count": 9,
   "metadata": {
    "colab": {},
    "colab_type": "code",
    "id": "G5XkYyU8o_qS"
   },
   "outputs": [],
   "source": [
    "# You can now see data that will be provided to our agents based on logistic regressions\n",
    "count_product_views_feature_provider = ProductCountFeatureProvider(config=Configuration(env_2_args))"
   ]
  },
  {
   "cell_type": "code",
   "execution_count": 10,
   "metadata": {
    "colab": {},
    "colab_type": "code",
    "id": "d7u0bEWymk4y"
   },
   "outputs": [],
   "source": [
    "rectangular_logs = build_rectangular_data(reco_log, count_product_views_feature_provider)\n",
    "user_states, actions, rewards, proba_actions = rectangular_logs"
   ]
  },
  {
   "cell_type": "code",
   "execution_count": 11,
   "metadata": {
    "colab": {
     "base_uri": "https://localhost:8080/",
     "height": 136
    },
    "colab_type": "code",
    "id": "BDjWBg4Jq3pr",
    "outputId": "4045b37c-0f62-4846-bbb1-22fb9a5de1a4"
   },
   "outputs": [
    {
     "name": "stdout",
     "output_type": "stream",
     "text": [
      "user product views count at action time\n",
      "[[0 0 0 0 5 1 0 0 0 5]\n",
      " [0 0 0 0 5 1 0 0 0 5]\n",
      " [0 0 0 0 5 1 0 0 0 5]\n",
      " [0 0 0 0 5 1 0 0 0 5]\n",
      " [0 0 0 0 5 1 0 0 0 5]]\n",
      "taken actions [4 4 4 9 4]\n",
      "obtained rewards [0. 0. 0. 0. 0.]\n",
      "probablities of the taken actions [0.45409091 0.45409091 0.45409091 0.45409091 0.45409091]\n"
     ]
    }
   ],
   "source": [
    "preview_start, preview_size = 300, 5\n",
    "\n",
    "print('user product views count at action time')\n",
    "print(user_states[preview_start:preview_start + preview_size])\n",
    "print('taken actions', actions[preview_start:preview_start + preview_size])\n",
    "print('obtained rewards', rewards[preview_start:preview_start + preview_size])\n",
    "print('probablities of the taken actions', proba_actions[preview_start:preview_start + preview_size])"
   ]
  },
  {
   "cell_type": "markdown",
   "metadata": {
    "colab_type": "text",
    "id": "7vBeh24FlntC"
   },
   "source": [
    "### Vanilla contextual bandit\n",
    "\n",
    "Classical value-based methods aim to learn the probability that a given action will lead to a positive reward, that is:\n",
    "\n",
    "$$p(c = 1|\\mathbf{x},a)$$\n",
    "\n",
    "In what follows, we will implement a different approach: a policy learning method.\n",
    "Policy-learning methods do not explicitly model the probability of a positive reward, but aim to directly model the action that should be taken, given a context:\n",
    "\n",
    "$$p(a|\\mathbf{x})$$\n",
    "\n",
    "Classical contextual bandits achieve this by optimising the expectation of the reward under the new (learned) policy $\\pi_\\theta$, given a logged dataset under policy $\\pi_0$.\n",
    "For a given dataset $\\mathcal{D}$ consisting of $N$ tuples $(\\mathbf{x},a,p,c)$, the objective can be written as the following:\n",
    "\n",
    "$$\\theta^{*} = \\text{argmax}_{\\theta} \\sum_{i=1}^{N}c_i\\frac{\\pi_\\theta(a_i|\\mathbf{x}_i)}{\\pi_0(a_i|\\mathbf{x}_i)}$$\n",
    "\n",
    "This objective can be straightforwardly optimised using your favourite package that provides auto-differentiation functionality.\n",
    "In our example, we will use PyTorch."
   ]
  },
  {
   "cell_type": "code",
   "execution_count": 12,
   "metadata": {
    "colab": {},
    "colab_type": "code",
    "id": "vrTg8M8ct8K8"
   },
   "outputs": [],
   "source": [
    "class MultinomialLogisticRegressionModel(torch.nn.Module):\n",
    "    def __init__(self, input_dim, output_dim):\n",
    "        torch.nn.Module.__init__(self)\n",
    "        # Generate weights - initialise randomly\n",
    "        self.weight = torch.nn.Parameter(torch.Tensor(output_dim, input_dim))\n",
    "        # torch.nn.init.kaiming_uniform_(self.weight, a = np.sqrt(5))\n",
    "        torch.nn.init.zeros_(self.weight)\n",
    "\n",
    "    def forward(self, x):\n",
    "        inner_product = F.linear(x, self.weight)\n",
    "        return F.softmax(inner_product, dim = 1)\n",
    "\n",
    "class VanillaContextualBandit(Agent):\n",
    "    def __init__(self, config, U = U, P = P, clipping_value = 1e5, max_epoch=30):\n",
    "        Agent.__init__(self, config)\n",
    "        self.model = MultinomialLogisticRegressionModel(P, P)\n",
    "        self.loss_history = []\n",
    "        self.user_state = np.zeros(P)\n",
    "        self.U = U\n",
    "        self.P = P\n",
    "        self.max_epoch = max_epoch\n",
    "        self.clipping_value = clipping_value\n",
    "\n",
    "    def loss(self, X, a, proba_logged_actions, r):\n",
    "        # Compute action predictions for clicks\n",
    "        predicted_proba_for_all_actions = self.model(X)\n",
    "        \n",
    "        # Only keep probabilities for the actions that were taken\n",
    "        predicted_proba = torch.gather(predicted_proba_for_all_actions, 1, a.unsqueeze(1)).reshape(-1)\n",
    "        \n",
    "        # expectation of the rewards under the new policy\n",
    "        rewards = predicted_proba / proba_logged_actions\n",
    "        \n",
    "        # code here\n",
    "        # We can cap the weights here (or equivalently the rewards in our case)\n",
    "        # to some value of our choosing\n",
    "        rewards = torch.clamp(input = rewards, max = self.clipping_value)\n",
    "        \n",
    "        # Since pytorch is meant to perform convex optimization, we rather\n",
    "        # output a loss that we will want to minimize\n",
    "        loss = - rewards.mean()\n",
    "        return loss\n",
    "\n",
    "    def train(self, rectangular_logs):\n",
    "        \"\"\"Train the contextual bandit based on an offline log such that it \n",
    "        learns to minimize its loss function\n",
    "        \"\"\"\n",
    "        user_states, actions, rewards, proba_actions = rectangular_logs\n",
    "        X = user_states\n",
    "        a = actions\n",
    "        p = proba_actions\n",
    "        r = rewards\n",
    "        \n",
    "        # Put into PyTorch variables - drop unsaled samples\n",
    "        X = Variable(torch.Tensor(X[r != 0]))\n",
    "        a = Variable(torch.LongTensor(a[r != 0]))\n",
    "        w = torch.Tensor(p[r != 0])\n",
    "        \n",
    "        def closure():\n",
    "            # Reset gradients\n",
    "            optimiser.zero_grad()\n",
    "\n",
    "            return self.loss(X, a, w, r)\n",
    "        \n",
    "        # Set up optimiser\n",
    "        optimiser = FullBatchLBFGS(self.model.parameters())\n",
    "\n",
    "        # Initial loss\n",
    "        self.loss_history.append(closure())\n",
    "        max_epoch = self.max_epoch\n",
    "        for epoch in range(max_epoch):\n",
    "            # Optimisation step\n",
    "            obj, _, _, _, _, _, _, _ = optimiser.step({'closure': closure,\n",
    "                                                       'current_loss': self.loss_history[-1],\n",
    "                                                       'max_ls': 20})\n",
    "            self.loss_history.append(obj)\n",
    "        \n",
    "        return\n",
    "\n",
    "    def plot_loss_history(self):\n",
    "        ''' Plot the training loss over epochs '''\n",
    "        _,_ = plt.subplots()\n",
    "        plt.plot(range(len(self.loss_history)),self.loss_history)\n",
    "        plt.xlabel('epoch')\n",
    "        plt.ylabel('loss')\n",
    "        plt.show()\n",
    "        \n",
    "    def observe(self, observation):\n",
    "        ''' Observe new organic views and capture them in the user state '''\n",
    "        for session in observation.sessions():\n",
    "            self.user_state[int(session['v'])] += 1\n",
    "\n",
    "    def act(self, observation, reward, done):\n",
    "        ''' Pick an action, based on the current observation and the history '''\n",
    "        # Observe\n",
    "        self.observe(observation)\n",
    "\n",
    "        # Act\n",
    "        p_a = self.model(torch.Tensor([self.user_state])).detach().numpy().ravel()\n",
    "        action = np.argmax(p_a)\n",
    "        prob = np.zeros_like(p_a)\n",
    "        prob[action] = 1.0\n",
    "\n",
    "        return {\n",
    "            **super().act(observation, reward, done),\n",
    "            **{\n",
    "                'a': action,\n",
    "                'ps': 1.0,\n",
    "                'ps-a': prob,\n",
    "            },\n",
    "        }\n",
    "\n",
    "    def reset(self):\n",
    "        ''' Reset the user state '''\n",
    "        self.user_state = np.zeros(self.P)"
   ]
  },
  {
   "cell_type": "code",
   "execution_count": 13,
   "metadata": {
    "colab": {
     "base_uri": "https://localhost:8080/",
     "height": 299
    },
    "colab_type": "code",
    "id": "7-sqFQ5zWGYz",
    "outputId": "25db8e78-71f0-4757-f1d6-4c395904a3d3",
    "scrolled": true
   },
   "outputs": [],
   "source": [
    "vanilla_cb = VanillaContextualBandit({}, max_epoch=100)\n",
    "vanilla_cb.train(rectangular_logs)"
   ]
  },
  {
   "cell_type": "code",
   "execution_count": 14,
   "metadata": {},
   "outputs": [
    {
     "data": {
      "image/png": "[encoded data removed]",
      "text/plain": [
       "<Figure size 432x288 with 1 Axes>"
      ]
     },
     "metadata": {},
     "output_type": "display_data"
    }
   ],
   "source": [
    "vanilla_cb.plot_loss_history()"
   ]
  },
  {
   "cell_type": "code",
   "execution_count": 15,
   "metadata": {
    "colab": {
     "base_uri": "https://localhost:8080/",
     "height": 362
    },
    "colab_type": "code",
    "id": "5h-81oqEZLaA",
    "outputId": "69f202fa-741d-4a41-e101-ad8552732c55"
   },
   "outputs": [
    {
     "name": "stderr",
     "output_type": "stream",
     "text": [
      "Organic Users: 0it [00:00, ?it/s]\n",
      "Users: 100%|███████████████████████████████████████████████████████████████████████| 5000/5000 [04:48<00:00, 17.33it/s]\n"
     ]
    },
    {
     "data": {
      "image/png": "[encoded data removed]",
      "text/plain": [
       "<Figure size 432x288 with 1 Axes>"
      ]
     },
     "metadata": {},
     "output_type": "display_data"
    }
   ],
   "source": [
    "result_AB = pd.concat([result_AB, verify_agents(env, N_USERS_AB_TEST, {'Contextual Bandit': vanilla_cb})])\n",
    "plot_verify_agents(result_AB)\n",
    "None"
   ]
  },
  {
   "cell_type": "markdown",
   "metadata": {
    "colab_type": "text",
    "id": "UMuDCT71kEF7"
   },
   "source": [
    "It appears that some clicked events were actually sampled with a small probability ($\\pi_0 \\ll 1$). This might lead to overfitting for the contextual bandit and bad online performances."
   ]
  },
  {
   "cell_type": "code",
   "execution_count": 16,
   "metadata": {
    "colab": {
     "base_uri": "https://localhost:8080/",
     "height": 204
    },
    "colab_type": "code",
    "id": "TIW2y9ORnHLO",
    "outputId": "5d8a2cb6-f6f9-4680-c130-0f17dd56ad92"
   },
   "outputs": [
    {
     "data": {
      "text/html": [
       "<div>\n",
       "<style scoped>\n",
       "    .dataframe tbody tr th:only-of-type {\n",
       "        vertical-align: middle;\n",
       "    }\n",
       "\n",
       "    .dataframe tbody tr th {\n",
       "        vertical-align: top;\n",
       "    }\n",
       "\n",
       "    .dataframe thead th {\n",
       "        text-align: right;\n",
       "    }\n",
       "</style>\n",
       "<table border=\"1\" class=\"dataframe\">\n",
       "  <thead>\n",
       "    <tr style=\"text-align: right;\">\n",
       "      <th></th>\n",
       "      <th>t</th>\n",
       "      <th>u</th>\n",
       "      <th>z</th>\n",
       "      <th>v</th>\n",
       "      <th>a</th>\n",
       "      <th>c</th>\n",
       "      <th>r</th>\n",
       "      <th>ps</th>\n",
       "      <th>ps-a</th>\n",
       "    </tr>\n",
       "  </thead>\n",
       "  <tbody>\n",
       "    <tr>\n",
       "      <th>6549</th>\n",
       "      <td>38.0</td>\n",
       "      <td>68</td>\n",
       "      <td>bandit</td>\n",
       "      <td>&lt;NA&gt;</td>\n",
       "      <td>2</td>\n",
       "      <td>1.0</td>\n",
       "      <td>1.0</td>\n",
       "      <td>0.000143</td>\n",
       "      <td>()</td>\n",
       "    </tr>\n",
       "    <tr>\n",
       "      <th>59856</th>\n",
       "      <td>16.0</td>\n",
       "      <td>533</td>\n",
       "      <td>bandit</td>\n",
       "      <td>&lt;NA&gt;</td>\n",
       "      <td>8</td>\n",
       "      <td>0.0</td>\n",
       "      <td>1.0</td>\n",
       "      <td>0.000143</td>\n",
       "      <td>()</td>\n",
       "    </tr>\n",
       "    <tr>\n",
       "      <th>49955</th>\n",
       "      <td>34.0</td>\n",
       "      <td>440</td>\n",
       "      <td>bandit</td>\n",
       "      <td>&lt;NA&gt;</td>\n",
       "      <td>6</td>\n",
       "      <td>0.0</td>\n",
       "      <td>1.0</td>\n",
       "      <td>0.000200</td>\n",
       "      <td>()</td>\n",
       "    </tr>\n",
       "    <tr>\n",
       "      <th>48633</th>\n",
       "      <td>441.0</td>\n",
       "      <td>428</td>\n",
       "      <td>bandit</td>\n",
       "      <td>&lt;NA&gt;</td>\n",
       "      <td>5</td>\n",
       "      <td>1.0</td>\n",
       "      <td>1.0</td>\n",
       "      <td>0.008056</td>\n",
       "      <td>()</td>\n",
       "    </tr>\n",
       "    <tr>\n",
       "      <th>60342</th>\n",
       "      <td>296.0</td>\n",
       "      <td>535</td>\n",
       "      <td>bandit</td>\n",
       "      <td>&lt;NA&gt;</td>\n",
       "      <td>8</td>\n",
       "      <td>0.0</td>\n",
       "      <td>1.0</td>\n",
       "      <td>0.010628</td>\n",
       "      <td>()</td>\n",
       "    </tr>\n",
       "  </tbody>\n",
       "</table>\n",
       "</div>"
      ],
      "text/plain": [
       "           t    u       z     v  a    c    r        ps ps-a\n",
       "6549    38.0   68  bandit  <NA>  2  1.0  1.0  0.000143   ()\n",
       "59856   16.0  533  bandit  <NA>  8  0.0  1.0  0.000143   ()\n",
       "49955   34.0  440  bandit  <NA>  6  0.0  1.0  0.000200   ()\n",
       "48633  441.0  428  bandit  <NA>  5  1.0  1.0  0.008056   ()\n",
       "60342  296.0  535  bandit  <NA>  8  0.0  1.0  0.010628   ()"
      ]
     },
     "execution_count": 16,
     "metadata": {},
     "output_type": "execute_result"
    }
   ],
   "source": [
    "(reco_log[reco_log['r'] > 0]).sort_values('ps').head(5)"
   ]
  },
  {
   "cell_type": "markdown",
   "metadata": {
    "colab_type": "text",
    "id": "VR0r1kvpWGY1"
   },
   "source": [
    "## Log Contextual Bandit"
   ]
  },
  {
   "cell_type": "code",
   "execution_count": 17,
   "metadata": {
    "colab": {},
    "colab_type": "code",
    "id": "qHTJMOW_HuVs"
   },
   "outputs": [],
   "source": [
    "class LogContextualBandit(VanillaContextualBandit):\n",
    "\n",
    "    def loss(self, X, a, proba_logged_actions, r):\n",
    "        # Compute action predictions for sales\n",
    "        predicted_proba_for_all_actions = self.model(X)\n",
    "        \n",
    "        # Only keep probabilities for the actions that were taken\n",
    "        predicted_proba = torch.gather(predicted_proba_for_all_actions, 1, a.unsqueeze(1)).reshape(-1)\n",
    "        \n",
    "        # expectation of the reward under the new policy\n",
    "        # code here\n",
    "        reward = predicted_proba / proba_logged_actions\n",
    "        \n",
    "        loss = -reward\n",
    "\n",
    "        return loss.mean()"
   ]
  },
  {
   "cell_type": "code",
   "execution_count": 18,
   "metadata": {
    "colab": {
     "base_uri": "https://localhost:8080/",
     "height": 299
    },
    "colab_type": "code",
    "id": "cTSdaQTIWGY2",
    "outputId": "98f31ab4-21d7-4c89-e65a-e6ef3e681558",
    "scrolled": true
   },
   "outputs": [],
   "source": [
    "log_cb = LogContextualBandit({}, max_epoch=200)\n",
    "log_cb.train(rectangular_logs)"
   ]
  },
  {
   "cell_type": "code",
   "execution_count": 19,
   "metadata": {},
   "outputs": [
    {
     "data": {
      "image/png": "[encoded data removed]",
      "text/plain": [
       "<Figure size 432x288 with 1 Axes>"
      ]
     },
     "metadata": {},
     "output_type": "display_data"
    }
   ],
   "source": [
    "log_cb.plot_loss_history()"
   ]
  },
  {
   "cell_type": "code",
   "execution_count": 20,
   "metadata": {
    "colab": {
     "base_uri": "https://localhost:8080/",
     "height": 407
    },
    "colab_type": "code",
    "id": "eirfds7GWGY3",
    "outputId": "da4b4787-95ab-44e5-ea64-ef0bf35cbf65"
   },
   "outputs": [
    {
     "name": "stderr",
     "output_type": "stream",
     "text": [
      "Organic Users: 0it [00:00, ?it/s]\n",
      "Users: 100%|███████████████████████████████████████████████████████████████████████| 5000/5000 [04:10<00:00, 19.98it/s]\n"
     ]
    },
    {
     "data": {
      "image/png": "[encoded data removed]",
      "text/plain": [
       "<Figure size 432x288 with 1 Axes>"
      ]
     },
     "metadata": {},
     "output_type": "display_data"
    }
   ],
   "source": [
    "result_AB = pd.concat([result_AB, verify_agents(env, N_USERS_AB_TEST, {'Log Contextual Bandit': log_cb})])\n",
    "plot_verify_agents(result_AB)\n",
    "None"
   ]
  },
  {
   "cell_type": "markdown",
   "metadata": {
    "colab_type": "text",
    "id": "h7dIHhB1WGY8"
   },
   "source": [
    "## POEM\n",
    "\n",
    "The classical IPS estimator has its disadvantages, however.\n",
    "In its current form, the variance of the estimate can grow to be of significant size.\n",
    "To mitigate this, Swaminathan and Joachims propose to include a sample variance penalisation term to the objective, effectively ensuring that the learned model does not stray too far from the logging policy.\n",
    "\n",
    "This is the Counterfactual Risk Minimisation (CRM) objective, and the learning method optimising it directly is called POEM:\n",
    "$$\\theta^{*} = \\text{argmax}_{\\theta} \\sum_{i=1}^{N}c_i\\frac{\\pi_\\theta(a_i|\\mathbf{x}_i)}{\\pi_0(a_i|\\mathbf{x}_i)} - \\lambda \\sqrt{\\frac{\\widehat{Var}_\\theta}{N}} $$\n",
    "\n",
    "\n",
    "We model $\\pi_\\theta$ as linear:\n",
    "\n",
    "$$\\pi_\\theta(a|\\mathbf{x}) = \\text{softmax}(\\mathbf{x}^{\\intercal}\\theta)_a$$\n",
    "\n",
    "\n",
    "Swaminathan, Adith, and Thorsten Joachims. \"Batch learning from logged bandit feedback through counterfactual risk minimization.\" Journal of Machine Learning Research 16.1 (2015): 1731-1755."
   ]
  },
  {
   "cell_type": "code",
   "execution_count": 21,
   "metadata": {
    "colab": {},
    "colab_type": "code",
    "id": "84mS8hNKIMYW"
   },
   "outputs": [],
   "source": [
    "class PoemContextualBandit(VanillaContextualBandit):\n",
    "    def __init__(self, config, U = U, P = P, max_epoch=30, variance_penalization_factor=0.):\n",
    "        VanillaContextualBandit.__init__(self, config, U=U, P=P, max_epoch=max_epoch)\n",
    "        self.variance_penalization_factor = variance_penalization_factor\n",
    "\n",
    "    def loss(self, X, a, proba_logged_actions, r):\n",
    "        # Compute action predictions for clicks\n",
    "        predicted_proba_for_all_actions = self.model(X)\n",
    "        \n",
    "        # Only keep probabilities for the actions that were taken\n",
    "        predicted_proba = torch.gather(predicted_proba_for_all_actions, 1, a.unsqueeze(1)).reshape(-1)\n",
    "        \n",
    "        # expectation of the loss under the new policy\n",
    "        # code here\n",
    "        # Note: have a look at torch.sqrt and torch.var\n",
    "        reward = predicted_proba / proba_logged_actions\n",
    "        loss = - reward.mean() + self.variance_penalization_factor*torch.sqrt(torch.var(reward)/predicted_proba.size()[0])\n",
    "        return loss\n"
   ]
  },
  {
   "cell_type": "code",
   "execution_count": 22,
   "metadata": {
    "colab": {
     "base_uri": "https://localhost:8080/",
     "height": 34
    },
    "colab_type": "code",
    "id": "umlUlCGLFjxb",
    "outputId": "b38ea2bc-f6ca-4cac-af2a-24956182d3dd"
   },
   "outputs": [],
   "source": [
    "poem = PoemContextualBandit({}, variance_penalization_factor=0.4, max_epoch=100)\n",
    "poem.train(rectangular_logs)"
   ]
  },
  {
   "cell_type": "code",
   "execution_count": 23,
   "metadata": {},
   "outputs": [
    {
     "data": {
      "image/png": "[encoded data removed]",
      "text/plain": [
       "<Figure size 432x288 with 1 Axes>"
      ]
     },
     "metadata": {},
     "output_type": "display_data"
    }
   ],
   "source": [
    "poem.plot_loss_history()"
   ]
  },
  {
   "cell_type": "code",
   "execution_count": 24,
   "metadata": {
    "colab": {
     "base_uri": "https://localhost:8080/",
     "height": 407
    },
    "colab_type": "code",
    "id": "fj2W8CC7GCJn",
    "outputId": "d971fd45-3871-47be-826d-a646ac284da4"
   },
   "outputs": [
    {
     "name": "stderr",
     "output_type": "stream",
     "text": [
      "Organic Users: 0it [00:00, ?it/s]\n",
      "Users: 100%|███████████████████████████████████████████████████████████████████████| 5000/5000 [03:42<00:00, 22.45it/s]\n"
     ]
    },
    {
     "data": {
      "image/png": "[encoded data removed]",
      "text/plain": [
       "<Figure size 432x288 with 1 Axes>"
      ]
     },
     "metadata": {},
     "output_type": "display_data"
    }
   ],
   "source": [
    "result_AB = pd.concat([result_AB, verify_agents(env, N_USERS_AB_TEST, {f'POEM': poem})])\n",
    "plot_verify_agents(result_AB)\n",
    "None"
   ]
  },
  {
   "cell_type": "code",
   "execution_count": 25,
   "metadata": {},
   "outputs": [
    {
     "data": {
      "text/html": [
       "<div>\n",
       "<style scoped>\n",
       "    .dataframe tbody tr th:only-of-type {\n",
       "        vertical-align: middle;\n",
       "    }\n",
       "\n",
       "    .dataframe tbody tr th {\n",
       "        vertical-align: top;\n",
       "    }\n",
       "\n",
       "    .dataframe thead th {\n",
       "        text-align: right;\n",
       "    }\n",
       "</style>\n",
       "<table border=\"1\" class=\"dataframe\">\n",
       "  <thead>\n",
       "    <tr style=\"text-align: right;\">\n",
       "      <th></th>\n",
       "      <th>Agent</th>\n",
       "      <th>0.025</th>\n",
       "      <th>0.500</th>\n",
       "      <th>0.975</th>\n",
       "    </tr>\n",
       "  </thead>\n",
       "  <tbody>\n",
       "    <tr>\n",
       "      <th>0</th>\n",
       "      <td>User-pop</td>\n",
       "      <td>0.021790</td>\n",
       "      <td>0.022246</td>\n",
       "      <td>0.022707</td>\n",
       "    </tr>\n",
       "    <tr>\n",
       "      <th>0</th>\n",
       "      <td>Contextual Bandit</td>\n",
       "      <td>0.021192</td>\n",
       "      <td>0.021640</td>\n",
       "      <td>0.022094</td>\n",
       "    </tr>\n",
       "    <tr>\n",
       "      <th>0</th>\n",
       "      <td>Log Contextual Bandit</td>\n",
       "      <td>0.021213</td>\n",
       "      <td>0.021662</td>\n",
       "      <td>0.022116</td>\n",
       "    </tr>\n",
       "    <tr>\n",
       "      <th>0</th>\n",
       "      <td>POEM</td>\n",
       "      <td>0.021522</td>\n",
       "      <td>0.021974</td>\n",
       "      <td>0.022433</td>\n",
       "    </tr>\n",
       "  </tbody>\n",
       "</table>\n",
       "</div>"
      ],
      "text/plain": [
       "                   Agent     0.025     0.500     0.975\n",
       "0               User-pop  0.021790  0.022246  0.022707\n",
       "0      Contextual Bandit  0.021192  0.021640  0.022094\n",
       "0  Log Contextual Bandit  0.021213  0.021662  0.022116\n",
       "0                   POEM  0.021522  0.021974  0.022433"
      ]
     },
     "execution_count": 25,
     "metadata": {},
     "output_type": "execute_result"
    }
   ],
   "source": [
    "result_AB"
   ]
  }
 ],
 "metadata": {
  "colab": {
   "collapsed_sections": [],
   "name": "4. Counterfactual Risk Minimisation (CRM).ipynb",
   "provenance": []
  },
  "kernelspec": {
   "display_name": "Python 3",
   "language": "python",
   "name": "python3"
  },
  "language_info": {
   "codemirror_mode": {
    "name": "ipython",
    "version": 3
   },
   "file_extension": ".py",
   "mimetype": "text/x-python",
   "name": "python",
   "nbconvert_exporter": "python",
   "pygments_lexer": "ipython3",
   "version": "3.7.4"
  },
  "pycharm": {
   "stem_cell": {
    "cell_type": "raw",
    "metadata": {
     "collapsed": false
    },
    "source": []
   }
  }
 },
 "nbformat": 4,
 "nbformat_minor": 4
}
