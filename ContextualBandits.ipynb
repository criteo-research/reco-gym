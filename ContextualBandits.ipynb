{
 "cells": [
  {
   "cell_type": "markdown",
   "metadata": {
    "pycharm": {}
   },
   "source": [
    "# Step 1. Setup Env\n",
    "!pip install git+https://github.com/criteo-research/reco-gym.git@course"
   ]
  },
  {
   "cell_type": "code",
   "execution_count": 1,
   "metadata": {
    "pycharm": {
     "is_executing": false,
     "name": "#%%\n"
    }
   },
   "outputs": [],
   "source": [
    "from recogym.envs.session import OrganicSessions\n",
    "\n",
    "from numpy.random.mtrand import RandomState\n",
    "from recogym import Configuration, DefaultContext, Observation\n",
    "from recogym.agents import Agent\n",
    "from recogym.agents import organic_user_count_args, OrganicUserEventCounterAgent\n",
    "from sklearn.linear_model import LogisticRegression\n",
    "from sklearn.preprocessing import LabelBinarizer\n",
    "from recogym.evaluate_agent import verify_agents, plot_verify_agents\n",
    "from recogym.agents import FeatureProvider\n",
    "\n",
    "import math\n",
    "import gym\n",
    "from copy import deepcopy\n",
    "from recogym import env_1_args\n",
    "import matplotlib.pyplot as plt\n",
    "import numpy as np\n",
    "\n",
    "%matplotlib inline\n",
    "\n",
    "%config InlineBackend.figure_format = 'retina'\n",
    "plt.rcParams['figure.figsize'] = [6, 3]"
   ]
  },
  {
   "cell_type": "code",
   "execution_count": 2,
   "metadata": {},
   "outputs": [],
   "source": [
    "def get_recogym_configuration(num_products, random_seed=42):\n",
    "    return Configuration({\n",
    "        **env_1_args, \n",
    "        'random_seed': random_seed,\n",
    "        'num_products': num_products,\n",
    "        # 'phi_var': 0.0,\n",
    "        # 'sigma_mu_organic': 0.,\n",
    "        # 'sigma_omega': 0.,\n",
    "        # 'K': 5,\n",
    "        # 'number_of_flips': 5,\n",
    "    })\n",
    "\n",
    "\n",
    "def get_environement(num_products, random_seed=42):\n",
    "    env = gym.make('reco-gym-v1')\n",
    "    env.init_gym(get_recogym_configuration(num_products, random_seed=random_seed).__dict__)\n",
    "    \n",
    "    return env"
   ]
  },
  {
   "cell_type": "markdown",
   "metadata": {
    "pycharm": {}
   },
   "source": [
    "# Step 2. Generate the training data and derive the raw features"
   ]
  },
  {
   "cell_type": "code",
   "execution_count": 3,
   "metadata": {
    "pycharm": {
     "is_executing": false
    }
   },
   "outputs": [],
   "source": [
    "NUM_USERS = 1000\n",
    "NUM_PRODUCTS = 10\n",
    "\n",
    "organic_counter_agent = OrganicUserEventCounterAgent(Configuration({\n",
    "           **organic_user_count_args,\n",
    "           **get_recogym_configuration(NUM_PRODUCTS).__dict__,\n",
    "           'select_randomly': True,\n",
    "       }))\n",
    "\n",
    "popularity_policy_logs = get_environement(NUM_PRODUCTS).generate_logs(NUM_USERS, organic_counter_agent)"
   ]
  },
  {
   "cell_type": "code",
   "execution_count": 4,
   "metadata": {
    "pycharm": {
     "is_executing": false,
     "metadata": false,
     "name": "#%%\n"
    }
   },
   "outputs": [],
   "source": [
    "class ProductCountFeatureProvider(FeatureProvider):\n",
    "    \"\"\"This feature provider creates a user state based on viewed product count.\n",
    "    Namely, the feature vector of shape (n_products, ) contains for each product how many times the\n",
    "    user has viewed them organically.\n",
    "    \"\"\"\n",
    "\n",
    "    def __init__(self, config):\n",
    "        super(ProductCountFeatureProvider, self).__init__(config)\n",
    "        self.feature_data = np.zeros((self.config.num_products)).astype(int)\n",
    "\n",
    "    def observe(self, observation):\n",
    "        for session in observation.sessions():\n",
    "            self.feature_data[int(session['v'])] += 1\n",
    "\n",
    "    def features(self, observation):\n",
    "        return self.feature_data.copy()\n",
    "\n",
    "    def reset(self):\n",
    "        self.feature_data[:] = 0\n",
    "\n",
    "\n",
    "def build_rectangular_data(logs, feature_provider):\n",
    "    \"\"\"Create a rectangular feature set from the logged data.\n",
    "    For each taken action, we compute the state in which the user was when the action was taken\n",
    "    \"\"\"\n",
    "    user_states, actions, rewards, proba_actions = [], [], [], []\n",
    "    \n",
    "    current_user = None\n",
    "    for _, row in logs.iterrows():\n",
    "        if current_user != row['u']:\n",
    "            # User has changed: start a new session and reset user state\n",
    "            current_user = row['u']\n",
    "            sessions = OrganicSessions()\n",
    "            feature_provider.reset()\n",
    "        \n",
    "        context = DefaultContext(row['u'], row['t'])\n",
    "        \n",
    "        if row['z'] == 'organic':\n",
    "            sessions.next(context, row['v'])\n",
    "            \n",
    "        else:\n",
    "            # For each bandit event, generate one observation for the user state, the taken action\n",
    "            # the obtained reward and the used probabilities\n",
    "            feature_provider.observe(Observation(context, sessions))\n",
    "            user_states += [feature_provider.features(None)] \n",
    "            actions += [row['a']]\n",
    "            rewards += [row['c']]\n",
    "            proba_actions += [row['ps']] \n",
    "            \n",
    "            # Start a new organic session\n",
    "            sessions = OrganicSessions()\n",
    "    \n",
    "    return np.array(user_states), np.array(actions).astype(int), np.array(rewards), np.array(proba_actions)"
   ]
  },
  {
   "cell_type": "code",
   "execution_count": 5,
   "metadata": {
    "pycharm": {
     "is_executing": false,
     "metadata": false,
     "name": "#%%\n"
    }
   },
   "outputs": [],
   "source": [
    "# You can now see data that will be provided to our agents based on logistic regressions\n",
    "feature_provider = ProductCountFeatureProvider(config=get_recogym_configuration(NUM_PRODUCTS))\n",
    "user_states, actions, rewards, proba_actions = build_rectangular_data(popularity_policy_logs, feature_provider)"
   ]
  },
  {
   "cell_type": "code",
   "execution_count": 6,
   "metadata": {
    "scrolled": false
   },
   "outputs": [
    {
     "name": "stdout",
     "output_type": "stream",
     "text": [
      "user product views count at action time\n",
      "[[0 0 0 1 1 5 0 0 0 0]\n",
      " [0 0 0 1 2 7 0 0 0 0]\n",
      " [0 0 0 1 2 7 0 0 0 0]\n",
      " [0 0 0 1 2 7 0 0 0 0]\n",
      " [0 0 0 1 2 7 0 0 0 0]\n",
      " [0 0 0 1 2 7 0 0 0 0]\n",
      " [0 0 0 1 2 7 0 0 0 0]\n",
      " [0 0 0 1 2 7 0 0 0 0]\n",
      " [0 0 0 1 2 7 0 0 0 0]\n",
      " [0 0 0 1 2 7 0 0 0 0]]\n",
      "taken actions [5 5 5 5 5 4 5 5 5 5]\n",
      "obtained rewards [1. 0. 0. 0. 0. 0. 0. 0. 0. 0.]\n",
      "action probablities [0.71428571 0.7        0.7        0.7        0.7        0.2\n",
      " 0.7        0.7        0.7        0.7       ]\n"
     ]
    }
   ],
   "source": [
    "preview_start, preview_size = 500, 10\n",
    "\n",
    "print('user product views count at action time')\n",
    "print(user_states[preview_start:preview_start + preview_size])\n",
    "print('taken actions', actions[preview_start:preview_start + preview_size])\n",
    "print('obtained rewards', rewards[preview_start:preview_start + preview_size])\n",
    "print('action probablities', proba_actions[preview_start:preview_start + preview_size])"
   ]
  },
  {
   "cell_type": "markdown",
   "metadata": {
    "pycharm": {
     "metadata": false
    }
   },
   "source": [
    "# Step 3.A. Define and train the bandit likelihood agent"
   ]
  },
  {
   "cell_type": "markdown",
   "metadata": {
    "pycharm": {}
   },
   "source": [
    "In order to be able to make the link between the state and the actions, we need to create cross-features that show how good a certain pair of state,action is from the pv of predicting pClick (pReward)"
   ]
  },
  {
   "cell_type": "code",
   "execution_count": 7,
   "metadata": {},
   "outputs": [],
   "source": [
    "class LikelihoodAgent(Agent):\n",
    "    def __init__(self, feature_provider, use_argmax=False, seed=43):\n",
    "        self.feature_provider = feature_provider\n",
    "        self.use_argmax = use_argmax\n",
    "        self.random_state = RandomState(seed)\n",
    "        self.model = None\n",
    "        \n",
    "    @property\n",
    "    def num_products(self):\n",
    "        return self.feature_provider.config.num_products\n",
    "    \n",
    "    def _create_features(self, user_state, action):\n",
    "        \"\"\"Create the features that are used to estimate the expected reward from the user state.\n",
    "        \"\"\"\n",
    "        features = np.zeros(len(user_state) * self.num_products)\n",
    "        features[action * len(user_state): (action + 1) * len(user_state)] = user_state\n",
    "        \n",
    "        return features\n",
    "    \n",
    "    def train(self, logs):\n",
    "        user_states, actions, rewards, proba_actions = build_rectangular_data(logs, self.feature_provider)\n",
    "        \n",
    "        features = np.vstack([\n",
    "            self._create_features(user_state, action) \n",
    "            for user_state, action in zip(user_states, actions)\n",
    "        ])\n",
    "        self.model = LogisticRegression(solver='lbfgs', max_iter=5000)\n",
    "        self.model.fit(features, rewards)\n",
    "\n",
    "    \n",
    "    def _score_products(self, user_state):\n",
    "        all_action_features = np.array([\n",
    "            self._create_features(user_state, action) \n",
    "            for action in range(self.num_products)\n",
    "        ])\n",
    "        return self.model.predict_proba(all_action_features)[0, :]\n",
    "        \n",
    "    def act(self, observation, reward, done):\n",
    "        \"\"\"Act method returns an action based on current observation and past history\"\"\"\n",
    "        self.feature_provider.observe(observation)        \n",
    "        user_state = self.feature_provider.features(observation)\n",
    "        prob = self._score_products(user_state)\n",
    "        \n",
    "        if self.use_argmax:\n",
    "            action = self.random_state.choice(self.num_products, p=prob)\n",
    "            ps = prob[action]\n",
    "            all_ps = prob.copy()\n",
    "        else:\n",
    "            action = np.argmax(prob)\n",
    "            ps = 1.0\n",
    "            all_ps = np.zeros(self.num_products)\n",
    "            all_ps[action] = 1.0\n",
    "      \n",
    "        return {\n",
    "            **super().act(observation, reward, done),\n",
    "            **{\n",
    "                'a': action,\n",
    "                'ps': ps,\n",
    "                'ps-a': all_ps,\n",
    "            }\n",
    "        }\n",
    "\n",
    "    def reset(self):\n",
    "        self.feature_provider.reset()  "
   ]
  },
  {
   "cell_type": "code",
   "execution_count": 8,
   "metadata": {},
   "outputs": [
    {
     "name": "stdout",
     "output_type": "stream",
     "text": [
      "User state [0 0 0 1 1 5 0 0 0 0]\n",
      "action 5\n",
      "Created cross features\n",
      "[0. 0. 0. 0. 0. 0. 0. 0. 0. 0. 0. 0. 0. 0. 0. 0. 0. 0. 0. 0. 0. 0. 0. 0.\n",
      " 0. 0. 0. 0. 0. 0. 0. 0. 0. 0. 0. 0. 0. 0. 0. 0. 0. 0. 0. 0. 0. 0. 0. 0.\n",
      " 0. 0. 0. 0. 0. 1. 1. 5. 0. 0. 0. 0. 0. 0. 0. 0. 0. 0. 0. 0. 0. 0. 0. 0.\n",
      " 0. 0. 0. 0. 0. 0. 0. 0. 0. 0. 0. 0. 0. 0. 0. 0. 0. 0. 0. 0. 0. 0. 0. 0.\n",
      " 0. 0. 0. 0.]\n"
     ]
    }
   ],
   "source": [
    "# Have a look at the feature vector used by the Likelihood agent\n",
    "picked_sample = 500\n",
    "\n",
    "count_product_views_feature_provider = ProductCountFeatureProvider(get_recogym_configuration(NUM_PRODUCTS))\n",
    "likelihood_logreg = LikelihoodAgent(count_product_views_feature_provider)\n",
    "\n",
    "print('User state', user_states[picked_sample])\n",
    "print('action', actions[picked_sample])\n",
    "print('Created cross features')\n",
    "print(likelihood_logreg._create_features(user_states[picked_sample], actions[picked_sample]))"
   ]
  },
  {
   "cell_type": "code",
   "execution_count": 9,
   "metadata": {
    "pycharm": {
     "is_executing": false
    }
   },
   "outputs": [
    {
     "name": "stdout",
     "output_type": "stream",
     "text": [
      "CPU times: user 42.2 s, sys: 2.2 s, total: 44.4 s\n",
      "Wall time: 23.1 s\n"
     ]
    }
   ],
   "source": [
    "%%time\n",
    "\n",
    "likelihood_logreg = LikelihoodAgent(count_product_views_feature_provider)\n",
    "likelihood_logreg.train(popularity_policy_logs)"
   ]
  },
  {
   "cell_type": "code",
   "execution_count": 10,
   "metadata": {},
   "outputs": [
    {
     "data": {
      "image/png": "[encoded data removed]",
      "text/plain": [
       "<Figure size 432x288 with 1 Axes>"
      ]
     },
     "metadata": {
      "image/png": {
       "height": 337,
       "width": 391
      },
      "needs_background": "light"
     },
     "output_type": "display_data"
    },
    {
     "name": "stdout",
     "output_type": "stream",
     "text": [
      "CPU times: user 18 s, sys: 276 ms, total: 18.2 s\n",
      "Wall time: 18.5 s\n"
     ]
    }
   ],
   "source": [
    "%%time\n",
    "\n",
    "result = verify_agents(get_environement(NUM_PRODUCTS), NUM_USERS, {'likelihood logreg': likelihood_logreg})\n",
    "fig = plot_verify_agents(result)\n",
    "plt.show()"
   ]
  },
  {
   "cell_type": "markdown",
   "metadata": {
    "pycharm": {}
   },
   "source": [
    "# Step 3.B. Define and train the Contextual Bandit agent"
   ]
  },
  {
   "cell_type": "code",
   "execution_count": 11,
   "metadata": {},
   "outputs": [],
   "source": [
    "class PolicyAgent(LikelihoodAgent):\n",
    "    def __init__(self, feature_provider, use_argmax=False, seed=43):\n",
    "        LikelihoodAgent.__init__(self, feature_provider, use_argmax=use_argmax, seed=seed)\n",
    "    \n",
    "    def _create_features(self, user_state, action):\n",
    "        \"\"\"Create the features that are used to estimate the expected reward from the user state.\n",
    "        \"\"\"\n",
    "        return user_state\n",
    "    \n",
    "    def train(self, reco_log):\n",
    "        user_states, actions, rewards, proba_actions = build_rectangular_data(reco_log, feature_provider)\n",
    "        \n",
    "        features = np.vstack([\n",
    "            self._create_features(user_state, action) \n",
    "            for user_state, action in zip(user_states, actions)\n",
    "        ])        \n",
    "        labels = actions\n",
    "        weights = rewards / proba_actions\n",
    "        \n",
    "        self.model = LogisticRegression(multi_class='multinomial', solver='lbfgs', max_iter=5000)        \n",
    "        self.model.fit(features[weights != 0], labels[weights != 0], weights[weights != 0])\n",
    "    \n",
    "    def _score_products(self, user_state):\n",
    "        return self.model.predict_proba(self._create_features(user_state, None).reshape(1, -1))[0, :]\n"
   ]
  },
  {
   "cell_type": "code",
   "execution_count": 12,
   "metadata": {},
   "outputs": [
    {
     "name": "stdout",
     "output_type": "stream",
     "text": [
      "CPU times: user 17.3 s, sys: 279 ms, total: 17.6 s\n",
      "Wall time: 17.7 s\n"
     ]
    }
   ],
   "source": [
    "%%time\n",
    "\n",
    "policy_logreg = PolicyAgent(count_product_views_feature_provider)\n",
    "policy_logreg.train(popularity_policy_logs)"
   ]
  },
  {
   "cell_type": "code",
   "execution_count": 13,
   "metadata": {},
   "outputs": [
    {
     "data": {
      "image/png": "[encoded data removed]",
      "text/plain": [
       "<Figure size 432x288 with 1 Axes>"
      ]
     },
     "metadata": {
      "image/png": {
       "height": 337,
       "width": 384
      },
      "needs_background": "light"
     },
     "output_type": "display_data"
    }
   ],
   "source": [
    "result = verify_agents(get_environement(NUM_PRODUCTS), NUM_USERS, {\n",
    "    'likelihood logreg': likelihood_logreg, \n",
    "    'policy logreg': policy_logreg,\n",
    "    \n",
    "})\n",
    "fig = plot_verify_agents(result)\n",
    "plt.show()"
   ]
  },
  {
   "cell_type": "markdown",
   "metadata": {},
   "source": [
    "# Step 3.C Define and train Contextual Bandit agent on top product embeddings space"
   ]
  },
  {
   "cell_type": "code",
   "execution_count": 14,
   "metadata": {
    "pycharm": {
     "is_executing": true
    }
   },
   "outputs": [],
   "source": [
    "# Embeddings from previous notebook\n",
    "def create_embeddings(reco_log, num_products, embedding_size=5):\n",
    "    organic_reco_log = reco_log[reco_log['z'] == 'organic']\n",
    "\n",
    "    n_users = reco_log['u'].nunique()\n",
    "    counts = np.zeros((n_users, num_products))\n",
    "\n",
    "    binarizer = LabelBinarizer().fit(np.arange(num_products))\n",
    "    for u in range(n_users):\n",
    "        binarized_views_of_user = binarizer.transform(organic_reco_log[organic_reco_log['u'] == u]['v'])\n",
    "        counts[u, :] = binarized_views_of_user.sum(axis=0)\n",
    "\n",
    "    counts_above_zero = 1. * (counts > 0)  # above zero counts only\n",
    "    co_counts = np.matmul(counts_above_zero.T, counts_above_zero)\n",
    "\n",
    "    w, v = np.linalg.eig(co_counts)\n",
    "    idx = np.argsort(w)[::-1]\n",
    "    v = np.real(v[:, idx])\n",
    "    w = np.real(w[idx])\n",
    "\n",
    "    wdash = np.zeros_like(w)\n",
    "\n",
    "    wdash[0:embedding_size] = w[0:embedding_size]\n",
    "    embeddings = np.matmul(v, np.sqrt(np.diag(wdash)))[:, 0:embedding_size]  # keep the non-zero components\n",
    "    return embeddings"
   ]
  },
  {
   "cell_type": "code",
   "execution_count": 15,
   "metadata": {},
   "outputs": [],
   "source": [
    "class PolicyAgentWithEmbeddings(LikelihoodAgent):\n",
    "    def __init__(self, feature_provider, use_argmax=False, seed=43):\n",
    "        LikelihoodAgent.__init__(self, feature_provider, use_argmax=use_argmax, seed=seed)\n",
    "        self.embeddings = None\n",
    "    \n",
    "    def _create_features(self, user_state, action):\n",
    "        \"\"\"Create the features that are used to estimate the expected reward from the user state.\n",
    "        \"\"\"\n",
    "        # User state is the number of time each product has been seen\n",
    "        # We do a weigthed average of these products and use them as features\n",
    "        return np.average(self.embeddings, axis=0, weights=user_state)\n",
    "    \n",
    "    def train(self, reco_log):\n",
    "        user_states, actions, rewards, proba_actions = build_rectangular_data(reco_log, self.feature_provider)\n",
    "        self.embeddings = create_embeddings(reco_log, self.num_products)\n",
    "        \n",
    "        features = np.vstack([\n",
    "            self._create_features(user_state, action) \n",
    "            for user_state, action in zip(user_states, actions)\n",
    "        ])        \n",
    "        labels = actions\n",
    "        weights = rewards / proba_actions\n",
    "                \n",
    "        self.model = LogisticRegression(multi_class='multinomial', solver='lbfgs', max_iter=5000)        \n",
    "        self.model.fit(features[weights != 0], labels[weights != 0], weights[weights != 0])\n",
    "    \n",
    "    def _score_products(self, user_state):\n",
    "        return self.model.predict_proba(self._create_features(user_state, None).reshape(1, -1))[0, :]\n"
   ]
  },
  {
   "cell_type": "code",
   "execution_count": 16,
   "metadata": {},
   "outputs": [
    {
     "name": "stdout",
     "output_type": "stream",
     "text": [
      "CPU times: user 25.8 s, sys: 473 ms, total: 26.2 s\n",
      "Wall time: 26.7 s\n"
     ]
    }
   ],
   "source": [
    "%%time\n",
    "\n",
    "policy_logreg_with_embeddings = PolicyAgentWithEmbeddings(count_product_views_feature_provider)\n",
    "policy_logreg_with_embeddings.train(popularity_policy_logs)"
   ]
  },
  {
   "cell_type": "code",
   "execution_count": 17,
   "metadata": {},
   "outputs": [
    {
     "data": {
      "image/png": "[encoded data removed]",
      "text/plain": [
       "<Figure size 432x288 with 1 Axes>"
      ]
     },
     "metadata": {
      "image/png": {
       "height": 344,
       "width": 384
      },
      "needs_background": "light"
     },
     "output_type": "display_data"
    }
   ],
   "source": [
    "result = verify_agents(get_environement(NUM_PRODUCTS), NUM_USERS, {\n",
    "    'likelihood logreg': likelihood_logreg, \n",
    "    'policy logreg': policy_logreg,\n",
    "    'policy logreg emb': policy_logreg_with_embeddings,    \n",
    "})\n",
    "fig = plot_verify_agents(result)\n",
    "plt.show()"
   ]
  },
  {
   "cell_type": "code",
   "execution_count": null,
   "metadata": {},
   "outputs": [],
   "source": []
  }
 ],
 "metadata": {
  "kernelspec": {
   "display_name": "Python 3",
   "language": "python",
   "name": "python3"
  },
  "language_info": {
   "codemirror_mode": {
    "name": "ipython",
    "version": 3
   },
   "file_extension": ".py",
   "mimetype": "text/x-python",
   "name": "python",
   "nbconvert_exporter": "python",
   "pygments_lexer": "ipython3",
   "version": "3.6.8"
  },
  "pycharm": {
   "stem_cell": {
    "cell_type": "raw",
    "metadata": {
     "collapsed": false
    },
    "source": []
   }
  }
 },
 "nbformat": 4,
 "nbformat_minor": 2
}
