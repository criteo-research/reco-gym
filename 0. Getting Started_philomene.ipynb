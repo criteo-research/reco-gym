{
 "cells": [
  {
   "cell_type": "markdown",
   "metadata": {},
   "source": [
    "## What is RecoGym?\n",
    "\n",
    "RecoGym is a Python [OpenAI Gym](https://gym.openai.com/) environment for testing recommendation algorithms.  It allows for the testing of both offline and reinforcement-learning based agents.  It provides a way to test algorithms in a toy environment quickly.\n",
    "\n",
    "In this notebook, we will code a simple recommendation agent that suggests an item in proportion to how many times it has been viewed.  We hope to inspire you to create your own agents and test them against our baseline models.\n",
    "\n",
    "In order to make the most out of RecoGym, we suggest you have some experience coding in Python, some background knowledge in recommender systems, and familiarity with the reinforcement learning setup.  Also, be sure to check out the python-based requirements in the README if something below errors."
   ]
  },
  {
   "cell_type": "markdown",
   "metadata": {},
   "source": [
    "## Reinforcement Learning Setup\n",
    "\n",
    "RecoGym follows the usual reinforcement learning setup.  This means there are interactions between the environment (the user's behaviour) and the agent (our recommendation algorithm).  The agent receives a reward if the user clicks on the recommendation."
   ]
  },
  {
   "cell_type": "markdown",
   "metadata": {},
   "source": [
    "<img src=\"images/rl-setup.png\" alt=\"Drawing\" style=\"width: 600px;\"/>"
   ]
  },
  {
   "cell_type": "markdown",
   "metadata": {},
   "source": [
    "## Organic and Bandit\n",
    "\n",
    "Even though our focus is biased towards online advertising, we tried to make RecoGym universal to all types of recommendation.  Hence, we introduce the domain-agnostic terms Organic and Bandit sessions.  An Organic session is an observation of items the user interacts with.  For example, it could be views of products on an e-commerce website, listens to songs while streaming music, or readings of articles on an online newspaper.  A Bandit session is one where we have an opportunity to recommend the user an item and observe their behaviour.  We receive a reward if they click.\n",
    "\n",
    "<img src=\"images/organic-bandit.png\" alt=\"Drawing\" style=\"width: 450px;\"/>"
   ]
  },
  {
   "cell_type": "markdown",
   "metadata": {},
   "source": [
    "## Offline and Online Learning\n",
    "\n",
    "This project was born out of a desire to improve Criteo's recommendation system by exploring reinforcement learning algorithms. We quickly realised that we couldn't just blindly apply RL algorithms in a production system out of the box. The learning period would be too costly. Instead, we need to leverage the vast amounts of offline training examples we already to make the algorithm perform as good as the current system before releasing into the online production environment.\n",
    "\n",
    "Thus, RecoGym follows a similar flow. An agent is first given access to many offline training examples produced from a fixed policy. Then, they have access to the online system where they choose the actions."
   ]
  },
  {
   "cell_type": "markdown",
   "metadata": {},
   "source": [
    "<img src=\"images/two-steps.png\" alt=\"Drawing\" style=\"width: 450px;\"/>"
   ]
  },
  {
   "cell_type": "markdown",
   "metadata": {},
   "source": [
    "## Let's see some code - Interacting with the environment \n",
    "\n",
    "\n",
    "The code snippet below shows how to initialise the environment and step through in an 'offline' manner (Here offline means that the environment is generating some recommendations for us).  We print out the results from the environment at each step."
   ]
  },
  {
   "cell_type": "code",
   "execution_count": 1,
   "metadata": {},
   "outputs": [
    {
     "name": "stdout",
     "output_type": "stream",
     "text": [
      "Step: 0 - Action: None - Observation: [{'t': 0, 'u': 0, 'z': 'pageview', 'v': 0}, {'t': 1, 'u': 0, 'z': 'pageview', 'v': 9}, {'t': 2, 'u': 0, 'z': 'pageview', 'v': 0}, {'t': 3, 'u': 0, 'z': 'pageview', 'v': 0}, {'t': 4, 'u': 0, 'z': 'pageview', 'v': 9}] - Reward: 0\n",
      "Step: 1 - Action: {'t': 5, 'u': 0, 'a': 9, 'ps': 0.1, 'ps-a': ()} - Observation: [] - Reward: 0\n",
      "Step: 2 - Action: {'t': 6, 'u': 0, 'a': 3, 'ps': 0.1, 'ps-a': ()} - Observation: [] - Reward: 0\n",
      "Step: 3 - Action: {'t': 7, 'u': 0, 'a': 7, 'ps': 0.1, 'ps-a': ()} - Observation: [] - Reward: 0\n",
      "Step: 4 - Action: {'t': 8, 'u': 0, 'a': 7, 'ps': 0.1, 'ps-a': ()} - Observation: [] - Reward: 0\n",
      "Step: 5 - Action: {'t': 9, 'u': 0, 'a': 4, 'ps': 0.1, 'ps-a': ()} - Observation: [] - Reward: 0\n",
      "Step: 6 - Action: {'t': 10, 'u': 0, 'a': 8, 'ps': 0.1, 'ps-a': ()} - Observation: [] - Reward: 0\n",
      "Step: 7 - Action: {'t': 11, 'u': 0, 'a': 8, 'ps': 0.1, 'ps-a': ()} - Observation: [] - Reward: 0\n",
      "Step: 8 - Action: {'t': 12, 'u': 0, 'a': 7, 'ps': 0.1, 'ps-a': ()} - Observation: [] - Reward: 0\n",
      "Step: 9 - Action: {'t': 13, 'u': 0, 'a': 0, 'ps': 0.1, 'ps-a': ()} - Observation: [] - Reward: 0\n",
      "Step: 10 - Action: {'t': 14, 'u': 0, 'a': 4, 'ps': 0.1, 'ps-a': ()} - Observation: [] - Reward: 0\n",
      "Step: 11 - Action: {'t': 15, 'u': 0, 'a': 6, 'ps': 0.1, 'ps-a': ()} - Observation: [] - Reward: 0\n",
      "Step: 12 - Action: {'t': 16, 'u': 0, 'a': 0, 'ps': 0.1, 'ps-a': ()} - Observation: [] - Reward: 0\n",
      "Step: 13 - Action: {'t': 17, 'u': 0, 'a': 7, 'ps': 0.1, 'ps-a': ()} - Observation: [] - Reward: 0\n",
      "Step: 14 - Action: {'t': 18, 'u': 0, 'a': 5, 'ps': 0.1, 'ps-a': ()} - Observation: [] - Reward: 0\n",
      "Step: 15 - Action: {'t': 19, 'u': 0, 'a': 4, 'ps': 0.1, 'ps-a': ()} - Observation: [] - Reward: 0\n",
      "Step: 16 - Action: {'t': 20, 'u': 0, 'a': 4, 'ps': 0.1, 'ps-a': ()} - Observation: [] - Reward: 0\n",
      "Step: 17 - Action: {'t': 21, 'u': 0, 'a': 6, 'ps': 0.1, 'ps-a': ()} - Observation: [] - Reward: 0\n",
      "Step: 18 - Action: {'t': 22, 'u': 0, 'a': 9, 'ps': 0.1, 'ps-a': ()} - Observation: [] - Reward: 0\n",
      "Step: 19 - Action: {'t': 23, 'u': 0, 'a': 6, 'ps': 0.1, 'ps-a': ()} - Observation: [] - Reward: 0\n",
      "Step: 20 - Action: {'t': 24, 'u': 0, 'a': 3, 'ps': 0.1, 'ps-a': ()} - Observation: [] - Reward: 0\n",
      "Step: 21 - Action: {'t': 25, 'u': 0, 'a': 3, 'ps': 0.1, 'ps-a': ()} - Observation: [] - Reward: 0\n",
      "Step: 22 - Action: {'t': 26, 'u': 0, 'a': 2, 'ps': 0.1, 'ps-a': ()} - Observation: [] - Reward: 0\n",
      "Step: 23 - Action: {'t': 27, 'u': 0, 'a': 8, 'ps': 0.1, 'ps-a': ()} - Observation: [] - Reward: 0\n",
      "Step: 24 - Action: {'t': 28, 'u': 0, 'a': 3, 'ps': 0.1, 'ps-a': ()} - Observation: [] - Reward: 0\n",
      "Step: 25 - Action: {'t': 29, 'u': 0, 'a': 9, 'ps': 0.1, 'ps-a': ()} - Observation: [] - Reward: 0\n",
      "Step: 26 - Action: {'t': 30, 'u': 0, 'a': 0, 'ps': 0.1, 'ps-a': ()} - Observation: [] - Reward: 0\n",
      "Step: 27 - Action: {'t': 31, 'u': 0, 'a': 8, 'ps': 0.1, 'ps-a': ()} - Observation: [] - Reward: 0\n",
      "Step: 28 - Action: {'t': 32, 'u': 0, 'a': 6, 'ps': 0.1, 'ps-a': ()} - Observation: [] - Reward: 0\n",
      "Step: 29 - Action: {'t': 33, 'u': 0, 'a': 4, 'ps': 0.1, 'ps-a': ()} - Observation: [] - Reward: 0\n",
      "Step: 30 - Action: {'t': 34, 'u': 0, 'a': 7, 'ps': 0.1, 'ps-a': ()} - Observation: [] - Reward: 0\n",
      "Step: 31 - Action: {'t': 35, 'u': 0, 'a': 7, 'ps': 0.1, 'ps-a': ()} - Observation: [] - Reward: 0\n",
      "Step: 32 - Action: {'t': 36, 'u': 0, 'a': 0, 'ps': 0.1, 'ps-a': ()} - Observation: [] - Reward: 0\n",
      "Step: 33 - Action: {'t': 37, 'u': 0, 'a': 6, 'ps': 0.1, 'ps-a': ()} - Observation: [] - Reward: 0\n",
      "Step: 34 - Action: {'t': 38, 'u': 0, 'a': 0, 'ps': 0.1, 'ps-a': ()} - Observation: [{'t': 39, 'u': 0, 'z': 'pageview', 'v': 9}, {'t': 40, 'u': 0, 'z': 'pageview', 'v': 5}, {'t': 41, 'u': 0, 'z': 'pageview', 'v': 5}] - Reward: 0\n",
      "Step: 35 - Action: {'t': 42, 'u': 0, 'a': 8, 'ps': 0.1, 'ps-a': ()} - Observation: [] - Reward: 0\n",
      "Step: 36 - Action: {'t': 43, 'u': 0, 'a': 2, 'ps': 0.1, 'ps-a': ()} - Observation: [] - Reward: 0\n",
      "Step: 37 - Action: {'t': 44, 'u': 0, 'a': 2, 'ps': 0.1, 'ps-a': ()} - Observation: [] - Reward: 0\n",
      "Step: 38 - Action: {'t': 45, 'u': 0, 'a': 3, 'ps': 0.1, 'ps-a': ()} - Observation: [] - Reward: 0\n",
      "Step: 39 - Action: {'t': 46, 'u': 0, 'a': 0, 'ps': 0.1, 'ps-a': ()} - Observation: [] - Reward: 0\n",
      "Step: 40 - Action: {'t': 47, 'u': 0, 'a': 7, 'ps': 0.1, 'ps-a': ()} - Observation: [] - Reward: 0\n",
      "Step: 41 - Action: {'t': 48, 'u': 0, 'a': 8, 'ps': 0.1, 'ps-a': ()} - Observation: [] - Reward: 0\n",
      "Step: 42 - Action: {'t': 49, 'u': 0, 'a': 9, 'ps': 0.1, 'ps-a': ()} - Observation: [] - Reward: 0\n",
      "Step: 43 - Action: {'t': 50, 'u': 0, 'a': 9, 'ps': 0.1, 'ps-a': ()} - Observation: [] - Reward: 0\n",
      "Step: 44 - Action: {'t': 51, 'u': 0, 'a': 0, 'ps': 0.1, 'ps-a': ()} - Observation: [] - Reward: 0\n",
      "Step: 45 - Action: {'t': 52, 'u': 0, 'a': 4, 'ps': 0.1, 'ps-a': ()} - Observation: [] - Reward: 0\n",
      "Step: 46 - Action: {'t': 53, 'u': 0, 'a': 8, 'ps': 0.1, 'ps-a': ()} - Observation: [] - Reward: 0\n",
      "Step: 47 - Action: {'t': 54, 'u': 0, 'a': 2, 'ps': 0.1, 'ps-a': ()} - Observation: [] - Reward: 0\n",
      "Step: 48 - Action: {'t': 55, 'u': 0, 'a': 0, 'ps': 0.1, 'ps-a': ()} - Observation: [] - Reward: 0\n",
      "Step: 49 - Action: {'t': 56, 'u': 0, 'a': 7, 'ps': 0.1, 'ps-a': ()} - Observation: [] - Reward: 0\n",
      "Step: 50 - Action: {'t': 57, 'u': 0, 'a': 2, 'ps': 0.1, 'ps-a': ()} - Observation: [] - Reward: 0\n",
      "Step: 51 - Action: {'t': 58, 'u': 0, 'a': 8, 'ps': 0.1, 'ps-a': ()} - Observation: [] - Reward: 0\n",
      "Step: 52 - Action: {'t': 59, 'u': 0, 'a': 1, 'ps': 0.1, 'ps-a': ()} - Observation: [] - Reward: 0\n",
      "Step: 53 - Action: {'t': 60, 'u': 0, 'a': 8, 'ps': 0.1, 'ps-a': ()} - Observation: [{'t': 61, 'u': 0, 'z': 'pageview', 'v': 9}, {'t': 62, 'u': 0, 'z': 'pageview', 'v': 9}, {'t': 63, 'u': 0, 'z': 'pageview', 'v': 5}] - Reward: 0\n",
      "Step: 54 - Action: {'t': 64, 'u': 0, 'a': 0, 'ps': 0.1, 'ps-a': ()} - Observation: [{'t': 65, 'u': 0, 'z': 'pageview', 'v': 0}, {'t': 66, 'u': 0, 'z': 'sale', 'v': 0}] - Reward: 1\n",
      "Step: 55 - Action: {'t': 66, 'u': 0, 'a': 4, 'ps': 0.1, 'ps-a': ()} - Observation: [] - Reward: 0\n",
      "Step: 56 - Action: {'t': 67, 'u': 0, 'a': 4, 'ps': 0.1, 'ps-a': ()} - Observation: [] - Reward: 0\n",
      "Step: 57 - Action: {'t': 68, 'u': 0, 'a': 3, 'ps': 0.1, 'ps-a': ()} - Observation: [] - Reward: 0\n",
      "Step: 58 - Action: {'t': 69, 'u': 0, 'a': 6, 'ps': 0.1, 'ps-a': ()} - Observation: [] - Reward: 0\n",
      "Step: 59 - Action: {'t': 70, 'u': 0, 'a': 1, 'ps': 0.1, 'ps-a': ()} - Observation: [] - Reward: 0\n",
      "Step: 60 - Action: {'t': 71, 'u': 0, 'a': 9, 'ps': 0.1, 'ps-a': ()} - Observation: [] - Reward: 0\n",
      "Step: 61 - Action: {'t': 72, 'u': 0, 'a': 1, 'ps': 0.1, 'ps-a': ()} - Observation: [] - Reward: 0\n"
     ]
    }
   ],
   "source": [
    "import gym, recogym\n",
    "import matplotlib.pyplot as plt\n",
    "from copy import deepcopy\n",
    "import numpy as np\n",
    "\n",
    "# env_2_args is a dictionary of default parameters (i.e. number of products)\n",
    "from recogym import env_2_args, Configuration\n",
    "from recogym.envs.utils_sale import share_states, share_sale, env_infos, count_sales_first_session\n",
    "\n",
    "# You can overwrite environment arguments here:\n",
    "env_2_args['random_seed'] = 42\n",
    "\n",
    "# Initialize the gym for the first time by calling .make() and .init_gym()\n",
    "env = gym.make('reco-gym-v2')\n",
    "env.init_gym(env_2_args)\n",
    "\n",
    "# .reset() env before each episode (one episode per user).\n",
    "env.reset()\n",
    "done = False\n",
    "\n",
    "# Counting how many steps.\n",
    "i = 0\n",
    "\n",
    "observation, reward, done = None, 0, False\n",
    "while not done:\n",
    "    action, observation, reward, done, info = env.step_offline(observation, reward, done)\n",
    "    print(f\"Step: {i} - Action: {action} - Observation: {observation.sessions()} - Reward: {reward}\")\n",
    "    i += 1"
   ]
  },
  {
   "cell_type": "markdown",
   "metadata": {},
   "source": [
    " <font color=blue> **the proba p is saved each time the bernoulli sale ~ Bernoulli(p) is sampled (ie each time we are in the organic state). Here for this user the values are very high.**  </font>"
   ]
  },
  {
   "cell_type": "code",
   "execution_count": 2,
   "metadata": {
    "scrolled": true
   },
   "outputs": [
    {
     "name": "stdout",
     "output_type": "stream",
     "text": [
      "true proba of sale before scaling :  {0: [0.0027813480639232433, 0.6876816860915095, 0.004598206498810291, 0.005691229556906081, 0.6243954732321588, 0.43147340605591966, 0.31179223397183, 0.3166770981064103, 0.37536225941713885, 0.3968071626145587, 0.3067808364059413, 0.48487129555258257]}\n",
      "user propensity :  [0.25]\n",
      "true proba of sale after scaling :  {0: [0.0006953370159808108, 0.17192042152287737, 0.0011495516247025728, 0.0014228073892265203, 0.1560988683080397, 0.10786835151397992, 0.0779480584929575, 0.07916927452660258, 0.09384056485428471, 0.09920179065363967, 0.07669520910148532, 0.12121782388814564]}\n"
     ]
    }
   ],
   "source": [
    "# the proba p is saved each time the bernoulli sale ~ Bernoulli(p) is sampled\n",
    "print(\"true proba of sale before scaling : \",env.proba_sales )\n",
    "print(\"user propensity : \",env.user_ps_list)\n",
    "print(\"true proba of sale after scaling : \", env.proba_sales_after_scaling)"
   ]
  },
  {
   "cell_type": "code",
   "execution_count": 3,
   "metadata": {},
   "outputs": [
    {
     "name": "stderr",
     "output_type": "stream",
     "text": [
      "Organic Users: 0it [00:00, ?it/s]\n",
      "Users: 100%|█████████████████████████████████████████████████████████████████████████| 100/100 [00:03<00:00, 32.62it/s]\n"
     ]
    },
    {
     "data": {
      "text/html": [
       "<div>\n",
       "<style scoped>\n",
       "    .dataframe tbody tr th:only-of-type {\n",
       "        vertical-align: middle;\n",
       "    }\n",
       "\n",
       "    .dataframe tbody tr th {\n",
       "        vertical-align: top;\n",
       "    }\n",
       "\n",
       "    .dataframe thead th {\n",
       "        text-align: right;\n",
       "    }\n",
       "</style>\n",
       "<table border=\"1\" class=\"dataframe\">\n",
       "  <thead>\n",
       "    <tr style=\"text-align: right;\">\n",
       "      <th></th>\n",
       "      <th>t</th>\n",
       "      <th>u</th>\n",
       "      <th>z</th>\n",
       "      <th>v</th>\n",
       "      <th>a</th>\n",
       "      <th>c</th>\n",
       "      <th>r</th>\n",
       "      <th>ps</th>\n",
       "      <th>ps-a</th>\n",
       "    </tr>\n",
       "  </thead>\n",
       "  <tbody>\n",
       "    <tr>\n",
       "      <th>0</th>\n",
       "      <td>0.0</td>\n",
       "      <td>0</td>\n",
       "      <td>organic</td>\n",
       "      <td>5</td>\n",
       "      <td>&lt;NA&gt;</td>\n",
       "      <td>NaN</td>\n",
       "      <td>NaN</td>\n",
       "      <td>NaN</td>\n",
       "      <td>None</td>\n",
       "    </tr>\n",
       "    <tr>\n",
       "      <th>1</th>\n",
       "      <td>1.0</td>\n",
       "      <td>0</td>\n",
       "      <td>bandit</td>\n",
       "      <td>&lt;NA&gt;</td>\n",
       "      <td>2</td>\n",
       "      <td>0.0</td>\n",
       "      <td>0.0</td>\n",
       "      <td>0.1</td>\n",
       "      <td>()</td>\n",
       "    </tr>\n",
       "    <tr>\n",
       "      <th>2</th>\n",
       "      <td>2.0</td>\n",
       "      <td>0</td>\n",
       "      <td>bandit</td>\n",
       "      <td>&lt;NA&gt;</td>\n",
       "      <td>9</td>\n",
       "      <td>0.0</td>\n",
       "      <td>0.0</td>\n",
       "      <td>0.1</td>\n",
       "      <td>()</td>\n",
       "    </tr>\n",
       "    <tr>\n",
       "      <th>3</th>\n",
       "      <td>3.0</td>\n",
       "      <td>0</td>\n",
       "      <td>bandit</td>\n",
       "      <td>&lt;NA&gt;</td>\n",
       "      <td>3</td>\n",
       "      <td>0.0</td>\n",
       "      <td>0.0</td>\n",
       "      <td>0.1</td>\n",
       "      <td>()</td>\n",
       "    </tr>\n",
       "    <tr>\n",
       "      <th>4</th>\n",
       "      <td>4.0</td>\n",
       "      <td>0</td>\n",
       "      <td>bandit</td>\n",
       "      <td>&lt;NA&gt;</td>\n",
       "      <td>2</td>\n",
       "      <td>0.0</td>\n",
       "      <td>0.0</td>\n",
       "      <td>0.1</td>\n",
       "      <td>()</td>\n",
       "    </tr>\n",
       "    <tr>\n",
       "      <th>...</th>\n",
       "      <td>...</td>\n",
       "      <td>...</td>\n",
       "      <td>...</td>\n",
       "      <td>...</td>\n",
       "      <td>...</td>\n",
       "      <td>...</td>\n",
       "      <td>...</td>\n",
       "      <td>...</td>\n",
       "      <td>...</td>\n",
       "    </tr>\n",
       "    <tr>\n",
       "      <th>10516</th>\n",
       "      <td>146.0</td>\n",
       "      <td>99</td>\n",
       "      <td>bandit</td>\n",
       "      <td>&lt;NA&gt;</td>\n",
       "      <td>8</td>\n",
       "      <td>0.0</td>\n",
       "      <td>0.0</td>\n",
       "      <td>0.1</td>\n",
       "      <td>()</td>\n",
       "    </tr>\n",
       "    <tr>\n",
       "      <th>10517</th>\n",
       "      <td>147.0</td>\n",
       "      <td>99</td>\n",
       "      <td>bandit</td>\n",
       "      <td>&lt;NA&gt;</td>\n",
       "      <td>5</td>\n",
       "      <td>0.0</td>\n",
       "      <td>0.0</td>\n",
       "      <td>0.1</td>\n",
       "      <td>()</td>\n",
       "    </tr>\n",
       "    <tr>\n",
       "      <th>10518</th>\n",
       "      <td>148.0</td>\n",
       "      <td>99</td>\n",
       "      <td>bandit</td>\n",
       "      <td>&lt;NA&gt;</td>\n",
       "      <td>8</td>\n",
       "      <td>0.0</td>\n",
       "      <td>0.0</td>\n",
       "      <td>0.1</td>\n",
       "      <td>()</td>\n",
       "    </tr>\n",
       "    <tr>\n",
       "      <th>10519</th>\n",
       "      <td>149.0</td>\n",
       "      <td>99</td>\n",
       "      <td>bandit</td>\n",
       "      <td>&lt;NA&gt;</td>\n",
       "      <td>2</td>\n",
       "      <td>0.0</td>\n",
       "      <td>0.0</td>\n",
       "      <td>0.1</td>\n",
       "      <td>()</td>\n",
       "    </tr>\n",
       "    <tr>\n",
       "      <th>10520</th>\n",
       "      <td>150.0</td>\n",
       "      <td>99</td>\n",
       "      <td>bandit</td>\n",
       "      <td>&lt;NA&gt;</td>\n",
       "      <td>5</td>\n",
       "      <td>0.0</td>\n",
       "      <td>0.0</td>\n",
       "      <td>0.1</td>\n",
       "      <td>()</td>\n",
       "    </tr>\n",
       "  </tbody>\n",
       "</table>\n",
       "<p>10521 rows × 9 columns</p>\n",
       "</div>"
      ],
      "text/plain": [
       "           t   u        z     v     a    c    r   ps  ps-a\n",
       "0        0.0   0  organic     5  <NA>  NaN  NaN  NaN  None\n",
       "1        1.0   0   bandit  <NA>     2  0.0  0.0  0.1    ()\n",
       "2        2.0   0   bandit  <NA>     9  0.0  0.0  0.1    ()\n",
       "3        3.0   0   bandit  <NA>     3  0.0  0.0  0.1    ()\n",
       "4        4.0   0   bandit  <NA>     2  0.0  0.0  0.1    ()\n",
       "...      ...  ..      ...   ...   ...  ...  ...  ...   ...\n",
       "10516  146.0  99   bandit  <NA>     8  0.0  0.0  0.1    ()\n",
       "10517  147.0  99   bandit  <NA>     5  0.0  0.0  0.1    ()\n",
       "10518  148.0  99   bandit  <NA>     8  0.0  0.0  0.1    ()\n",
       "10519  149.0  99   bandit  <NA>     2  0.0  0.0  0.1    ()\n",
       "10520  150.0  99   bandit  <NA>     5  0.0  0.0  0.1    ()\n",
       "\n",
       "[10521 rows x 9 columns]"
      ]
     },
     "metadata": {},
     "output_type": "display_data"
    }
   ],
   "source": [
    "num_users = 100\n",
    "data = deepcopy(env).generate_logs(num_users)\n",
    "display(data)\n",
    "data.to_csv(\"generate_logs_test.csv\")"
   ]
  },
  {
   "cell_type": "code",
   "execution_count": 4,
   "metadata": {},
   "outputs": [
    {
     "name": "stdout",
     "output_type": "stream",
     "text": [
      "true proba of sale before scaling :  {0: [0.0027813480639232433, 0.6876816860915095, 0.004598206498810291, 0.005691229556906081, 0.6243954732321588, 0.43147340605591966, 0.31179223397183, 0.3166770981064103, 0.37536225941713885, 0.3968071626145587, 0.3067808364059413, 0.48487129555258257]}\n",
      "user propensity :  [0.25]\n",
      "true proba of sale after scaling :  {0: [0.0006953370159808108, 0.17192042152287737, 0.0011495516247025728, 0.0014228073892265203, 0.1560988683080397, 0.10786835151397992, 0.0779480584929575, 0.07916927452660258, 0.09384056485428471, 0.09920179065363967, 0.07669520910148532, 0.12121782388814564]}\n"
     ]
    }
   ],
   "source": [
    "from copy import deepcopy \n",
    "\n",
    "info = env_infos(env)\n",
    "print(\"true proba of sale before scaling : \",info['proba_sales'] )\n",
    "print(\"user propensity : \",info['user_ps'])\n",
    "print(\"true proba of sale after scaling : \", info['proba_sales_after_scaling'])"
   ]
  },
  {
   "cell_type": "code",
   "execution_count": 5,
   "metadata": {},
   "outputs": [
    {
     "name": "stdout",
     "output_type": "stream",
     "text": [
      "{'organic': 0.2173747742610018, 'bandit': 0.7523049139815607, 'sale': 0.030320311757437508}\n",
      "\n",
      "Share of sales (binary or total) wrt nb bandit events :  {'sale_bin': 0.02324699936828806, 'sale_tot': 0.033733417561591914}\n"
     ]
    }
   ],
   "source": [
    "print(share_states(data))\n",
    "print(\"\\nShare of sales (binary or total) wrt nb bandit events : \",share_sale(data))"
   ]
  },
  {
   "cell_type": "code",
   "execution_count": 6,
   "metadata": {},
   "outputs": [
    {
     "name": "stdout",
     "output_type": "stream",
     "text": [
      "Share of sales among organic events : 0.1394840402273721\n",
      "Number of sales over nb of organic events : 0.11674682990817666\n"
     ]
    }
   ],
   "source": [
    "print(\"Share of sales among organic events :\", sum(data[\"z\"]==\"sale\")/sum(data[\"z\"]==\"organic\"))\n",
    "print(\"Number of sales over nb of organic events :\", sum(data[\"r\"][data['r']>0])/sum(data[\"z\"]==\"organic\"))"
   ]
  },
  {
   "cell_type": "code",
   "execution_count": 7,
   "metadata": {},
   "outputs": [],
   "source": [
    "def count_sales_first_session(data):\n",
    "    sales_first_session = {}\n",
    "    no_event=[]\n",
    "    for user in data['u'].unique() :\n",
    "        data_user = data.loc[data['u']==user]\n",
    "        try :\n",
    "            first_bandit_index = data_user[data_user['z']==\"bandit\"].index[0]\n",
    "            first_sale_index = data_user[data_user['z']==\"sale\"].index[0]\n",
    "            sales_first_session[user]=first_sale_index<first_bandit_index\n",
    "        except :\n",
    "            no_event.append(user)\n",
    "            \n",
    "    return sales_first_session, no_event"
   ]
  },
  {
   "cell_type": "code",
   "execution_count": 8,
   "metadata": {},
   "outputs": [
    {
     "data": {
      "text/plain": [
       "0.38"
      ]
     },
     "execution_count": 8,
     "metadata": {},
     "output_type": "execute_result"
    }
   ],
   "source": [
    "sales, no_event = count_sales_first_session(data)\n",
    "np.sum(list(sales.values()))/len(data['u'].unique())"
   ]
  },
  {
   "cell_type": "markdown",
   "metadata": {},
   "source": [
    "Okay, there's quite a bit going on here:  \n",
    "- `action`, is a number between `0` and `num_products - 1` that references the index of the product recommended.   \n",
    "- `observation` will either be `None` or a session of Organic data, showing the index of products the user views. \n",
    "- `reward` is 0 if the user does not click on the recommended product and 1 if they do.  Notice that when a user clicks on a product (Wherever the reward is 1), they start a new Organic session.\n",
    "- `done` is a True/False flag indicating if the episode (aka user's timeline) is over.  \n",
    "- `info` currently not used, so it is always an empty dictionary.\n",
    "\n",
    "Also, notice that the first `action` is `None`.  In our implementation, the agent observes Organic behaviour before recommending anything.\n",
    "\n",
    "Now, we will show calling the environment in an online manner, where the agent needs to supply an action. For demonstration purposes, we will create a list of hard-coded actions. "
   ]
  },
  {
   "cell_type": "code",
   "execution_count": 9,
   "metadata": {},
   "outputs": [
    {
     "name": "stdout",
     "output_type": "stream",
     "text": [
      "Step: 0 - Action: None - Observation: [{'t': 0, 'u': 0, 'z': 'pageview', 'v': 5}] - Reward: 0\n",
      "Step: 1 - Action: 1 - Observation: [] - Reward: 0\n",
      "Step: 2 - Action: 2 - Observation: [] - Reward: 0\n",
      "Step: 3 - Action: 3 - Observation: [] - Reward: 0\n",
      "Step: 4 - Action: 4 - Observation: [] - Reward: 0\n",
      "Step: 5 - Action: 5 - Observation: [] - Reward: 0\n"
     ]
    }
   ],
   "source": [
    "# Create list of hard coded actions.\n",
    "actions = [None] + [1, 2, 3, 4, 5]\n",
    "\n",
    "# Reset env and set done to False.\n",
    "env.reset()\n",
    "done = False\n",
    "\n",
    "# Counting how many steps.\n",
    "i = 0\n",
    "\n",
    "while not done and i < len(actions):\n",
    "    action = actions[i]\n",
    "    observation, reward, done, info = env.step(action)\n",
    "    print(f\"Step: {i} - Action: {action} - Observation: {observation.sessions()} - Reward: {reward}\")\n",
    "    i += 1"
   ]
  },
  {
   "cell_type": "markdown",
   "metadata": {},
   "source": [
    "You'll notice that the offline and online APIs are nearly identical.  The only difference is that one calls either env.step_offline() or env.step(action)."
   ]
  },
  {
   "cell_type": "markdown",
   "metadata": {},
   "source": [
    "## Creating our first agent\n",
    "\n",
    "Now that we see have seen how the offline and online versions of the environment work, it is time to code our first recommendation agent!  Technically, an agent can be anything that produces actions for the environment to use.  However, we will show you the object-oriented way we like to create agents.\n",
    "\n",
    "Below is the code for a very simple agent - the popularity based agent. The popularity based agent records merely how many times a user sees each product organically, then when required to make a recommendation, the agent chooses a product randomly in proportion with a number of times the user has viewed it."
   ]
  },
  {
   "cell_type": "code",
   "execution_count": 10,
   "metadata": {},
   "outputs": [],
   "source": [
    "import numpy as np\n",
    "from numpy.random import choice\n",
    "from recogym.agents import Agent\n",
    "\n",
    "# Define an Agent class.\n",
    "class PopularityAgent(Agent):\n",
    "    def __init__(self, config):\n",
    "        # Set number of products as an attribute of the Agent.\n",
    "        super(PopularityAgent, self).__init__(config)\n",
    "\n",
    "        # Track number of times each item viewed in Organic session.\n",
    "        self.organic_views = np.zeros(self.config.num_products)\n",
    "\n",
    "    def train(self, observation, action, reward, done):\n",
    "        \"\"\"Train method learns from a tuple of data.\n",
    "            this method can be called for offline or online learning\"\"\"\n",
    "\n",
    "        # Adding organic session to organic view counts.\n",
    "        if observation:\n",
    "            for session in observation.sessions():\n",
    "                self.organic_views[session['v']] += 1\n",
    "\n",
    "    def act(self, observation, reward, done):\n",
    "        \"\"\"Act method returns an action based on current observation and past\n",
    "            history\"\"\"\n",
    "\n",
    "        # Choosing action randomly in proportion with number of views.\n",
    "        prob = self.organic_views / sum(self.organic_views)\n",
    "        action = choice(self.config.num_products, p = prob)\n",
    "\n",
    "        return {\n",
    "            **super().act(observation, reward, done),\n",
    "            **{\n",
    "                'a': action,\n",
    "                'ps': prob[action]\n",
    "            }\n",
    "        }"
   ]
  },
  {
   "cell_type": "markdown",
   "metadata": {},
   "source": [
    "The `PopularityAgent` class above demonstrates our preferred way to create agents for RecoGym. Notice how we have both a `train` and `act` method present. The `train` method is designed to take in training data from the environments `step_offline` method and thus has nothing to return, while the `act` method must return an action to pass back into the environment. \n",
    "\n",
    "The code below highlights how one would use this agent for first offline training and then using the learned knowledge to make recommendations online."
   ]
  },
  {
   "cell_type": "code",
   "execution_count": 11,
   "metadata": {},
   "outputs": [
    {
     "name": "stdout",
     "output_type": "stream",
     "text": [
      "Share of sales: 0.0339\n"
     ]
    }
   ],
   "source": [
    "# Instantiate instance of PopularityAgent class.\n",
    "num_products = 10\n",
    "agent = PopularityAgent(Configuration({\n",
    "    **env_2_args,\n",
    "    'num_products': num_products,\n",
    "}))\n",
    "\n",
    "# Resets random seed back to 42, or whatever we set it to in env_0_args.\n",
    "env.reset_random_seed()\n",
    "\n",
    "# Train on 1000 users offline.\n",
    "num_offline_users = 1000\n",
    "\n",
    "for _ in range(num_offline_users):\n",
    "\n",
    "    # Reset env and set done to False.\n",
    "    env.reset()\n",
    "    done = False\n",
    "\n",
    "    observation, reward, done = None, 0, False\n",
    "    while not done:\n",
    "        old_observation = observation\n",
    "        action, observation, reward, done, info = env.step_offline(observation, reward, done)\n",
    "        agent.train(old_observation, action, reward, done)\n",
    "\n",
    "# Train on 100 users online and track click through rate.\n",
    "num_online_users = 100\n",
    "num_sales, num_events = 0, 0\n",
    "list_sales = []\n",
    "list_proba_sales = []\n",
    "for i in range(num_online_users):\n",
    "\n",
    "    # Reset env and set done to False.\n",
    "    env.reset()\n",
    "    observation, _, done, _ = env.step(None)\n",
    "    reward = None\n",
    "    done = None\n",
    "    list_sales.append([])\n",
    "    while not done:\n",
    "        action = agent.act(observation, reward, done)\n",
    "        observation, reward, done, info = env.step(action['a'])\n",
    "        list_sales[i].append(reward)\n",
    "        \n",
    "        # Used for calculating share of sales\n",
    "        num_sales += reward if reward is not None else 0\n",
    "        num_events += 1\n",
    "    list_proba_sales.append(deepcopy(env).proba_sales)\n",
    "    \n",
    "share_sales = num_sales / num_events\n",
    "\n",
    "print(f\"Share of sales: {share_sales:.4f}\")"
   ]
  },
  {
   "cell_type": "markdown",
   "metadata": {},
   "source": [
    "<font color=blue> **The share of sales reprensents the number of sales / number of recommendations**  </font>"
   ]
  },
  {
   "cell_type": "code",
   "execution_count": 12,
   "metadata": {},
   "outputs": [
    {
     "name": "stdout",
     "output_type": "stream",
     "text": [
      "Share of sales: 0.0339\n"
     ]
    },
    {
     "data": {
      "image/png": "[encoded data removed]",
      "text/plain": [
       "<Figure size 432x288 with 1 Axes>"
      ]
     },
     "metadata": {
      "needs_background": "light"
     },
     "output_type": "display_data"
    }
   ],
   "source": [
    "print(f\"Share of sales: {share_sales:.4f}\")\n",
    "\n",
    "# Share of sales for each user (number of sales / recos)\n",
    "plt.hist([sum(list_sales[i])/len(list_sales[i]) for i in range(num_online_users)], bins=20)\n",
    "plt.title(\"Share of sales (number of sales / nb recos), per user\")\n",
    "plt.show()"
   ]
  },
  {
   "cell_type": "code",
   "execution_count": 13,
   "metadata": {},
   "outputs": [
    {
     "data": {
      "text/plain": [
       "Text(0.5, 1.0, 'Total number of sales (all sessions, per user)')"
      ]
     },
     "execution_count": 13,
     "metadata": {},
     "output_type": "execute_result"
    },
    {
     "data": {
      "image/png": "[encoded data removed]",
      "text/plain": [
       "<Figure size 432x288 with 1 Axes>"
      ]
     },
     "metadata": {
      "needs_background": "light"
     },
     "output_type": "display_data"
    }
   ],
   "source": [
    "plt.hist([np.sum(list_sales[i]) for i in range(num_online_users)], bins=20)\n",
    "plt.title(\"Total number of sales (all sessions, per user)\")"
   ]
  },
  {
   "cell_type": "code",
   "execution_count": 14,
   "metadata": {},
   "outputs": [
    {
     "name": "stdout",
     "output_type": "stream",
     "text": [
      "[0 1 2 3 4 6 8]\n"
     ]
    },
    {
     "data": {
      "image/png": "[encoded data removed]",
      "text/plain": [
       "<Figure size 432x288 with 1 Axes>"
      ]
     },
     "metadata": {
      "needs_background": "light"
     },
     "output_type": "display_data"
    },
    {
     "data": {
      "image/png": "[encoded data removed]",
      "text/plain": [
       "<Figure size 432x288 with 1 Axes>"
      ]
     },
     "metadata": {
      "needs_background": "light"
     },
     "output_type": "display_data"
    }
   ],
   "source": [
    "# Number of products bought\n",
    "all_sales = np.array([item for sublist in list_sales for item in sublist])\n",
    "print(np.unique(all_sales))\n",
    "\n",
    "plt.hist(all_sales,bins = 20)\n",
    "plt.title(\"Number of products bought during (per session, all users)\")\n",
    "plt.show()\n",
    "\n",
    "plt.hist(all_sales[all_sales>0],bins = 20)\n",
    "plt.title(\"Number of products bought (per session, all users, if sale)\")\n",
    "plt.show()"
   ]
  },
  {
   "cell_type": "markdown",
   "metadata": {},
   "source": [
    " "
   ]
  },
  {
   "cell_type": "markdown",
   "metadata": {},
   "source": [
    "<font color=blue> **For different users, we look at the number of sales for each reco. We compare with the true proba of drawing a sale. The proba of drawing a sale seems high wrt the share of sale, but it's because the user can get stuck in the bandit state for which the sale is automatically 0**  </font>"
   ]
  },
  {
   "cell_type": "code",
   "execution_count": 15,
   "metadata": {},
   "outputs": [
    {
     "name": "stdout",
     "output_type": "stream",
     "text": [
      "\n",
      "user 0\n",
      "sales for each reco :  [0, 0, 0, 0, 0, 0, 0, 0, 0, 0, 0, 0, 0, 0, 0, 0, 0, 0, 0, 0, 0, 0, 0, 0, 0, 0, 0, 0, 0, 0, 0, 0, 0, 0, 0, 0, 0, 0, 0, 0, 0, 0, 0, 2, 0, 0, 0, 0, 0, 0, 0, 0, 0, 0, 0, 0]\n",
      "proba of sale once in organic state :  {0: [0.1485249944780214, 0.14668889311446986, 0.30820563240098164, 0.8361093342838641, 0.16119536465508486, 0.8928517848431207, 0.9994135815495836, 0.33204005182595764, 0.601655456880178, 0.9993440998356832]}\n",
      "\n",
      "user 1\n",
      "sales for each reco :  [0, 0, 0, 0, 0, 0, 0, 0, 0, 0, 0, 0, 0, 0, 0, 0, 0, 0, 0, 0, 0, 0, 0, 2, 0, 0, 0, 0, 0, 0, 0, 0, 0, 0, 0, 0, 0, 0, 0, 0, 0, 0, 0, 0, 0, 0, 0, 0, 0, 0, 0, 0, 0, 0, 0, 0, 0, 0, 0, 0, 2, 0, 0, 0, 0, 0, 0, 0, 0, 0, 0, 0, 0, 0, 0, 0, 0, 0, 0, 0, 2, 0, 0, 0, 0, 0, 0, 0, 0, 0, 0, 0, 0, 0, 0, 4, 0, 0, 0, 0, 0, 0, 0, 0, 0, 0, 0, 0, 0, 0, 0, 0, 0, 0, 0, 0, 0, 0, 0, 0, 0, 0, 0, 0, 0, 0, 0, 0, 0, 0, 0, 0, 0, 0, 0, 0, 0, 0, 0, 0, 0, 0, 0, 0, 1, 0, 0, 0, 0, 0, 0, 0, 0, 0, 0, 0, 0, 0, 0, 0, 0, 0, 0, 0, 0, 0, 0, 0, 0, 0, 0, 0, 0, 0, 0, 0, 0, 0, 0, 0, 0, 0, 0, 0, 0, 0, 0, 0, 0, 0, 0, 0, 0, 0, 0, 0, 0, 0, 0, 0, 0, 0, 0, 0, 0, 0, 0, 1, 0, 0, 0, 0, 0, 0, 0, 0, 0, 0, 0, 0, 0, 0, 0, 0, 3, 0, 0, 0, 0, 0, 0, 1, 0, 0, 0, 0, 0, 0, 0, 0, 0, 0, 0, 0, 0, 0, 0, 0, 0, 0, 0, 0, 0, 0, 0, 0, 0, 0, 0, 0, 0, 0, 0, 0, 0, 0, 0, 0, 0, 0, 0, 0, 0, 0, 0, 0, 0, 0, 0, 0, 0, 0, 0, 0, 0, 0, 0, 0, 0, 0, 0, 0, 0, 0, 0, 0, 0, 0, 0, 0, 0, 0, 0, 0, 0, 0, 0, 0, 0, 0, 0, 0, 0, 0, 0, 0, 0, 0, 0, 0, 0, 0, 0, 0, 0, 0, 0, 0, 0, 0, 0, 0, 0, 0, 0, 0, 0, 0, 0, 0, 0, 0, 0, 0, 0, 0, 0, 0, 0, 0, 0, 0, 0, 0, 0, 0, 0, 0, 0, 0, 0, 0, 0, 0, 0, 0, 0, 0, 0, 0, 0, 1, 0, 0, 0, 0, 0, 0, 0, 0, 0, 0, 0, 0, 0, 0, 0, 0, 0, 0, 0, 0, 0, 0, 0, 0, 0, 0, 0, 0, 0, 2, 0, 0, 0, 0, 0, 0, 0, 0, 0, 0, 0, 0, 0, 0, 0, 0, 0, 0, 1, 0, 0]\n",
      "proba of sale once in organic state :  {0: [0.06795375723619897, 0.8794295788135467, 0.9037816350118332, 0.883683434761404, 0.8877959531036597, 0.8365930064955458, 0.978039338762782, 0.8535296605269749, 0.962913028282255, 0.9649788462951003, 0.9741061832637931, 0.9660918277981221, 0.9661663141513548, 0.24635546781046785, 0.22706332184067055, 0.9685939392582942, 0.9559727643114722, 0.987638977209914, 0.9599129491584536, 0.2586354339173663, 0.967580712079557, 0.9873449271493461, 0.979234946878436, 0.9802829634223504, 0.9863449026209811, 0.22981035826509827, 0.2256206529640782, 0.984038137006674, 0.985571588313721, 0.9882851380047916, 0.9821518662836474, 0.2152141564585814, 0.992917468994756, 0.8737611639850346, 0.8820731987934265, 0.9919905949116468, 0.926997378160098, 0.9188181818527085, 0.9140455019743765, 0.8766873150327704, 0.05720862675792582, 0.8514213150825998, 0.8556246470353084, 0.8228389545857061, 0.9746104600243295, 0.8442490500344737, 0.9044232164609256, 0.030791874854573957, 0.9830527012322747, 0.9810562543149398, 0.8217122488219936, 0.8208562200664138, 0.0474680825929173, 0.9227575151763444, 0.6676644530227236, 0.8949253135727718, 0.010568280874686602, 0.6998806297872293, 0.05721613594844385, 0.018945963164896273, 0.012068768798912529, 0.10175386801104458, 0.09872182350089244, 0.937046601402929, 0.9293287403238774, 0.9926668991178472, 0.7273450490344561, 0.0063264725674497205, 0.06665906274413738, 0.7695137328278948, 0.7575955504071872, 0.11189269455160306, 0.9608386787672596, 0.1257455311692351, 0.12597628187612994, 0.9271862684760311, 0.10294727612575034, 0.10985209981040348, 0.946404688742833, 0.5459781294226415, 0.9612291986663786, 0.9956689698217721, 0.10468745904208232, 0.09926795611406627, 0.08963565491166925, 0.08429512998376254, 0.08847283868717248, 0.09878299615428494, 0.07357043525292402, 0.09465675958432594, 0.4138649781777132, 0.4258686006312794, 0.45212622869797964, 0.08723938047315481, 0.08196738125779024, 0.09975766976452716, 0.10883591654657822, 0.4816007138168506, 0.44856722285413986, 0.1111899326815143, 0.10084642173148947, 0.40352812950105205, 0.11844215134123907, 0.09494103940191374, 0.43408188834539124, 0.11088623233741737, 0.5307722666081939, 0.11300114397971292, 0.93625844674368, 0.11121168814104383, 0.08592595493236904, 0.08583739270108562, 0.6309780407973642, 0.11105527756510301, 0.5985795478161408, 0.1631234628576172, 0.9870028071292423, 0.19826227709853472, 0.2023937150750564, 0.20957637518856193, 0.17641143864989628, 0.18788774477410866, 0.33282562876116173, 0.2274570451621159, 0.22260704368708695, 0.21373127104633527, 0.19780056954612588, 0.18107203846181147, 0.1737770693227204, 0.20506924823932404, 0.19457869379364007]}\n",
      "\n",
      "user 2\n",
      "sales for each reco :  [0, 0, 0, 0, 0, 0, 0, 0, 0, 0, 0, 0, 0, 0, 0, 0, 0, 0, 0, 0, 0, 3, 2, 0, 0, 0, 0, 0, 0, 0, 0, 0, 0, 0, 0, 0, 0, 0, 0, 0, 0, 1, 0, 0, 0, 0, 0, 0, 0, 0, 0, 0, 0, 0, 0, 0, 0, 0, 0, 0, 0, 0]\n",
      "proba of sale once in organic state :  {0: [0.8767162396046853, 0.8997189888774144, 0.9092022417234584, 0.8946877525830691, 0.888308523883745, 0.9016615481734127, 0.850322093659364, 0.9362794158952523, 0.9333740209792051, 0.8907458318684766, 0.8960785299582484, 0.9047705257152602, 0.9893154244827534, 0.29720500845895215, 0.8800703426986978, 0.8650954797728982, 0.8786521497696517, 0.8604712563338884, 0.8481378623513711, 0.8622691529065781, 0.8637432304632652, 0.8276603544719132, 0.8801818598535747, 0.9289277869167399, 0.9463030405865197, 0.9019877279478402, 0.9099605432969682, 0.16816221598170458, 0.9068045669566682, 0.8995818913031709]}\n",
      "\n",
      "user 3\n",
      "sales for each reco :  [0, 0, 0, 0, 0, 0, 0, 0, 0, 0, 0, 0, 0, 0, 0, 0, 0, 0, 0, 0, 0, 0, 0, 0, 0, 0]\n",
      "proba of sale once in organic state :  {0: [0.14412172126391637, 0.12672184120355393, 0.12460184738700845, 0.13165046177692152, 0.9991772508767149, 0.1318302996409004]}\n",
      "\n",
      "user 4\n",
      "sales for each reco :  [0, 0, 0, 0, 0, 0, 0, 0, 0, 0, 0, 0, 0, 0, 0, 0, 0, 0, 0]\n",
      "proba of sale once in organic state :  {0: [0.5607993373898977]}\n"
     ]
    }
   ],
   "source": [
    "for i in range(5) :\n",
    "    print(\"\\nuser \"+str(i))\n",
    "    print(\"sales for each reco : \",list_sales[i])\n",
    "    print(\"proba of sale once in organic state : \", list_proba_sales[i])"
   ]
  },
  {
   "cell_type": "markdown",
   "metadata": {},
   "source": [
    "## Testing our first agent\n",
    "\n",
    "Now we have created our popularity based agent, and we should test it against an even simpler baseline - one that performs no learning and recommends products uniformly at random. To do this, we will first load a more complex version of the toy data environment called `reco-gym-v1`.\n",
    "\n",
    "Next, we will load another agent for our agent to compete against each other. Here you can see we make use of the `RandomAgent` and create an instance of it in addition to our `PopularityAgent`."
   ]
  },
  {
   "cell_type": "code",
   "execution_count": 16,
   "metadata": {},
   "outputs": [],
   "source": [
    "import gym, recogym\n",
    "from recogym import env_2_args\n",
    "\n",
    "env_2_args['random_seed'] = 42\n",
    "\n",
    "env = gym.make('reco-gym-v2')\n",
    "env.init_gym(env_2_args)\n",
    "\n",
    "# Import the random agent.\n",
    "from recogym.agents import RandomAgent, random_args\n",
    "\n",
    "# Create the two agents.\n",
    "num_products = env_2_args['num_products']\n",
    "popularity_agent = PopularityAgent(Configuration(env_2_args))\n",
    "agent_rand = RandomAgent(Configuration({\n",
    "    **env_2_args,\n",
    "    **random_args,\n",
    "}))"
   ]
  },
  {
   "cell_type": "markdown",
   "metadata": {},
   "source": [
    "Now we have instances of our two agents. We can use the `test_agent` method from RecoGym and compare there performance.\n",
    "\n",
    "To use `test_agent`, one must provide a copy of the current env, a copy of the agent class, the number of training users and the number of testing users. "
   ]
  },
  {
   "cell_type": "code",
   "execution_count": 17,
   "metadata": {},
   "outputs": [
    {
     "name": "stderr",
     "output_type": "stream",
     "text": [
      "Organic Users: 0it [00:00, ?it/s]\n",
      "Users:   0%|                                                                                  | 0/1000 [00:00<?, ?it/s]"
     ]
    },
    {
     "name": "stdout",
     "output_type": "stream",
     "text": [
      "START: Agent Training #0\n",
      "START: Agent Training @ Epoch #0\n"
     ]
    },
    {
     "name": "stderr",
     "output_type": "stream",
     "text": [
      "Users: 100%|███████████████████████████████████████████████████████████████████████| 1000/1000 [00:30<00:00, 32.78it/s]\n",
      "Organic Users: 0it [00:00, ?it/s]\n",
      "Users:   0%|▎                                                                         | 4/1000 [00:00<00:25, 39.24it/s]"
     ]
    },
    {
     "name": "stdout",
     "output_type": "stream",
     "text": [
      "END: Agent Training @ Epoch #0 (30.510118007659912s)\n",
      "START: Agent Evaluating @ Epoch #0\n"
     ]
    },
    {
     "name": "stderr",
     "output_type": "stream",
     "text": [
      "Users: 100%|███████████████████████████████████████████████████████████████████████| 1000/1000 [00:29<00:00, 33.71it/s]\n"
     ]
    },
    {
     "name": "stdout",
     "output_type": "stream",
     "text": [
      "END: Agent Evaluating @ Epoch #0 (29.91408061981201s)\n"
     ]
    },
    {
     "data": {
      "text/plain": [
       "(0.011082732722974376, 0.010377935343359145, 0.011818375981174856)"
      ]
     },
     "execution_count": 17,
     "metadata": {},
     "output_type": "execute_result"
    }
   ],
   "source": [
    "# Credible interval of the CTR median and 0.025 0.975 quantile.\n",
    "recogym.test_agent(deepcopy(env), deepcopy(agent_rand), 1000, 1000)"
   ]
  },
  {
   "cell_type": "code",
   "execution_count": 18,
   "metadata": {},
   "outputs": [
    {
     "name": "stderr",
     "output_type": "stream",
     "text": [
      "Organic Users: 0it [00:00, ?it/s]\n",
      "Users:   0%|                                                                                  | 0/1000 [00:00<?, ?it/s]"
     ]
    },
    {
     "name": "stdout",
     "output_type": "stream",
     "text": [
      "START: Agent Training #0\n",
      "START: Agent Training @ Epoch #0\n"
     ]
    },
    {
     "name": "stderr",
     "output_type": "stream",
     "text": [
      "Users: 100%|███████████████████████████████████████████████████████████████████████| 1000/1000 [00:28<00:00, 35.16it/s]\n",
      "Organic Users: 0it [00:00, ?it/s]\n",
      "Users:   1%|▍                                                                         | 6/1000 [00:00<00:18, 54.58it/s]"
     ]
    },
    {
     "name": "stdout",
     "output_type": "stream",
     "text": [
      "END: Agent Training @ Epoch #0 (28.448633432388306s)\n",
      "START: Agent Evaluating @ Epoch #0\n"
     ]
    },
    {
     "name": "stderr",
     "output_type": "stream",
     "text": [
      "Users: 100%|███████████████████████████████████████████████████████████████████████| 1000/1000 [00:33<00:00, 30.28it/s]\n"
     ]
    },
    {
     "name": "stdout",
     "output_type": "stream",
     "text": [
      "END: Agent Evaluating @ Epoch #0 (33.28021311759949s)\n"
     ]
    },
    {
     "data": {
      "text/plain": [
       "(0.01331412102746486, 0.012535611258668868, 0.014123772436938409)"
      ]
     },
     "execution_count": 18,
     "metadata": {},
     "output_type": "execute_result"
    }
   ],
   "source": [
    "# Credible interval of the CTR median and 0.025 0.975 quantile.\n",
    "recogym.test_agent(deepcopy(env), deepcopy(popularity_agent), 1000, 1000) "
   ]
  },
  {
   "cell_type": "markdown",
   "metadata": {},
   "source": [
    "We see an improvement in the click-through rate for the popularity agent."
   ]
  }
 ],
 "metadata": {
  "kernelspec": {
   "display_name": "Python 3",
   "language": "python",
   "name": "python3"
  },
  "language_info": {
   "codemirror_mode": {
    "name": "ipython",
    "version": 3
   },
   "file_extension": ".py",
   "mimetype": "text/x-python",
   "name": "python",
   "nbconvert_exporter": "python",
   "pygments_lexer": "ipython3",
   "version": "3.7.4"
  }
 },
 "nbformat": 4,
 "nbformat_minor": 2
}
