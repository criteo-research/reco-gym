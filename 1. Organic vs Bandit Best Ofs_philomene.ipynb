{
 "cells": [
  {
   "cell_type": "code",
   "execution_count": 1,
   "metadata": {},
   "outputs": [],
   "source": [
    "# # If recogym is not yet installed in your environment, run:\n",
    "# !pip install recogym"
   ]
  },
  {
   "cell_type": "markdown",
   "metadata": {},
   "source": [
    "## Bandit Feedback - Organic Best of vs. Bandit Best of\n",
    "\n",
    "In this notebook, we use the bandit signal (how users react to ads) for the first time, in the simplest possible way.  We compare how a recommender system that always makes the most popular organic product as a recommended with a recommender system that always makes the most popular bandit product.\n",
    "\n",
    "We see that there can be differences in behavior."
   ]
  },
  {
   "cell_type": "code",
   "execution_count": 1,
   "metadata": {},
   "outputs": [],
   "source": [
    "import gym, recogym\n",
    "from recogym import env_2_args, Configuration\n",
    "import matplotlib.pyplot as plt\n",
    "import seaborn as sns\n",
    "import numpy as np\n",
    "from recogym.envs.utils_sale import *\n",
    "\n",
    "%matplotlib inline\n",
    "\n",
    "plt.rcParams['figure.figsize'] = [6, 3]\n",
    "\n",
    "num_users = 1000\n",
    "num_products = 10\n",
    "\n",
    "env_2_args['sigma_mu_organic'] = 2\n",
    "env_2_args['sigma_omega'] = 2.\n",
    "env_2_args['random_seed'] = 42\n",
    "env_2_args['num_products'] = num_products\n",
    "env_2_args['K'] = 2\n",
    "env_2_args['number_of_flips'] = 2\n",
    "env = gym.make('reco-gym-v2')\n",
    "env.init_gym(env_2_args)"
   ]
  },
  {
   "cell_type": "code",
   "execution_count": 2,
   "metadata": {},
   "outputs": [
    {
     "name": "stderr",
     "output_type": "stream",
     "text": [
      "Organic Users: 0it [00:00, ?it/s]\n",
      "Users: 100%|███████████████████████████████████████████████████████████████████████| 1000/1000 [00:57<00:00, 17.30it/s]\n"
     ]
    }
   ],
   "source": [
    "# We can generate data for many user at once with env.generate_logs\n",
    "data = env.generate_logs(num_users)"
   ]
  },
  {
   "cell_type": "code",
   "execution_count": 3,
   "metadata": {},
   "outputs": [
    {
     "data": {
      "text/html": [
       "<div>\n",
       "<style scoped>\n",
       "    .dataframe tbody tr th:only-of-type {\n",
       "        vertical-align: middle;\n",
       "    }\n",
       "\n",
       "    .dataframe tbody tr th {\n",
       "        vertical-align: top;\n",
       "    }\n",
       "\n",
       "    .dataframe thead th {\n",
       "        text-align: right;\n",
       "    }\n",
       "</style>\n",
       "<table border=\"1\" class=\"dataframe\">\n",
       "  <thead>\n",
       "    <tr style=\"text-align: right;\">\n",
       "      <th></th>\n",
       "      <th>t</th>\n",
       "      <th>u</th>\n",
       "      <th>z</th>\n",
       "      <th>v</th>\n",
       "      <th>a</th>\n",
       "      <th>c</th>\n",
       "      <th>r</th>\n",
       "      <th>ps</th>\n",
       "      <th>ps-a</th>\n",
       "    </tr>\n",
       "  </thead>\n",
       "  <tbody>\n",
       "    <tr>\n",
       "      <th>0</th>\n",
       "      <td>0.0</td>\n",
       "      <td>0</td>\n",
       "      <td>organic</td>\n",
       "      <td>0</td>\n",
       "      <td>&lt;NA&gt;</td>\n",
       "      <td>NaN</td>\n",
       "      <td>NaN</td>\n",
       "      <td>NaN</td>\n",
       "      <td>None</td>\n",
       "    </tr>\n",
       "    <tr>\n",
       "      <th>1</th>\n",
       "      <td>1.0</td>\n",
       "      <td>0</td>\n",
       "      <td>organic</td>\n",
       "      <td>1</td>\n",
       "      <td>&lt;NA&gt;</td>\n",
       "      <td>NaN</td>\n",
       "      <td>NaN</td>\n",
       "      <td>NaN</td>\n",
       "      <td>None</td>\n",
       "    </tr>\n",
       "    <tr>\n",
       "      <th>2</th>\n",
       "      <td>2.0</td>\n",
       "      <td>0</td>\n",
       "      <td>bandit</td>\n",
       "      <td>&lt;NA&gt;</td>\n",
       "      <td>5</td>\n",
       "      <td>0.0</td>\n",
       "      <td>0.0</td>\n",
       "      <td>0.1</td>\n",
       "      <td>()</td>\n",
       "    </tr>\n",
       "    <tr>\n",
       "      <th>3</th>\n",
       "      <td>3.0</td>\n",
       "      <td>0</td>\n",
       "      <td>bandit</td>\n",
       "      <td>&lt;NA&gt;</td>\n",
       "      <td>0</td>\n",
       "      <td>0.0</td>\n",
       "      <td>0.0</td>\n",
       "      <td>0.1</td>\n",
       "      <td>()</td>\n",
       "    </tr>\n",
       "    <tr>\n",
       "      <th>4</th>\n",
       "      <td>0.0</td>\n",
       "      <td>1</td>\n",
       "      <td>organic</td>\n",
       "      <td>0</td>\n",
       "      <td>&lt;NA&gt;</td>\n",
       "      <td>NaN</td>\n",
       "      <td>NaN</td>\n",
       "      <td>NaN</td>\n",
       "      <td>None</td>\n",
       "    </tr>\n",
       "    <tr>\n",
       "      <th>...</th>\n",
       "      <td>...</td>\n",
       "      <td>...</td>\n",
       "      <td>...</td>\n",
       "      <td>...</td>\n",
       "      <td>...</td>\n",
       "      <td>...</td>\n",
       "      <td>...</td>\n",
       "      <td>...</td>\n",
       "      <td>...</td>\n",
       "    </tr>\n",
       "    <tr>\n",
       "      <th>106145</th>\n",
       "      <td>122.0</td>\n",
       "      <td>999</td>\n",
       "      <td>bandit</td>\n",
       "      <td>&lt;NA&gt;</td>\n",
       "      <td>9</td>\n",
       "      <td>0.0</td>\n",
       "      <td>0.0</td>\n",
       "      <td>0.1</td>\n",
       "      <td>()</td>\n",
       "    </tr>\n",
       "    <tr>\n",
       "      <th>106146</th>\n",
       "      <td>123.0</td>\n",
       "      <td>999</td>\n",
       "      <td>bandit</td>\n",
       "      <td>&lt;NA&gt;</td>\n",
       "      <td>8</td>\n",
       "      <td>0.0</td>\n",
       "      <td>0.0</td>\n",
       "      <td>0.1</td>\n",
       "      <td>()</td>\n",
       "    </tr>\n",
       "    <tr>\n",
       "      <th>106147</th>\n",
       "      <td>124.0</td>\n",
       "      <td>999</td>\n",
       "      <td>bandit</td>\n",
       "      <td>&lt;NA&gt;</td>\n",
       "      <td>4</td>\n",
       "      <td>0.0</td>\n",
       "      <td>0.0</td>\n",
       "      <td>0.1</td>\n",
       "      <td>()</td>\n",
       "    </tr>\n",
       "    <tr>\n",
       "      <th>106148</th>\n",
       "      <td>125.0</td>\n",
       "      <td>999</td>\n",
       "      <td>bandit</td>\n",
       "      <td>&lt;NA&gt;</td>\n",
       "      <td>7</td>\n",
       "      <td>0.0</td>\n",
       "      <td>0.0</td>\n",
       "      <td>0.1</td>\n",
       "      <td>()</td>\n",
       "    </tr>\n",
       "    <tr>\n",
       "      <th>106149</th>\n",
       "      <td>126.0</td>\n",
       "      <td>999</td>\n",
       "      <td>bandit</td>\n",
       "      <td>&lt;NA&gt;</td>\n",
       "      <td>9</td>\n",
       "      <td>0.0</td>\n",
       "      <td>0.0</td>\n",
       "      <td>0.1</td>\n",
       "      <td>()</td>\n",
       "    </tr>\n",
       "  </tbody>\n",
       "</table>\n",
       "<p>106150 rows × 9 columns</p>\n",
       "</div>"
      ],
      "text/plain": [
       "            t    u        z     v     a    c    r   ps  ps-a\n",
       "0         0.0    0  organic     0  <NA>  NaN  NaN  NaN  None\n",
       "1         1.0    0  organic     1  <NA>  NaN  NaN  NaN  None\n",
       "2         2.0    0   bandit  <NA>     5  0.0  0.0  0.1    ()\n",
       "3         3.0    0   bandit  <NA>     0  0.0  0.0  0.1    ()\n",
       "4         0.0    1  organic     0  <NA>  NaN  NaN  NaN  None\n",
       "...       ...  ...      ...   ...   ...  ...  ...  ...   ...\n",
       "106145  122.0  999   bandit  <NA>     9  0.0  0.0  0.1    ()\n",
       "106146  123.0  999   bandit  <NA>     8  0.0  0.0  0.1    ()\n",
       "106147  124.0  999   bandit  <NA>     4  0.0  0.0  0.1    ()\n",
       "106148  125.0  999   bandit  <NA>     7  0.0  0.0  0.1    ()\n",
       "106149  126.0  999   bandit  <NA>     9  0.0  0.0  0.1    ()\n",
       "\n",
       "[106150 rows x 9 columns]"
      ]
     },
     "metadata": {},
     "output_type": "display_data"
    },
    {
     "data": {
      "text/plain": [
       "array(['organic', 'bandit', 'sale'], dtype=object)"
      ]
     },
     "execution_count": 3,
     "metadata": {},
     "output_type": "execute_result"
    }
   ],
   "source": [
    "display(data)\n",
    "data[\"z\"].unique()"
   ]
  },
  {
   "cell_type": "code",
   "execution_count": 4,
   "metadata": {},
   "outputs": [
    {
     "data": {
      "text/html": [
       "<div>\n",
       "<style scoped>\n",
       "    .dataframe tbody tr th:only-of-type {\n",
       "        vertical-align: middle;\n",
       "    }\n",
       "\n",
       "    .dataframe tbody tr th {\n",
       "        vertical-align: top;\n",
       "    }\n",
       "\n",
       "    .dataframe thead th {\n",
       "        text-align: right;\n",
       "    }\n",
       "</style>\n",
       "<table border=\"1\" class=\"dataframe\">\n",
       "  <thead>\n",
       "    <tr style=\"text-align: right;\">\n",
       "      <th></th>\n",
       "      <th>t</th>\n",
       "      <th>u</th>\n",
       "      <th>z</th>\n",
       "      <th>v</th>\n",
       "      <th>a</th>\n",
       "      <th>c</th>\n",
       "      <th>r</th>\n",
       "      <th>ps</th>\n",
       "      <th>ps-a</th>\n",
       "    </tr>\n",
       "  </thead>\n",
       "  <tbody>\n",
       "    <tr>\n",
       "      <th>42</th>\n",
       "      <td>36.0</td>\n",
       "      <td>1</td>\n",
       "      <td>bandit</td>\n",
       "      <td>&lt;NA&gt;</td>\n",
       "      <td>0</td>\n",
       "      <td>1.0</td>\n",
       "      <td>0.0</td>\n",
       "      <td>0.1</td>\n",
       "      <td>()</td>\n",
       "    </tr>\n",
       "    <tr>\n",
       "      <th>43</th>\n",
       "      <td>37.0</td>\n",
       "      <td>1</td>\n",
       "      <td>organic</td>\n",
       "      <td>7</td>\n",
       "      <td>&lt;NA&gt;</td>\n",
       "      <td>NaN</td>\n",
       "      <td>NaN</td>\n",
       "      <td>NaN</td>\n",
       "      <td>None</td>\n",
       "    </tr>\n",
       "    <tr>\n",
       "      <th>44</th>\n",
       "      <td>38.0</td>\n",
       "      <td>1</td>\n",
       "      <td>organic</td>\n",
       "      <td>9</td>\n",
       "      <td>&lt;NA&gt;</td>\n",
       "      <td>NaN</td>\n",
       "      <td>NaN</td>\n",
       "      <td>NaN</td>\n",
       "      <td>None</td>\n",
       "    </tr>\n",
       "    <tr>\n",
       "      <th>45</th>\n",
       "      <td>39.0</td>\n",
       "      <td>1</td>\n",
       "      <td>organic</td>\n",
       "      <td>0</td>\n",
       "      <td>&lt;NA&gt;</td>\n",
       "      <td>NaN</td>\n",
       "      <td>NaN</td>\n",
       "      <td>NaN</td>\n",
       "      <td>None</td>\n",
       "    </tr>\n",
       "    <tr>\n",
       "      <th>46</th>\n",
       "      <td>40.0</td>\n",
       "      <td>1</td>\n",
       "      <td>organic</td>\n",
       "      <td>5</td>\n",
       "      <td>&lt;NA&gt;</td>\n",
       "      <td>NaN</td>\n",
       "      <td>NaN</td>\n",
       "      <td>NaN</td>\n",
       "      <td>None</td>\n",
       "    </tr>\n",
       "  </tbody>\n",
       "</table>\n",
       "</div>"
      ],
      "text/plain": [
       "       t  u        z     v     a    c    r   ps  ps-a\n",
       "42  36.0  1   bandit  <NA>     0  1.0  0.0  0.1    ()\n",
       "43  37.0  1  organic     7  <NA>  NaN  NaN  NaN  None\n",
       "44  38.0  1  organic     9  <NA>  NaN  NaN  NaN  None\n",
       "45  39.0  1  organic     0  <NA>  NaN  NaN  NaN  None\n",
       "46  40.0  1  organic     5  <NA>  NaN  NaN  NaN  None"
      ]
     },
     "execution_count": 4,
     "metadata": {},
     "output_type": "execute_result"
    }
   ],
   "source": [
    "index = data[data[\"c\"]==1].index[0]\n",
    "data.iloc[index:index+5]"
   ]
  },
  {
   "cell_type": "markdown",
   "metadata": {},
   "source": [
    "Here is the data the following columns are present:\n",
    "* **`t`**—_`Time`_. Currently, _`Time`_ reflects the order of _`Events`_, but it does **not** represent the notion of the time in a physical sense.\n",
    "* **`u`**—_`User`_.\n",
    "* **`z`**—_`Event Type`_. There are two types of _`Events`_: _Organic_ and _Bandit_.\n",
    "* **`v`**—_`View`_. The column shows which _`Product`_ was shown to a _`User`_ in an _Organic_ _`Event`_.\n",
    "* **`a`**—_`Action`_. Currently, _`Action`_ is a _`Product`_ that was provided to a _`User`_ during a _Bandit_ _`Event`_.\n",
    "* **`c`**—_`Click`_. It is a _Reward_ for an _`Action`_ provided by the _`Agent`_.\n",
    "* **`ps`**—Probability of selecting a particular _`Action`_.\n",
    "\n",
    "**Note #1:** _`Time`_ , _`User`_ , _`Views`_ , and _`Actions`_ **all** they start with _`0`_.\n",
    "\n",
    "**Note #2:** For any _`User`_, _Organic_ _`Event`_ _**always**_ precedes a _Bandit_ _`Event`_."
   ]
  },
  {
   "cell_type": "markdown",
   "metadata": {},
   "source": [
    "## Data Analysis\n",
    "Let's analyze these histograms:\n",
    "* _Actions per Product_\n",
    "* _Clicks per Product_\n",
    "* _Views per Product_."
   ]
  },
  {
   "cell_type": "code",
   "execution_count": 5,
   "metadata": {},
   "outputs": [
    {
     "data": {
      "image/png": "[encoded data removed]",
      "text/plain": [
       "<Figure size 432x216 with 1 Axes>"
      ]
     },
     "metadata": {
      "needs_background": "light"
     },
     "output_type": "display_data"
    }
   ],
   "source": [
    "plt.title('Number of actions per product')\n",
    "taken_actions = data[data['z'] == 'bandit']['a']\n",
    "actions, action_counts = np.unique(taken_actions, return_counts=True)\n",
    "plt.bar(actions, action_counts)\n",
    "plt.show()"
   ]
  },
  {
   "cell_type": "markdown",
   "metadata": {},
   "source": [
    "All _`Actions`_ are _*evenly*_ distributed: each product is as likely to be recommended since the logs come from the realization of a random policy (the default random agent).\n",
    "It is not typical behavior (usually actions are personalized, not random), and we will relax this assumption later in the course."
   ]
  },
  {
   "cell_type": "code",
   "execution_count": 6,
   "metadata": {},
   "outputs": [
    {
     "data": {
      "image/png": "[encoded data removed]",
      "text/plain": [
       "<Figure size 432x216 with 1 Axes>"
      ]
     },
     "metadata": {
      "needs_background": "light"
     },
     "output_type": "display_data"
    }
   ],
   "source": [
    "rewarded_actions = data[data['z'] == 'bandit'].loc[data['c'] == 1]['a'] # code here\n",
    "actions, total_rewards = np.unique(rewarded_actions, return_counts=True)\n",
    "\n",
    "plt.title('Histogram of clicks per product')\n",
    "plt.bar(actions, total_rewards)\n",
    "plt.show()"
   ]
  },
  {
   "cell_type": "code",
   "execution_count": 16,
   "metadata": {},
   "outputs": [
    {
     "data": {
      "image/png": "[encoded data removed]",
      "text/plain": [
       "<Figure size 432x216 with 1 Axes>"
      ]
     },
     "metadata": {
      "needs_background": "light"
     },
     "output_type": "display_data"
    }
   ],
   "source": [
    "rewarded_actions = data[data['z'] == 'bandit'].loc[data['r'] > 0]['a'] # code here\n",
    "actions, total_rewards = np.unique(rewarded_actions, return_counts=True)\n",
    "\n",
    "plt.title('Histogram of sales per product')\n",
    "plt.bar(actions, total_rewards)\n",
    "plt.show()"
   ]
  },
  {
   "cell_type": "markdown",
   "metadata": {},
   "source": [
    "We can estimate a click-through rate for each recommendation by dividing the number of times we obtained a click by the number of impressions.  This produces the following \"bandit best of\":"
   ]
  },
  {
   "cell_type": "code",
   "execution_count": 8,
   "metadata": {},
   "outputs": [],
   "source": [
    "from scipy.stats.distributions import beta\n",
    "\n",
    "def get_beta_confidence_interval(n_impressions, n_clicks):\n",
    "    n_unclicked = n_impressions - n_clicks\n",
    "    low_quantile = beta.ppf(0.025, n_clicks + 1, n_unclicked + 1)\n",
    "    median = beta.ppf(0.500, n_clicks + 1, n_unclicked + 1)\n",
    "    high_quantile = beta.ppf(0.975, n_clicks + 1, n_unclicked + 1)\n",
    "    return median - low_quantile, high_quantile - median\n",
    "    "
   ]
  },
  {
   "cell_type": "code",
   "execution_count": 9,
   "metadata": {},
   "outputs": [
    {
     "data": {
      "image/png": "[encoded data removed]",
      "text/plain": [
       "<Figure size 432x216 with 1 Axes>"
      ]
     },
     "metadata": {
      "needs_background": "light"
     },
     "output_type": "display_data"
    }
   ],
   "source": [
    "sales = np.zeros(num_products)\n",
    "lower_errors = np.zeros(num_products)\n",
    "upper_errors = np.zeros(num_products)\n",
    "\n",
    "for product_id in actions.astype(int):\n",
    "    n_impressions = action_counts[product_id]\n",
    "    n_sales = total_rewards[product_id] # code here\n",
    "    \n",
    "    lower_bound, upper_bound = get_beta_confidence_interval(n_impressions, n_sales)\n",
    "    \n",
    "    sales[product_id] = n_sales / n_impressions\n",
    "    lower_errors[product_id] = lower_bound\n",
    "    upper_errors[product_id] = upper_bound\n",
    "\n",
    "plt.title('Sales rate (non personalised)')\n",
    "\n",
    "plt.errorbar(\n",
    "    actions, sales, yerr=(lower_errors, upper_errors),\n",
    "    fmt='o', ecolor='darkred', capsize=4)\n",
    "\n",
    "plt.xlabel('Product ID')\n",
    "plt.ylabel('Sales rate')\n",
    "plt.show()"
   ]
  },
  {
   "cell_type": "markdown",
   "metadata": {},
   "source": [
    "## Greedy agents"
   ]
  },
  {
   "cell_type": "markdown",
   "metadata": {},
   "source": [
    "### Bandit based\n",
    "The non-personalised click-through rate can be used as a non-personalised agent.  It will be our first likelihood-based agent."
   ]
  },
  {
   "cell_type": "code",
   "execution_count": 10,
   "metadata": {},
   "outputs": [],
   "source": [
    "from collections import defaultdict\n",
    "\n",
    "from recogym.agents import Agent\n",
    "\n",
    "class SingleActionAgent(Agent): #++ deterministic\n",
    "    def __init__(self, preferred_action, config = Configuration({'num_products': 10})):\n",
    "        Agent.__init__(self, config)\n",
    "        self.preferred_action = preferred_action\n",
    "        \n",
    "    def act(self, observation, reward, done):\n",
    "        probabilities = np.zeros(self.config.num_products)\n",
    "        probabilities[self.preferred_action] = 1.\n",
    "        return {\n",
    "            **super().act(observation, reward, done),\n",
    "            **{\n",
    "                'a': self.preferred_action,\n",
    "                'ps': probabilities[self.preferred_action],\n",
    "                'ps-a': probabilities,\n",
    "            },\n",
    "        }"
   ]
  },
  {
   "cell_type": "code",
   "execution_count": 11,
   "metadata": {},
   "outputs": [
    {
     "name": "stdout",
     "output_type": "stream",
     "text": [
      "The Greedy-Bandit agent will always take action 0\n"
     ]
    }
   ],
   "source": [
    "# Initialise your agent.\n",
    "top_sales_item = np.argmax(sales) # code here\n",
    "print('The Greedy-Bandit agent will always take action {0}'.format(top_sales_item))\n",
    "greedy_bandit = SingleActionAgent(top_sales_item, Configuration(env_2_args))"
   ]
  },
  {
   "cell_type": "markdown",
   "metadata": {},
   "source": [
    "### Organic based"
   ]
  },
  {
   "cell_type": "markdown",
   "metadata": {},
   "source": [
    "The ads that attract the most clicks are not, in general, the same as the products that are often viewed organically, to see this, we can plot the organic views:"
   ]
  },
  {
   "cell_type": "code",
   "execution_count": 12,
   "metadata": {},
   "outputs": [
    {
     "data": {
      "image/png": "[encoded data removed]",
      "text/plain": [
       "<Figure size 1296x216 with 3 Axes>"
      ]
     },
     "metadata": {
      "needs_background": "light"
     },
     "output_type": "display_data"
    }
   ],
   "source": [
    "product_views =  data[data['z'] == 'organic']['v']\n",
    "products, views_counts = np.unique(product_views, return_counts=True)\n",
    "\n",
    "fig, axes = plt.subplots(1, 3, figsize=(18, 3))\n",
    "axes[0].set_title('Histogram of Views per Product')\n",
    "axes[0].bar(products, views_counts)\n",
    "\n",
    "axes[1].set_title('Histogram of Sales per Product')\n",
    "axes[1].bar(products, sales)\n",
    "\n",
    "sns.regplot(views_counts, sales, ax=axes[2])\n",
    "axes[2].set_title('Sales for number of organic views')\n",
    "axes[2].set_xlabel('Number of organic views')\n",
    "axes[2].set_ylabel('Sales rate')\n",
    "\n",
    "plt.show()"
   ]
  },
  {
   "cell_type": "markdown",
   "metadata": {},
   "source": [
    "While there may be a relationship between popular products and a high click-through rate, it is certainly not guaranteed.  This fact underlies the need to use bandit feedback.  Here we will develop our final organic agent as an organic best-of to hammer this point."
   ]
  },
  {
   "cell_type": "code",
   "execution_count": 13,
   "metadata": {},
   "outputs": [
    {
     "name": "stdout",
     "output_type": "stream",
     "text": [
      "The organic best-of agent will always take action 7\n"
     ]
    }
   ],
   "source": [
    "top_viewed_item = np.argmax(views_counts) # code here\n",
    "print('The organic best-of agent will always take action {0}'.format(top_viewed_item))\n",
    "greedy_organic = SingleActionAgent(top_viewed_item, Configuration(env_2_args))"
   ]
  },
  {
   "cell_type": "code",
   "execution_count": 14,
   "metadata": {},
   "outputs": [
    {
     "name": "stderr",
     "output_type": "stream",
     "text": [
      "Organic Users: 0it [00:00, ?it/s]\n",
      "Users: 100%|███████████████████████████████████████████████████████████████████████| 1000/1000 [00:38<00:00, 26.14it/s]\n",
      "Organic Users: 0it [00:00, ?it/s]\n",
      "Users: 100%|███████████████████████████████████████████████████████████████████████| 1000/1000 [00:37<00:00, 26.85it/s]\n",
      "Organic Users: 0it [00:00, ?it/s]\n",
      "Users: 100%|███████████████████████████████████████████████████████████████████████| 1000/1000 [00:42<00:00, 23.80it/s]\n"
     ]
    },
    {
     "name": "stdout",
     "output_type": "stream",
     "text": [
      "Wall time: 1min 59s\n"
     ]
    }
   ],
   "source": [
    "%%time \n",
    "\n",
    "from recogym.agents import RandomAgent, random_args\n",
    "from recogym.evaluate_agent_sale import verify_agents, plot_verify_agents\n",
    "\n",
    "\n",
    "random_agent = RandomAgent(Configuration({\n",
    "    **env_2_args,\n",
    "    **random_args,\n",
    "}))\n",
    "\n",
    "\n",
    "result = verify_agents(\n",
    "    env, number_of_users = 1000, # try with 5000 for more significant results\n",
    "    agents = {\n",
    "        'Random Agent': random_agent,\n",
    "        'Greedy-Organic aka. best-of': greedy_organic,\n",
    "        'Greedy-Bandit': greedy_bandit,\n",
    "   })"
   ]
  },
  {
   "cell_type": "code",
   "execution_count": 15,
   "metadata": {},
   "outputs": [
    {
     "data": {
      "image/png": "[encoded data removed]",
      "text/plain": [
       "<Figure size 432x216 with 1 Axes>"
      ]
     },
     "metadata": {
      "needs_background": "light"
     },
     "output_type": "display_data"
    }
   ],
   "source": [
    "fig = plot_verify_agents(result)\n",
    "plt.xticks(rotation=0)\n",
    "plt.show()"
   ]
  },
  {
   "cell_type": "markdown",
   "metadata": {},
   "source": [
    "In this environment, the bandit agent is better than best-of and random agents."
   ]
  }
 ],
 "metadata": {
  "kernelspec": {
   "display_name": "Python 3",
   "language": "python",
   "name": "python3"
  },
  "language_info": {
   "codemirror_mode": {
    "name": "ipython",
    "version": 3
   },
   "file_extension": ".py",
   "mimetype": "text/x-python",
   "name": "python",
   "nbconvert_exporter": "python",
   "pygments_lexer": "ipython3",
   "version": "3.7.4"
  }
 },
 "nbformat": 4,
 "nbformat_minor": 4
}
